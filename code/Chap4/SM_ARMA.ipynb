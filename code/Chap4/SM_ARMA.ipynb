{
 "cells": [
  {
   "cell_type": "markdown",
   "metadata": {},
   "source": [
    "# ARMA(2,1) パラメータ推定\n",
    "ARMA(2,1)のデータを生成して，パラメータ推定の様子を見る\n",
    "\n",
    "パラメータの記述の仕方：ARパラメータは，本文とは符号が逆転する<br>\n",
    "statsmodels.tsa.arima_process.ArmaProcess  \n",
    "http://www.statsmodels.org/dev/generated/statsmodels.tsa.arima_process.ArmaProcess.html<br>\n",
    "\n",
    "ARMAの出力サンプルの生成する関数<br>\n",
    "statsmodels.tsa.arima_process.arma_generate_sample<br>\n",
    "https://www.statsmodels.org/stable/generated/statsmodels.tsa.arima_process.arma_generate_sample.html<br>\n",
    "\n",
    "ARMAの出力サンプル生成の例<br>\n",
    "https://www.statsmodels.org/dev/examples/notebooks/generated/tsa_arma_1.html"
   ]
  },
  {
   "cell_type": "markdown",
   "metadata": {},
   "source": [
    "#### 備考\n",
    "statsmodels ver 0.12から，statsmodels.tsa.arima_model.ARMAは非推奨となり，代わりにstatsmodels.tsa.arima.model.ARIMAを用いている。ここに,\n",
    "モデルのIを1とおけばARMAモデルとして扱うことができる。"
   ]
  },
  {
   "cell_type": "code",
   "execution_count": null,
   "metadata": {},
   "outputs": [],
   "source": [
    "# -*- coding: utf-8 -*-\n",
    "import numpy as np\n",
    "import scipy.stats as stats\n",
    "  \n",
    "from statsmodels.tsa.arima_process import arma_generate_sample\n",
    "from statsmodels.tsa.arima.model import ARIMA\n",
    "\n",
    "import matplotlib.pyplot as plt\n",
    "%matplotlib inline"
   ]
  },
  {
   "cell_type": "markdown",
   "metadata": {},
   "source": [
    "データ生成 arma_generate_sample<br>\n",
    "引数の説明：  \n",
    "distrvs: ARMAへの入力でディフォルトは標準正規分布(0, 1) as np.random.randn\n",
    "burnin: 初期期間を何点かで定め，この期間後にデータを出力する。過渡現象を観測しないため。"
   ]
  },
  {
   "cell_type": "code",
   "execution_count": null,
   "metadata": {},
   "outputs": [],
   "source": [
    "ar = [1, -1.5, 0.7] # pole = 0.75 +/- 0.37 j < unit circle\n",
    "ma = [1.0, 0.6]\n",
    "pole = np.roots(ar)\n",
    "print(pole, np.abs(pole))"
   ]
  },
  {
   "cell_type": "code",
   "execution_count": null,
   "metadata": {},
   "outputs": [],
   "source": [
    "np.random.seed(123)\n",
    "nobs = 10000 # 観測データ数\n",
    "dist = stats.norm(loc=0, scale=1.0).rvs\n",
    "y = arma_generate_sample(ar, ma, nsample=nobs, distrvs=dist, burnin=1000)\n",
    "print(type(y))"
   ]
  },
  {
   "cell_type": "markdown",
   "metadata": {},
   "source": [
    "これ以降のセルで用いている関数は次を参照<br>\n",
    "\n",
    "statsmodels.tsa.arima.model.ARIMA<br>\n",
    "https://www.statsmodels.org/stable/generated/statsmodels.tsa.arima.model.ARIMA.html<br>\n",
    ".fit()の作用 statsmodels.tsa.arima.model.ARIMA.fit<br>\n",
    "https://www.statsmodels.org/stable/generated/statsmodels.tsa.arima.model.ARIMA.fit.html<br>\n",
    ".fit()の結果 statsmodels.tsa.arima.model.ARIMAResults<br>\n",
    "https://www.statsmodels.org/stable/generated/statsmodels.tsa.arima.model.ARIMAResults.html<br>"
   ]
  },
  {
   "cell_type": "markdown",
   "metadata": {},
   "source": [
    "真の次数は未知として，幾つかの推定次数を用い，比較する<br>"
   ]
  },
  {
   "cell_type": "code",
   "execution_count": null,
   "metadata": {},
   "outputs": [],
   "source": [
    "arma20 = ARIMA(endog=y, order=(2,0,0), trend='n').fit( ) # order=(p,d,q),  d = 0 in use of ARMA model\n",
    "arma21 = ARIMA(endog=y, order=(2,0,1), trend='n').fit( ) \n",
    "arma32 = ARIMA(endog=y, order=(3,0,2), trend='n').fit( )\n",
    "arma43 = ARIMA(endog=y, order=(4,0,3), trend='n').fit( )"
   ]
  },
  {
   "cell_type": "markdown",
   "metadata": {},
   "source": [
    "## 注意！\n",
    "ARのパラメータの符号は反転している。これは，モデルの立て方でAR部の符号反転を行っているためである。  \n",
    "http://www.statsmodels.org/dev/generated/statsmodels.tsa.arima_process.ArmaProcess.html  \n",
    "\n",
    "\n",
    "このことは，次の例題でもARの符号を反転して与えていることからもわかる<br>\n",
    "http://www.statsmodels.org/dev/examples/notebooks/generated/tsa_arma_1.html  \n",
    "\n",
    "また，極は$z$でなく$z^{-1}$で見ており，単位円外ならば安定極となっている。"
   ]
  },
  {
   "cell_type": "markdown",
   "metadata": {},
   "source": [
    "## 注意！\n",
    "パッケージのバージョン更新に伴い，テキストや書籍の計算結果と少しずつ変わることがある。"
   ]
  },
  {
   "cell_type": "markdown",
   "metadata": {},
   "source": [
    "この例において，summaryで見る項目は，推定パラメータ（ar.Lx, ma.Lx）と推定誤差分散sigma2である。<br>\n",
    "このことは次のsigma2 = ssr / nobsの計算式より言える。<br>\n",
    "https://www.statsmodels.org/stable/_modules/statsmodels/tsa/arima_model.html<br>"
   ]
  },
  {
   "cell_type": "code",
   "execution_count": null,
   "metadata": {
    "scrolled": true
   },
   "outputs": [],
   "source": [
    "print('arma20-----------summary--------------------')\n",
    "print(arma20.summary())\n",
    "print('arma21-----------summary--------------------')\n",
    "print(arma21.summary())\n",
    "print('arma32-----------summary--------------------')\n",
    "print(arma32.summary())\n",
    "print('arma43-----------summary--------------------')\n",
    "print(arma43.summary())"
   ]
  },
  {
   "cell_type": "code",
   "execution_count": null,
   "metadata": {
    "scrolled": true
   },
   "outputs": [],
   "source": [
    "fig = plt.subplots(figsize=(10,3))\n",
    "plt.plot(y, label='y')\n",
    "resid = arma21.resid  # short for residual\n",
    "#print(len(resid))\n",
    "plt.plot(resid, label='resid')\n",
    "plt.xlabel('k')\n",
    "plt.legend()\n",
    "\n",
    "#plt.savefig('fig_SM_ARMA_Resid.png', bbox_inches='tight')\n",
    "plt.show()"
   ]
  },
  {
   "cell_type": "markdown",
   "metadata": {},
   "source": [
    "#### 白色性の検定\n",
    "自己相関をとり，白色であれば，$r(0)$のみに値があり，$r(\\tau), \\tau \\ge 1$は0になる。\n",
    "実際には0にはならないが，ある程度小さければ0とみなす，という考え方。"
   ]
  },
  {
   "cell_type": "code",
   "execution_count": null,
   "metadata": {},
   "outputs": [],
   "source": [
    "auto_corr = np.correlate(resid, resid, mode='full')\n",
    "center = int(len(auto_corr)/2)\n",
    "AutoR = auto_corr[center:]/np.max(auto_corr)\n",
    "plt.xlabel('k')\n",
    "plt.plot(AutoR)\n",
    "\n",
    "#plt.savefig('fig_SM_ARMA_AutoCorr.png')\n",
    "plt.show()\n",
    "    \n",
    "count = 0\n",
    "for k in np.arange(1,len(AutoR)-1):\n",
    "    if np.abs(AutoR[k]) > 2.17/np.sqrt(len(AutoR)):\n",
    "        count += 1\n",
    "    if np.abs(AutoR[k]) < -2.17/np.sqrt(len(AutoR)):\n",
    "        count += 1\n",
    "#        print(\"Warning\", i, AutoR[i])\n",
    "print('count = ', count, ' len(AutoR) = ', len(AutoR), '  rate =', count/len(AutoR))\n",
    "print('k >= 1, max(AutoR[k] =', np.max(AutoR[1:]),  '    min(AutorR[k] =', np.min(AutoR[1:]))"
   ]
  },
  {
   "cell_type": "code",
   "execution_count": null,
   "metadata": {},
   "outputs": [],
   "source": []
  }
 ],
 "metadata": {
  "kernelspec": {
   "display_name": "Python 3",
   "language": "python",
   "name": "python3"
  },
  "language_info": {
   "codemirror_mode": {
    "name": "ipython",
    "version": 3
   },
   "file_extension": ".py",
   "mimetype": "text/x-python",
   "name": "python",
   "nbconvert_exporter": "python",
   "pygments_lexer": "ipython3",
   "version": "3.7.4"
  }
 },
 "nbformat": 4,
 "nbformat_minor": 4
}
