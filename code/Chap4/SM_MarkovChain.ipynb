{
 "cells": [
  {
   "cell_type": "markdown",
   "metadata": {},
   "source": [
    "# マルコフ連鎖，天気の例\n",
    "\n",
    "Wiki マルコフ連鎖：https://ja.wikipedia.org/wiki/マルコフ連鎖"
   ]
  },
  {
   "cell_type": "code",
   "execution_count": null,
   "metadata": {},
   "outputs": [],
   "source": [
    "# -*- coding: utf-8 -*-\n",
    "import numpy as np\n",
    "import matplotlib.pyplot as plt\n",
    "\n",
    "%matplotlib inline"
   ]
  },
  {
   "cell_type": "markdown",
   "metadata": {},
   "source": [
    "#### 天気の遷移データ\n",
    "晴れ：0, 曇り：1，雨：2"
   ]
  },
  {
   "cell_type": "code",
   "execution_count": null,
   "metadata": {
    "scrolled": true
   },
   "outputs": [],
   "source": [
    "weather = \\\n",
    "np.array([0, 0, 2, 1, 0, 0, 0, 0, 1, 0, 0, 1, 2, 2, 2, \\\n",
    "          0, 1, 1, 0, 1, 0, 0, 0, 0, 0, 0, 0, 0, 1, 1])\n",
    "total=np.size(weather)\n",
    "print(\"総日数:\", total, \" 晴れ=\", np.count_nonzero(weather==0), \" 曇り=\",np.count_nonzero(weather==1),\" 雨=\",np.count_nonzero(weather==2))"
   ]
  },
  {
   "cell_type": "markdown",
   "metadata": {},
   "source": [
    "#### 遷移行列（transition matrix）\n",
    "確率遷移行列とも言われる。遷移を推移と称する場合もある。<br>\n",
    "$P(0,0)$，すなわち$p_{00}$の求め方は，weatherの中で$0 \\to 0$となる回数を求め，それと晴れの日との比となる。<br>\n",
    "他の$P(i,j)$も同様であるが，weatherの最後が曇り（1）であるから，曇りの数$-1=7$が分母となる。<br>\n",
    "行方向の和は，各場合分け毎の全確率だから1となる。"
   ]
  },
  {
   "cell_type": "code",
   "execution_count": null,
   "metadata": {},
   "outputs": [],
   "source": [
    "P = np.array([[12/18, 5/18, 1/18],\n",
    "               [4/7,  2/7,  1/7],\n",
    "               [1/4,  1/4,  2/4]])\n",
    "print(np.sum(P, axis=1)) #行方向の確率の総和"
   ]
  },
  {
   "cell_type": "markdown",
   "metadata": {},
   "source": [
    "#### シミュレーション"
   ]
  },
  {
   "cell_type": "code",
   "execution_count": null,
   "metadata": {},
   "outputs": [],
   "source": [
    "Num = 30\n",
    "w0 = w = np.array([0.2, 0.1, 0.7]) #初期値，確率分布ベクトル，総和＝１とする\n",
    "wTrack = np.zeros((3,Num))\n",
    "wTrack[:,0] = w0\n",
    "for k in range(1, Num):\n",
    "    w = w.dot(P)  # w P の計算\n",
    "    wTrack[:,k] = w\n",
    "\n",
    "print(w) #最終値の表示"
   ]
  },
  {
   "cell_type": "code",
   "execution_count": null,
   "metadata": {
    "scrolled": true
   },
   "outputs": [],
   "source": [
    "fig = plt.subplots(figsize=(10,3)) # size [inch,inch]\n",
    "plt.plot(wTrack[0,:], label=\"w0\")\n",
    "plt.plot(wTrack[1,:], label=\"w1\")\n",
    "plt.plot(wTrack[2,:], label=\"w2\")\n",
    "\n",
    "plt.grid()\n",
    "plt.xlabel('k')\n",
    "plt.ylabel('$w_k$')\n",
    "plt.legend()\n",
    "#plt.title()\n",
    "\n",
    "#plt.savefig('fig_SM_MarkovChain01.png', bbox_inches='tight')\n",
    "plt.show()"
   ]
  },
  {
   "cell_type": "code",
   "execution_count": null,
   "metadata": {},
   "outputs": [],
   "source": [
    "print(w)"
   ]
  },
  {
   "cell_type": "code",
   "execution_count": null,
   "metadata": {
    "scrolled": true
   },
   "outputs": [],
   "source": [
    "X = np.arange(len(w))\n",
    "wid = 0.4\n",
    "plt.bar(X,     w0, width=wid, color='y', label='w0',    align='center')\n",
    "plt.bar(X+wid, w , width=wid, color='b', label='w_inf', align='center')\n",
    "plt.xticks(X+wid/2, ['w0', 'w1', 'w2'])\n",
    "plt.legend()\n",
    "#plt.savefig('fig_Stoch_MarkovChain_Distribution.png')\n",
    "plt.show"
   ]
  },
  {
   "cell_type": "markdown",
   "metadata": {},
   "source": [
    "## 定常分布と極限分布\n",
    "https://mathwords.net/teijobunpu <br>\n",
    "http://dopal.cs.uec.ac.jp/okamotoy/lect/2014/dme/handout12.pdf <br>\n",
    "極限分布が存在するとき，ある条件を満たすマルコフ連鎖は，極限分布が定常分布に一致するため，定常分布を用いてシステムの評価をすることが多い。https://www.komazawa-u.ac.jp/~toshi/teaching/TIT/note1.pdf"
   ]
  },
  {
   "cell_type": "markdown",
   "metadata": {},
   "source": [
    "#### 固有値，固有ベクトルを用いた解法"
   ]
  },
  {
   "cell_type": "code",
   "execution_count": null,
   "metadata": {},
   "outputs": [],
   "source": [
    "PP = P.T\n",
    "eig_val, eig_vec = np.linalg.eig(PP)\n",
    "print(PP)\n",
    "print(eig_val)\n",
    "print(eig_vec)"
   ]
  },
  {
   "cell_type": "code",
   "execution_count": null,
   "metadata": {},
   "outputs": [],
   "source": [
    "idx = np.argmax(np.abs(np.real(eig_val))) #解が複素数であることに対処する。固有値の最大値は１である。\n",
    "pi = np.real(eig_vec[:, idx]).T \n",
    "pi /= np.sum(pi)\n",
    "pi"
   ]
  },
  {
   "cell_type": "markdown",
   "metadata": {},
   "source": [
    "#### 連立方程式に基づく解法"
   ]
  },
  {
   "cell_type": "code",
   "execution_count": null,
   "metadata": {},
   "outputs": [],
   "source": [
    "A = (P-np.eye(3)).T\n",
    "np.shape(A)"
   ]
  },
  {
   "cell_type": "code",
   "execution_count": null,
   "metadata": {},
   "outputs": [],
   "source": [
    "A0 = np.ones((4,4))\n",
    "for i in range(3):\n",
    "    for j in range(3):\n",
    "        A0[i,j] = A[i,j]\n",
    "\n",
    "A0[3,3]=0\n",
    "b0 = np.array([0.0, 0.0, 0.0, 1.0])"
   ]
  },
  {
   "cell_type": "code",
   "execution_count": null,
   "metadata": {
    "scrolled": true
   },
   "outputs": [],
   "source": [
    "A0"
   ]
  },
  {
   "cell_type": "code",
   "execution_count": null,
   "metadata": {},
   "outputs": [],
   "source": [
    "b0"
   ]
  },
  {
   "cell_type": "code",
   "execution_count": null,
   "metadata": {
    "scrolled": true
   },
   "outputs": [],
   "source": [
    "sol = np.linalg.solve(A0,b0)\n",
    "sol"
   ]
  },
  {
   "cell_type": "code",
   "execution_count": null,
   "metadata": {},
   "outputs": [],
   "source": []
  }
 ],
 "metadata": {
  "kernelspec": {
   "display_name": "Python 3",
   "language": "python",
   "name": "python3"
  },
  "language_info": {
   "codemirror_mode": {
    "name": "ipython",
    "version": 3
   },
   "file_extension": ".py",
   "mimetype": "text/x-python",
   "name": "python",
   "nbconvert_exporter": "python",
   "pygments_lexer": "ipython3",
   "version": "3.7.4"
  }
 },
 "nbformat": 4,
 "nbformat_minor": 4
}
