{
 "cells": [
  {
   "cell_type": "markdown",
   "metadata": {},
   "source": [
    "# 離散時間線形のカルマンフィルタ\n",
    "1次系と2次系のシミュレーション"
   ]
  },
  {
   "cell_type": "code",
   "execution_count": null,
   "metadata": {},
   "outputs": [],
   "source": [
    "# -*- coding: utf-8 -*-\n",
    "import numpy as np\n",
    "import scipy.stats as stats\n",
    "\n",
    "import matplotlib.pyplot as plt\n",
    "%matplotlib inline"
   ]
  },
  {
   "cell_type": "code",
   "execution_count": null,
   "metadata": {},
   "outputs": [],
   "source": [
    "np.random.seed(123)\n",
    "# System Information\n",
    "a, b, c = 1, 1, 1\n",
    "sigma_v = 1.0\n",
    "sigma_w = np.sqrt(2.0)\n",
    "\n",
    "# Initial values\n",
    "x = 0.0\n",
    "xhat = 0.0\n",
    "P = 0.001\n",
    "\n",
    "num = 500 # the number of simulation step\n",
    "x_data = np.zeros(num)\n",
    "y_data = np.zeros(num)\n",
    "xhat_data = np.zeros(num)\n",
    "P_data    = np.zeros(num)\n",
    "\n",
    "x_data[0] = x\n",
    "xhat_data[0] = xhat\n",
    "P_data[0] = P\n",
    "\n",
    "for k in range(1, num):\n",
    "    # System\n",
    "    x = a*x + stats.norm.rvs(loc=0.0, scale=sigma_v, size=1)\n",
    "    y = c*x + stats.norm.rvs(loc=0.0, scale=sigma_w, size=1)\n",
    "    x_data[k] = x\n",
    "    y_data[k] = y\n",
    "# Kalman Filter\n",
    "    # Prediction\n",
    "    xhat = a*xhat\n",
    "    P = a*P*a + (sigma_v**2)*(b*b)\n",
    "    P_data[k] = P\n",
    "    # Filterling\n",
    "    g = P*c/(c*P*c+sigma_w**2)\n",
    "    xhat = xhat + g*(y-c*xhat)\n",
    "    xhat_data[k] = xhat\n",
    "    P = (1 - g*c)*P"
   ]
  },
  {
   "cell_type": "code",
   "execution_count": null,
   "metadata": {
    "scrolled": true
   },
   "outputs": [],
   "source": [
    "fig, ax = plt.subplots(ncols=2, figsize=(14,4))\n",
    "\n",
    "nn = 50\n",
    "\n",
    "ax[0].plot(x_data[:nn], c='k', label='x')\n",
    "ax[0].plot(y_data[:nn], c='c', label='y', linestyle='dashed')\n",
    "ax[0].plot(xhat_data[:nn], c='r', label='xhat')\n",
    "ax[0].set_xlabel('k')\n",
    "ax[0].legend()\n",
    "\n",
    "ax[1].plot( (x_data[:nn]-xhat_data[:nn]), c='k', label='x - xhat')\n",
    "ax[1].set_xlabel('k')\n",
    "ax[1].legend()\n",
    "ax[1].grid()\n",
    "\n",
    "#plt.savefig('fig_SM_KalmanFilter_1st.png', bbox_inches='tight')\n",
    "plt.show()"
   ]
  },
  {
   "cell_type": "code",
   "execution_count": null,
   "metadata": {
    "scrolled": true
   },
   "outputs": [],
   "source": [
    "nn=20\n",
    "plt.plot(P_data[:nn])\n",
    "plt.xlabel('k')\n",
    "plt.ylabel('P')\n",
    "plt.xticks(np.arange(0,nn+1,5))\n",
    "\n",
    "#plt.savefig('fig_SM_KalmanFilter_1st_gain.png', bbox_inches='tight')\n",
    "plt.show()"
   ]
  },
  {
   "cell_type": "code",
   "execution_count": null,
   "metadata": {},
   "outputs": [],
   "source": [
    "#定常ゲインを見る\n",
    "print(g)"
   ]
  },
  {
   "cell_type": "markdown",
   "metadata": {},
   "source": [
    "## 2次系"
   ]
  },
  {
   "cell_type": "markdown",
   "metadata": {},
   "source": [
    "#### 対象システムの出力$y(k)$を先に計算して，配列に格納する"
   ]
  },
  {
   "cell_type": "code",
   "execution_count": null,
   "metadata": {},
   "outputs": [],
   "source": [
    "np.random.seed(123)\n",
    "\n",
    "A = np.array([[-1.2, -0.52], [1.0, 0.0]])\n",
    "b = np.array([[1.0], [0.0]]) # column vector\n",
    "c = np.array([[1.0], [0.0]]) # column vector\n",
    "sigma_v = np.sqrt(2)\n",
    "sigma_w = 1.0\n",
    "\n",
    "# Initial values\n",
    "x = np.array([[0.5],[1.0]])\n",
    "\n",
    "num = 200\n",
    "x0 = np.zeros(num) # store x[0]\n",
    "x0[0] = x[0]\n",
    "y = np.zeros(num)\n",
    "y[0] = np.dot(c.T, x) + stats.norm.rvs(loc=0.0, scale=sigma_w, size=1)\n",
    "\n",
    "g0 = np.zeros(num) # store g[0]\n",
    "g1 = np.zeros(num) # store g[1]\n",
    "\n",
    "for k in range(1,num):\n",
    "    x = np.dot(A,x) + b*stats.norm.rvs(loc=0.0, scale=sigma_v, size=1)\n",
    "    x0[k] = x[0]\n",
    "    y[k] = np.dot(c.T, x) + stats.norm.rvs(loc=0.0, scale=sigma_w, size=1)"
   ]
  },
  {
   "cell_type": "markdown",
   "metadata": {},
   "source": [
    "#### カルマンフィルタ"
   ]
  },
  {
   "cell_type": "code",
   "execution_count": null,
   "metadata": {},
   "outputs": [],
   "source": [
    "# Initial values\n",
    "P  = np.eye(2,2)*0.1\n",
    "UnitMat = np.eye(2,2) # Unit Matrix\n",
    "xhat = np.array([[0.0], [0.0]])\n",
    "xhat_data = np.zeros(num)\n",
    "xhat_data[0] = xhat[0]\n",
    "\n",
    "for k in range(1, num):\n",
    "    # Prediction\n",
    "    xhat = np.dot(A, xhat)\n",
    "    P = np.dot( np.dot(A,P), A.T) + (sigma_v**2)*np.dot(b, b.T)\n",
    "    # Filterling\n",
    "    g = np.dot(P,c)/(np.dot( np.dot(c.T,P),c)  + (sigma_w**2) )\n",
    "    g0[k] = g[0]\n",
    "    g1[k] = g[1]\n",
    "    xhat = xhat + g*(y[k] - np.dot(c.T,xhat))\n",
    "    xhat_data[k] = xhat[0]\n",
    "    P = np.dot( (UnitMat - np.dot(g,c.T)), P)"
   ]
  },
  {
   "cell_type": "code",
   "execution_count": null,
   "metadata": {},
   "outputs": [],
   "source": [
    "fig, ax = plt.subplots(ncols=2, figsize=(14,4))\n",
    "\n",
    "nn = 20\n",
    "ax[0].plot(x0[:nn], c='k', label='x[0]')\n",
    "ax[0].plot(y[:nn], c='c', label='y', linestyle='dashed')\n",
    "ax[0].plot(xhat_data[:nn], c='r', label='xhat')\n",
    "ax[0].set_xlabel('k')\n",
    "ax[0].set_xticks(np.arange(0,nn+1,5))\n",
    "ax[0].legend()\n",
    "\n",
    "ax[1].plot( (g0[:nn]), c='k', label='g[0]')\n",
    "ax[1].plot( (g1[:nn]), c='c', label='g[1]')\n",
    "ax[1].set_xlabel('k')\n",
    "ax[1].set_ylabel('gain')\n",
    "ax[1].set_xticks(np.arange(0,nn+1,5))\n",
    "ax[1].legend()\n",
    "\n",
    "#plt.savefig('fig_SM_KalmanFilter_2nd.png', bbox_inches='tight')\n",
    "plt.show()"
   ]
  },
  {
   "cell_type": "markdown",
   "metadata": {},
   "source": [
    "#### 行列Aの固有値を調べる。"
   ]
  },
  {
   "cell_type": "code",
   "execution_count": null,
   "metadata": {},
   "outputs": [],
   "source": [
    "eig_val, eig_vec = np.linalg.eig(A)\n",
    "print(eig_val)\n",
    "print(abs(eig_val))"
   ]
  }
 ],
 "metadata": {
  "kernelspec": {
   "display_name": "Python 3",
   "language": "python",
   "name": "python3"
  },
  "language_info": {
   "codemirror_mode": {
    "name": "ipython",
    "version": 3
   },
   "file_extension": ".py",
   "mimetype": "text/x-python",
   "name": "python",
   "nbconvert_exporter": "python",
   "pygments_lexer": "ipython3",
   "version": "3.7.4"
  }
 },
 "nbformat": 4,
 "nbformat_minor": 4
}
