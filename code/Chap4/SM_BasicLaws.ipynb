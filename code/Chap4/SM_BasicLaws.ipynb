{
 "cells": [
  {
   "cell_type": "markdown",
   "metadata": {},
   "source": [
    "# 大数の法則と中心極限定理のシミュレーション"
   ]
  },
  {
   "cell_type": "code",
   "execution_count": null,
   "metadata": {},
   "outputs": [],
   "source": [
    "# -*- coding: utf-8 -*-\n",
    "import numpy as np\n",
    "import scipy.stats as stats\n",
    "import matplotlib.pyplot as plt\n",
    "%matplotlib inline"
   ]
  },
  {
   "cell_type": "markdown",
   "metadata": {},
   "source": [
    "## 大数の法則, Law of Large Numbers"
   ]
  },
  {
   "cell_type": "code",
   "execution_count": null,
   "metadata": {
    "scrolled": true
   },
   "outputs": [],
   "source": [
    "np.random.seed(123)\n",
    "nsample = 1000\n",
    "x = np.zeros((4,2,nsample))\n",
    "for k in range(nsample):\n",
    "    x[0,0,k] = stats.uniform.rvs(loc=0,scale=2,size=1) # [loc, loc+scale]\n",
    "    x[1,0,k] = stats.norm.rvs(loc=2, scale=1, size=1) # N(loc, scale**2)\n",
    "    x[2,0,k] = stats.binom.rvs(n=10, p=0.3, size=1) # E[x] = np\n",
    "    x[3,0,k] = stats.poisson.rvs(mu=4, size=1) # E[x] = mu\n",
    "    for i in range(4):\n",
    "        if k >= 1: x[i,1,k] = np.mean(x[i, 0, 0:k])\n",
    "\n",
    "fig, ax = plt.subplots(nrows=2, ncols=2, figsize=(14,10))\n",
    "titles=['Uniform(0,2)','Norm(2,1)','Binom(10,0.3)','Poisson(4)']\n",
    "\n",
    "for i in range(4):\n",
    "    ncol=i//2; nrow=i%2 # 切捨て除算，剰余\n",
    "#    print(i, ncol, nrow)\n",
    "    ax[ncol, nrow].plot(x[i,1,1:], color='k')\n",
    "\n",
    "    ax[ncol, nrow].set_xlabel('k')\n",
    "    ax[ncol, nrow].set_title(titles[i])\n",
    "\n",
    "#plt.savefig('fig_SM_LawOfLargeNumber.png', bbox_inches='tight')\n",
    "plt.show()"
   ]
  },
  {
   "cell_type": "markdown",
   "metadata": {},
   "source": [
    "## 中心極限定理, Central Limit Theorem\n",
    "ポアソン分布Poisson($\\lambda$)に従う確率変数$X$の平均値と分散は次である。\n",
    "$$\n",
    "E[x] = \\lambda, \\;\\;\\;\\;\\; V[x] = \\lambda\n",
    "$$"
   ]
  },
  {
   "cell_type": "code",
   "execution_count": null,
   "metadata": {},
   "outputs": [],
   "source": [
    "np.random.seed(123)\n",
    "n1, n2 = 100, 1000\n",
    "nsample = 1000\n",
    "x1 = np.zeros(nsample)\n",
    "x2 = np.zeros(nsample)\n",
    "\n",
    "for k in range(nsample):\n",
    "    x1[k] = np.mean(stats.poisson.rvs(mu=4, size=n1))\n",
    "    x2[k] = np.mean(stats.poisson.rvs(mu=4, size=n2))\n",
    "    \n",
    "fig, ax = plt.subplots(ncols=2, figsize=(14,4))\n",
    "ax[0].hist(x1, bins=40, range=(3.0, 5.0))\n",
    "ax[0].set_title('n='+str(n1))\n",
    "ax[1].hist(x2, bins=40, range=(3.0, 5.0))\n",
    "ax[1].set_title('n='+str(n2))\n",
    "\n",
    "#plt.savefig('fig_SM_CentralLimit.png', bbox_inches='tight')\n",
    "plt.show()"
   ]
  },
  {
   "cell_type": "code",
   "execution_count": null,
   "metadata": {
    "scrolled": true
   },
   "outputs": [],
   "source": [
    "print(np.mean(x1), np.mean(x2))"
   ]
  },
  {
   "cell_type": "code",
   "execution_count": null,
   "metadata": {},
   "outputs": [],
   "source": []
  }
 ],
 "metadata": {
  "kernelspec": {
   "display_name": "Python 3",
   "language": "python",
   "name": "python3"
  },
  "language_info": {
   "codemirror_mode": {
    "name": "ipython",
    "version": 3
   },
   "file_extension": ".py",
   "mimetype": "text/x-python",
   "name": "python",
   "nbconvert_exporter": "python",
   "pygments_lexer": "ipython3",
   "version": "3.12.6"
  }
 },
 "nbformat": 4,
 "nbformat_minor": 4
}
