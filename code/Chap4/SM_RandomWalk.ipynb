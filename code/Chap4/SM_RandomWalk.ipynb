{
 "cells": [
  {
   "cell_type": "markdown",
   "metadata": {},
   "source": [
    "# 注意：\n",
    "本Notebookはアニメーションを用いている。このため，JupyterLabでエラーが生じた場合（IPythonとのインタフェースが不備のもよう，2020年9月時点），いったん，JupyterLabを終了して，Jupyter Notebookを立ち上げてから，再実行してください。"
   ]
  },
  {
   "cell_type": "markdown",
   "metadata": {},
   "source": [
    "# ランダムウォークのアニメーション"
   ]
  },
  {
   "cell_type": "code",
   "execution_count": null,
   "metadata": {},
   "outputs": [],
   "source": [
    "# -*- coding: utf-8 -*-\n",
    "import numpy as np\n",
    "import matplotlib.pyplot as plt\n",
    "import matplotlib.animation as animation\n",
    "from mpl_toolkits.mplot3d import Axes3D\n",
    "\n",
    "%matplotlib nbagg"
   ]
  },
  {
   "cell_type": "markdown",
   "metadata": {},
   "source": [
    "## ランダムウォーク，1次元\n",
    "1歩あたりの平均は$2p-1$,  n歩では$n(2p-1)$である"
   ]
  },
  {
   "cell_type": "code",
   "execution_count": null,
   "metadata": {
    "scrolled": true
   },
   "outputs": [],
   "source": [
    "np.random.seed(123)\n",
    "\n",
    "num = 4000\n",
    "p = 0.6\n",
    "s = np.zeros(num+1)\n",
    "\n",
    "for k in range(1, num+1):\n",
    "    x = 1\n",
    "    if np.random.rand() > p:\n",
    "        x = -1\n",
    "    s[k] = s[k-1] + x\n",
    "\n",
    "fig = plt.figure(figsize=(6,3))\n",
    "plt.plot(s, c='k')\n",
    "plt.grid()\n",
    "plt.ylim(-250,1000)\n",
    "\n",
    "#plt.savefig('fig_SM_RandomWalk_1D.png', bbox_inches='tight')"
   ]
  },
  {
   "cell_type": "markdown",
   "metadata": {},
   "source": [
    "### アニメーション表現\n",
    "FuncAnimationの使用<br>\n",
    "Doc:https://matplotlib.org/3.2.1/api/_as_gen/matplotlib.animation.FuncAnimation.html<br>"
   ]
  },
  {
   "cell_type": "code",
   "execution_count": null,
   "metadata": {},
   "outputs": [],
   "source": [
    "np.random.seed(123)\n",
    "fig = plt.figure(figsize=(8,2))\n",
    "v = 0\n",
    "\n",
    "def update(k, fig_title, num):\n",
    "    global v\n",
    "\n",
    "    h = 1\n",
    "    if np.random.rand() > 0.5:\n",
    "        h = -1\n",
    "    v += h\n",
    "    plt.scatter(k, v, c='k', s=10, marker='.')\n",
    "    plt.ylim(-10, 10)\n",
    "    plt.xlim(0, num)\n",
    "    plt.title(fig_title + 'Step k=' + str(k))\n",
    "\n",
    "# interval [ms],  frames: 描くフレーム数, repeat: Falseは1回のみ，Trueは繰返しプロット\n",
    "num=100\n",
    "ani = animation.FuncAnimation(fig, update, fargs=('Random Walk, ', num), \\\n",
    "           interval=10, frames=num, repeat=False)\n",
    "\n",
    "plt.show()"
   ]
  },
  {
   "cell_type": "code",
   "execution_count": null,
   "metadata": {},
   "outputs": [],
   "source": [
    "#plt.savefig('fig_SM_RandomWalkAnima_1D.png', bbox_inches='tight')\n",
    "#plt.close()"
   ]
  },
  {
   "cell_type": "markdown",
   "metadata": {},
   "source": [
    "## ランダムウォーク，3次元\n",
    "次はアニメーションでなく、単なる3次元プロットである。"
   ]
  },
  {
   "cell_type": "code",
   "execution_count": null,
   "metadata": {
    "scrolled": true
   },
   "outputs": [],
   "source": [
    "np.random.seed(123)\n",
    "fig = plt.figure(figsize=(4,4))\n",
    "num = 30\n",
    "vv = np.zeros((3,num+1))\n",
    "\n",
    "for k in range(1,num):\n",
    "    for i in range(3):\n",
    "        h = 0.1\n",
    "        if np.random.rand() > 0.5:\n",
    "            h = -0.1\n",
    "        vv[i,k] = vv[i,k-1]+h\n",
    "\n",
    "ax = Axes3D(fig)\n",
    "ax.plot(vv[0,0:], vv[1,0:], vv[2,0:], marker='o', linestyle='None')\n",
    "ax.set_xlim(-1, 1)\n",
    "ax.set_ylim(-1, 1)\n",
    "ax.set_zlim(-1, 1)\n",
    "ax.set_xlabel('x')\n",
    "ax.set_ylabel('y')\n",
    "ax.set_zlabel('z')"
   ]
  },
  {
   "cell_type": "markdown",
   "metadata": {},
   "source": [
    "#### アニメーションを次に示す。"
   ]
  },
  {
   "cell_type": "code",
   "execution_count": null,
   "metadata": {},
   "outputs": [],
   "source": [
    "np.random.seed(123)\n",
    "fig2 = plt.figure(figsize=(4,4), constrained_layout=True)\n",
    "ax = Axes3D(fig2)\n",
    "L = 15\n",
    "S = 5\n",
    "ax.set_xlim(-L, L)\n",
    "ax.set_ylim(-L, L)\n",
    "ax.set_zlim(-L, L)\n",
    "ax.set_xticks(np.arange(-L, L, step=S))\n",
    "ax.set_yticks(np.arange(-L, L, step=S))\n",
    "ax.set_zticks(np.arange(-L, L, step=S))\n",
    "ax.set_xlabel('x')\n",
    "ax.set_ylabel('y')\n",
    "ax.set_zlabel('z')\n",
    "\n",
    "\n",
    "v = np.zeros(3)\n",
    "\n",
    "def update3D(k, fig_title, dist):\n",
    "    global v  \n",
    "    for i in range(3):\n",
    "        h = 1\n",
    "        if np.random.rand() > 0.5:\n",
    "            h = -1\n",
    "        v[i] += h\n",
    "\n",
    "    ax.scatter(v[0], v[1], v[2], c='b', s=5)\n",
    "    plt.title(fig_title + 'Step k=' + str(k))\n",
    "\n",
    "# interval [ms],  frames: 描くフレーム数, repeat: Falseは1回のみ，Trueは繰返しプロット\n",
    "\n",
    "num = 200\n",
    "ani = animation.FuncAnimation(fig2, update3D, fargs = ('Random Walk', 1.0), \\\n",
    "    interval = 5, frames=num, repeat=False)\n",
    "\n",
    "plt.show()"
   ]
  },
  {
   "cell_type": "code",
   "execution_count": null,
   "metadata": {},
   "outputs": [],
   "source": [
    "#plt.savefig('fig_SM_RandomWalkAnima_3D.png', bbox_inches='tight')"
   ]
  },
  {
   "cell_type": "code",
   "execution_count": null,
   "metadata": {},
   "outputs": [],
   "source": [
    "#plt.close()"
   ]
  },
  {
   "cell_type": "code",
   "execution_count": null,
   "metadata": {},
   "outputs": [],
   "source": []
  }
 ],
 "metadata": {
  "kernelspec": {
   "display_name": "Python 3",
   "language": "python",
   "name": "python3"
  },
  "language_info": {
   "codemirror_mode": {
    "name": "ipython",
    "version": 3
   },
   "file_extension": ".py",
   "mimetype": "text/x-python",
   "name": "python",
   "nbconvert_exporter": "python",
   "pygments_lexer": "ipython3",
   "version": "3.7.4"
  }
 },
 "nbformat": 4,
 "nbformat_minor": 4
}
