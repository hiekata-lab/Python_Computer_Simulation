{
 "cells": [
  {
   "cell_type": "markdown",
   "metadata": {},
   "source": [
    "# ARIMAモデル，1次式型トレンドを含むデータ\n",
    "1. ARMAシステム（真）のデータに1次式データ（非定常）が重畳する。<br>\n",
    "2. ARIMAモデルを用いて，予測を行う。<br>\n",
    "Ref:<br>\n",
    "Autoregressive Moving Average (ARMA): Artificial data https://www.statsmodels.org/dev/generated/statsmodels.tsa.arima_model.ARIMA.html<br>\n",
    "statsmodels.tsa.arima.model.ARIMA: https://www.statsmodels.org/stable/generated/statsmodels.tsa.arima.model.ARIMA.html\n",
    "statsmodels.tsa.arima.model.ARIMAResults: https://www.statsmodels.org/stable/generated/statsmodels.tsa.arima.model.ARIMAResults.html<br>"
   ]
  },
  {
   "cell_type": "code",
   "execution_count": null,
   "metadata": {},
   "outputs": [],
   "source": [
    "# -*- coding: utf-8 -*-\n",
    "import numpy as np\n",
    "import pandas as pd\n",
    "\n",
    "import matplotlib.pyplot as plt\n",
    "%matplotlib inline\n",
    "\n",
    "import statsmodels.api as sm\n",
    "from statsmodels.tsa.arima_process import arma_generate_sample\n",
    "from statsmodels.tsa.arima.model import ARIMA\n",
    "\n",
    "from scipy import stats\n",
    "\n",
    "np.random.seed(123)"
   ]
  },
  {
   "cell_type": "markdown",
   "metadata": {},
   "source": [
    "観測データ（トレニーングデータ）              y  \n",
    "予測精度を見るための実データ（テストデータ）  y_test"
   ]
  },
  {
   "cell_type": "code",
   "execution_count": null,
   "metadata": {
    "scrolled": false
   },
   "outputs": [],
   "source": [
    "ar = [1, -1.5, 0.7]\n",
    "ma = [1.0, 0.6]\n",
    "\n",
    "nobs = 1000\n",
    "nobs_test = 100\n",
    "nobs_all = nobs + nobs_test\n",
    "\n",
    "dist = stats.norm(loc=0, scale=1.0).rvs\n",
    "\n",
    "# 知りたい信号成分\n",
    "sig_all = arma_generate_sample(ar, ma, nsample=nobs_all, distrvs=dist, burnin=500)\n",
    "\n",
    "# トレンドの信号（1次式型）\n",
    "coef_a, coef_b = 0.05, 4\n",
    "trend_all = coef_a*np.arange(len(sig_all)) + coef_b\n",
    "\n",
    "# 出力信号（トレーニングデータ＋テストデータ）\n",
    "y_all = sig_all + trend_all\n",
    "\n",
    "# インデックスを与える\n",
    "index = pd.date_range('1/1/2000', periods=nobs_all, freq='D')\n",
    "y_all = pd.Series(y_all, index=index)\n",
    "\n",
    "#信号データにindexを付加\n",
    "sig_all = pd.Series(sig_all, index=index)\n",
    "\n",
    "y = y_all[:nobs]      #観測データはｙ\n",
    "y_test = y_all[nobs:] #予測精度を見るためのテストデータはy_test\n",
    "\n",
    "y.tail(5)\n",
    "\n",
    "y.plot(color='b')\n",
    "y_test.plot(color='c')\n",
    "\n",
    "#plt.savefig('fig_SM_ARIMA_signal_trend.pdf')\n",
    "plt.show()"
   ]
  },
  {
   "cell_type": "markdown",
   "metadata": {},
   "source": [
    "yの1階差分系列（青），元の信号（灰色）とは振幅，位相が異なることがわかる"
   ]
  },
  {
   "cell_type": "code",
   "execution_count": null,
   "metadata": {},
   "outputs": [],
   "source": [
    "diff = (y - y.shift()).dropna(axis=0) #先頭のデータは NaNとなるため\n",
    "diff.plot(color='b')\n",
    "sig_all[:nobs-1].plot(color='gray')\n",
    "\n",
    "#plt.savefig('fig_SM_ARIMA_ident_y_diff.png')\n",
    "plt.show()"
   ]
  },
  {
   "cell_type": "markdown",
   "metadata": {},
   "source": [
    "ARIMAモデル,  トレンドが重畳した観測値y に対して適用"
   ]
  },
  {
   "cell_type": "code",
   "execution_count": null,
   "metadata": {
    "scrolled": false
   },
   "outputs": [],
   "source": [
    "arima_result = ARIMA(y, order=(2,1,1), trend='n').fit() # 引数trendは'n'（トレンド無し）を指定\n",
    "print(arima_result.summary())"
   ]
  },
  {
   "cell_type": "markdown",
   "metadata": {},
   "source": [
    "#### 残差（誤差）系列とその自己相関関数のプロット\n",
    "自己相関のプロットでは，sig_valの領域内にあるかを確認する。"
   ]
  },
  {
   "cell_type": "code",
   "execution_count": null,
   "metadata": {
    "scrolled": false
   },
   "outputs": [],
   "source": [
    "resid = arima_result.resid # residual sequence\n",
    "sig_val = 0.05 # 有意水準\n",
    "\n",
    "#resid.plot(figsize=(12,4))\n",
    "#print(stats.normaltest(resid))\n",
    "\n",
    "fig = plt.figure(figsize=(12,3))\n",
    "ax1 = fig.add_subplot(111)\n",
    "fig = sm.graphics.tsa.plot_acf(resid.values.squeeze(), lags=20, alpha=sig_val, ax=ax1)\n",
    "\n",
    "#plt.savefig('fig_SM_ARIMA_resid_acf.png')\n",
    "plt.show()"
   ]
  },
  {
   "cell_type": "markdown",
   "metadata": {},
   "source": [
    "#### statsmodels.tsa.arima.model.ARIMAResults.predict\n",
    "https://www.statsmodels.org/stable/generated/statsmodels.tsa.arima.model.ARIMAResults.predict.html"
   ]
  },
  {
   "cell_type": "code",
   "execution_count": null,
   "metadata": {},
   "outputs": [],
   "source": [
    "fig = plt.figure(figsize=(8,3))\n",
    "\n",
    "start, end, pred_start = '2002-08-20', '2002-10-15', '2002-09-27'\n",
    "pred = arima_result.predict(start=start, end=end)\n",
    "pred.plot(label='predict', color='k')\n",
    "y[start:].plot(color='m', label='y')\n",
    "y_test[pred_start:end].plot(color='b', label='y_test')\n",
    "plt.legend(loc='upper left')\n",
    "\n",
    "#plt.savefig('fig_SM_ARIMA_y_predict.png')\n",
    "plt.show()"
   ]
  },
  {
   "cell_type": "markdown",
   "metadata": {},
   "source": [
    "#### yとy_testのインデックスの先頭と最終の値を知る\n",
    "上記のグラフの範囲を定める目安にしたいため。"
   ]
  },
  {
   "cell_type": "code",
   "execution_count": null,
   "metadata": {},
   "outputs": [],
   "source": [
    "print(y.index[0], y.index[-1])"
   ]
  },
  {
   "cell_type": "code",
   "execution_count": null,
   "metadata": {
    "scrolled": true
   },
   "outputs": [],
   "source": [
    "print(y_test.index[0], y_test.index[-1])"
   ]
  },
  {
   "cell_type": "markdown",
   "metadata": {},
   "source": [
    "#### 見る区間を拡げる"
   ]
  },
  {
   "cell_type": "code",
   "execution_count": null,
   "metadata": {},
   "outputs": [],
   "source": [
    "plt.plot(y)\n",
    "plt.plot(pred, color='r')"
   ]
  },
  {
   "cell_type": "code",
   "execution_count": null,
   "metadata": {},
   "outputs": [],
   "source": []
  }
 ],
 "metadata": {
  "kernelspec": {
   "display_name": "Python 3",
   "language": "python",
   "name": "python3"
  },
  "language_info": {
   "codemirror_mode": {
    "name": "ipython",
    "version": 3
   },
   "file_extension": ".py",
   "mimetype": "text/x-python",
   "name": "python",
   "nbconvert_exporter": "python",
   "pygments_lexer": "ipython3",
   "version": "3.7.4"
  }
 },
 "nbformat": 4,
 "nbformat_minor": 2
}
