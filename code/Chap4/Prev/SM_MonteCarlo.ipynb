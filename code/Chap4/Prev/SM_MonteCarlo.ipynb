{
 "cells": [
  {
   "cell_type": "markdown",
   "metadata": {},
   "source": [
    "# 注意：\n",
    "本Notebookはアニメーションを用いている。このため，JupyterLabでエラーが生じた場合（IPythonとのインタフェースが不備のもよう，2020年9月時点），いったん，JupyterLabを終了して，Jupyter Notebookを立ち上げてから，再実行してください。"
   ]
  },
  {
   "cell_type": "markdown",
   "metadata": {},
   "source": [
    "# モンテカルロ法，円周率を求める\n",
    "実行上の注意：<br>\n",
    "・1セル毎に実行すること"
   ]
  },
  {
   "cell_type": "code",
   "execution_count": null,
   "metadata": {},
   "outputs": [],
   "source": [
    "# -*- coding: utf-8 -*-\n",
    "import numpy as np\n",
    "\n",
    "import matplotlib.pyplot as plt\n",
    "import matplotlib.patches as pat\n",
    "import matplotlib.animation as animation\n",
    "%matplotlib nbagg"
   ]
  },
  {
   "cell_type": "markdown",
   "metadata": {},
   "source": [
    "#### 円周率\n",
    "単位円（unit circle）内に，2次元一様乱数(x,y)がこの中に入る比率を用いる。<br>\n",
    "アニメーションを用いて処理速度が遅いので，データ数は高々数百点までが望ましい。"
   ]
  },
  {
   "cell_type": "code",
   "execution_count": null,
   "metadata": {
    "scrolled": true
   },
   "outputs": [],
   "source": [
    "np.random.seed(123)\n",
    "fig, ax = plt.subplots(figsize=(4,4))\n",
    "ucircle = pat.Circle(xy = (0.0, 0.0), radius = 1.0, edgecolor = 'black', fill=False)\n",
    "ax.add_patch(ucircle)\n",
    "plt.xlim(-1.2, 1.2)\n",
    "plt.ylim(-1.2, 1.2)\n",
    "\n",
    "count=0\n",
    "\n",
    "def func_pi(N, fig_title, dummy):\n",
    "    global count\n",
    "    x,y = np.random.uniform(low=-1, high=1, size=2)\n",
    "    judge = x*x + y*y <= 1.0\n",
    "    if judge:\n",
    "        plt.scatter(x, y, marker='o', color='green')\n",
    "    else:\n",
    "        plt.scatter(x, y, marker='x', color='red')\n",
    "    count += judge\n",
    "    pi_est = 4*count/N\n",
    "    plt.title(fig_title+' N='+str(N)+' est pi='+'{:1.5f}'.format(pi_est))\n",
    "\n",
    "    \n",
    "ani = animation.FuncAnimation(fig, func_pi, fargs = ('Monte Carlo',1.0), \\\n",
    "    interval = 10, frames = 500, repeat=False)\n",
    "\n",
    "plt.show()"
   ]
  },
  {
   "cell_type": "code",
   "execution_count": null,
   "metadata": {},
   "outputs": [],
   "source": [
    "#plt.savefig('fig_SM_MonteCarlo.png', bbox_inches='tight')"
   ]
  },
  {
   "cell_type": "markdown",
   "metadata": {},
   "source": [
    "円周率を4桁合せるにもデータ数は10**7程度必要<br>\n",
    "core i7プロセッサレベルを用いても時間を要する。<br>\n",
    "この高速化は，Numbaを用いるかマルチプロセスを用いる方法がある。<br>\n",
    "この高速化の詳細は「Pythonデータエンジニアリング入門 高速化とデバイスデータアクセスの基本と応用」（オーム社）参照。"
   ]
  },
  {
   "cell_type": "code",
   "execution_count": null,
   "metadata": {
    "scrolled": true
   },
   "outputs": [],
   "source": [
    "print(np.pi)"
   ]
  },
  {
   "cell_type": "code",
   "execution_count": null,
   "metadata": {},
   "outputs": [],
   "source": [
    "np.random.seed(123)"
   ]
  },
  {
   "cell_type": "code",
   "execution_count": null,
   "metadata": {},
   "outputs": [],
   "source": [
    "%%timeit -r 3 -n 1\n",
    "N = 10**8\n",
    "x,y = np.random.uniform(low=-1, high=1, size=(2,N))\n",
    "inside = (x**2 + y**2) <= 1\n",
    "pi = inside.sum()*(4/np.float(N))\n",
    "print('N=',N, 'Calculation pi =',pi)"
   ]
  },
  {
   "cell_type": "code",
   "execution_count": null,
   "metadata": {},
   "outputs": [],
   "source": []
  }
 ],
 "metadata": {
  "kernelspec": {
   "display_name": "Python 3",
   "language": "python",
   "name": "python3"
  },
  "language_info": {
   "codemirror_mode": {
    "name": "ipython",
    "version": 3
   },
   "file_extension": ".py",
   "mimetype": "text/x-python",
   "name": "python",
   "nbconvert_exporter": "python",
   "pygments_lexer": "ipython3",
   "version": "3.7.4"
  }
 },
 "nbformat": 4,
 "nbformat_minor": 2
}
