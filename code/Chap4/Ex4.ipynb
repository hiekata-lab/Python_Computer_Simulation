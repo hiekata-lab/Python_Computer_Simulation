{
 "cells": [
  {
   "cell_type": "markdown",
   "metadata": {},
   "source": [
    "## 問題\n",
    "\n",
    "東京の気温を予測してみよう！"
   ]
  },
  {
   "cell_type": "code",
   "execution_count": null,
   "metadata": {},
   "outputs": [],
   "source": [
    "# -*- coding: utf-8 -*-\n",
    "import numpy as np\n",
    "import pandas as pd\n",
    "from scipy import stats\n",
    "import statsmodels.api as sm\n",
    "import matplotlib.pyplot as plt\n",
    "%matplotlib inline"
   ]
  },
  {
   "cell_type": "markdown",
   "metadata": {},
   "source": [
    "- 利用するデータ：東京の月別平均気温(2015/11~2024/10)\n",
    "    - ref: https://www.data.jma.go.jp/gmd/risk/obsdl/index.php"
   ]
  },
  {
   "cell_type": "code",
   "execution_count": null,
   "metadata": {},
   "outputs": [],
   "source": [
    "fname = '../../data/Ex4_tempreture.csv'\n",
    "df = pd.read_csv(fname, index_col='Date', parse_dates=True)\n",
    "df.head()"
   ]
  },
  {
   "cell_type": "code",
   "execution_count": null,
   "metadata": {},
   "outputs": [],
   "source": [
    "df.plot()\n",
    "\n",
    "#plt.savefig('fig_SM_SARIMAX_PassengerData.png')\n",
    "plt.show()"
   ]
  },
  {
   "cell_type": "code",
   "execution_count": null,
   "metadata": {},
   "outputs": [],
   "source": [
    "acf = sm.tsa.stattools.acf(df, nlags=120)\n",
    "#fig, ax = plt.subplots(figsize=(4,4))\n",
    "plt.plot(acf, marker='o')\n",
    "plt.xlabel('lag')\n",
    "plt.ylabel('acf')\n",
    "\n",
    "#plt.savefig('fig_SM_SARIMAX_PassengerData_acf.png')\n",
    "plt.show()"
   ]
  },
  {
   "cell_type": "markdown",
   "metadata": {},
   "source": [
    "モデルの次数を色々いじって、いい感じに予測してみよう！"
   ]
  },
  {
   "cell_type": "code",
   "execution_count": null,
   "metadata": {},
   "outputs": [],
   "source": [
    "p = 3   # ARの次数\n",
    "q = 2   # MAの次数\n",
    "d = 1   # 差分の次数"
   ]
  },
  {
   "cell_type": "markdown",
   "metadata": {},
   "source": [
    "sigma2 や AIC の値を見てみよう"
   ]
  },
  {
   "cell_type": "code",
   "execution_count": null,
   "metadata": {},
   "outputs": [],
   "source": [
    "SARIMAX_model = sm.tsa.SARIMAX(df, order=(p,d,q), seasonal_order=(1,1,1,12)).fit(maxiter=200)\n",
    "print(SARIMAX_model.summary())"
   ]
  },
  {
   "cell_type": "markdown",
   "metadata": {},
   "source": [
    "信頼区間がすべて収まっているといい感じ"
   ]
  },
  {
   "cell_type": "code",
   "execution_count": null,
   "metadata": {},
   "outputs": [],
   "source": [
    "# 残差のチェック\n",
    "resid = SARIMAX_model.resid\n",
    "fig, ax = plt.subplots(figsize=(10,4))\n",
    "fig2 = sm.graphics.tsa.plot_acf(resid, lags=40,  alpha=0.05, ax=ax)\n",
    "\n",
    "#plt.savefig('fig_SM_SARIMAX_Resid_acf.png')\n",
    "plt.show()"
   ]
  },
  {
   "cell_type": "markdown",
   "metadata": {},
   "source": [
    "未来5年分を予測"
   ]
  },
  {
   "cell_type": "code",
   "execution_count": null,
   "metadata": {},
   "outputs": [],
   "source": [
    "pred = SARIMAX_model.predict(start='2024-10-01', end='2029-10-01')"
   ]
  },
  {
   "cell_type": "code",
   "execution_count": null,
   "metadata": {},
   "outputs": [],
   "source": [
    "plt.plot(df)\n",
    "plt.plot(pred, 'r')\n",
    "\n",
    "plt.xlabel('Date')\n",
    "plt.ylabel('Passengers')\n",
    "\n",
    "#plt.savefig('fig_SM_SARIMAX_Predict.png')\n",
    "plt.show()"
   ]
  }
 ],
 "metadata": {
  "kernelspec": {
   "display_name": "Python 3",
   "language": "python",
   "name": "python3"
  },
  "language_info": {
   "codemirror_mode": {
    "name": "ipython",
    "version": 3
   },
   "file_extension": ".py",
   "mimetype": "text/x-python",
   "name": "python",
   "nbconvert_exporter": "python",
   "pygments_lexer": "ipython3",
   "version": "3.10.4"
  }
 },
 "nbformat": 4,
 "nbformat_minor": 2
}
