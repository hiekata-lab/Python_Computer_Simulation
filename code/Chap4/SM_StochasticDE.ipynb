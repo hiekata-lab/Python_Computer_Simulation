{
 "cells": [
  {
   "cell_type": "markdown",
   "metadata": {},
   "source": [
    "# 確率微分方程式のシミュレーション\n",
    "幾何学ブラウン運動モデル"
   ]
  },
  {
   "cell_type": "code",
   "execution_count": null,
   "metadata": {},
   "outputs": [],
   "source": [
    "# -*- coding: utf-8 -*-\n",
    "import numpy as np\n",
    "import scipy.stats as stats\n",
    "import matplotlib.pyplot as plt\n",
    "import matplotlib.animation as animation\n",
    "\n",
    "%matplotlib inline"
   ]
  },
  {
   "cell_type": "markdown",
   "metadata": {},
   "source": [
    "### パラメータ設定"
   ]
  },
  {
   "cell_type": "markdown",
   "metadata": {},
   "source": [
    "numpy.cusum: https://numpy.org/doc/stable/reference/generated/numpy.cumsum.html<br>\n",
    "\n",
    "配列内の要素を足し合わせていったものを順次配列に記録するもので，<br>\n",
    "dw(k)=w(k)-w(k-1)より，w(k) = w(k-1)+dw(k)より，ウィーナー過程w(k)を作成するのに用いる。<br>\n",
    "次はcusumの使い方例である。"
   ]
  },
  {
   "cell_type": "code",
   "execution_count": null,
   "metadata": {},
   "outputs": [],
   "source": [
    "dw = np.arange(5)\n",
    "w = np.cumsum(dw)\n",
    "print(len(dw), len(w))\n",
    "print(dw)\n",
    "print(w)"
   ]
  },
  {
   "cell_type": "code",
   "execution_count": null,
   "metadata": {
    "scrolled": true
   },
   "outputs": [],
   "source": [
    "np.random.seed(123)\n",
    "\n",
    "mu, sigma = 2, 1\n",
    "x0 = 1\n",
    "tend = 1.0\n",
    "num = 200\n",
    "dt = tend/num\n",
    "#print(dt)\n",
    "\n",
    "t = np.arange(0.0, tend, dt)\n",
    "dw =  stats.norm.rvs(loc=0, scale=np.sqrt(dt), size=num) #scaleには標準偏差を与える\n",
    "dw[0] = 0\n",
    "w = np.cumsum(dw)# w(k)=w(k-1)+dw(k)\n",
    "x_true = x0*np.exp( (mu - (sigma**2)/2.0 )*t + (sigma*w) )\n",
    "\n",
    "x = x0\n",
    "x_data = np.zeros(num) # strage for x\n",
    "x_data[0] = x0\n",
    "for k in range(1,num):\n",
    "    x += mu*x*dt + sigma*x*dw[k]\n",
    "    x_data[k] = x\n",
    "\n",
    "    \n",
    "fig = plt.figure(figsize=(10,4))\n",
    "plt.plot(t, x_true, c='k', label='true')\n",
    "plt.plot(t, x_data, c='r', label='Numerical sol.', alpha=0.5)\n",
    "plt.xlabel('t')\n",
    "plt.legend()\n",
    "plt.grid()\n",
    "\n",
    "#plt.savefig('fig_SM_StochasticDE.png', bbox_inches='tight')\n",
    "plt.show()"
   ]
  },
  {
   "cell_type": "code",
   "execution_count": null,
   "metadata": {},
   "outputs": [],
   "source": []
  }
 ],
 "metadata": {
  "kernelspec": {
   "display_name": "Python 3",
   "language": "python",
   "name": "python3"
  },
  "language_info": {
   "codemirror_mode": {
    "name": "ipython",
    "version": 3
   },
   "file_extension": ".py",
   "mimetype": "text/x-python",
   "name": "python",
   "nbconvert_exporter": "python",
   "pygments_lexer": "ipython3",
   "version": "3.7.4"
  }
 },
 "nbformat": 4,
 "nbformat_minor": 4
}
