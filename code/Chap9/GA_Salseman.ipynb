{
 "cells": [
  {
   "cell_type": "markdown",
   "metadata": {},
   "source": [
    "# 順序に関係した問題（巡回セールスマン問題）\n",
    "\n",
    "・巡回セールスマン問題を例題にした順序に関係した問題の解法\n",
    "\n",
    "DEAP\n",
    "https://deap.readthedocs.io/en/master/"
   ]
  },
  {
   "cell_type": "code",
   "execution_count": 1,
   "metadata": {},
   "outputs": [],
   "source": [
    "from deap import base, creator, tools, algorithms\n",
    "import numpy as np\n",
    "import random\n",
    "import math\n",
    "\n",
    "from scipy.spatial import distance"
   ]
  },
  {
   "cell_type": "code",
   "execution_count": 2,
   "metadata": {},
   "outputs": [],
   "source": [
    "NUM_CITIES  = 8\n",
    "RANGE = 1000"
   ]
  },
  {
   "cell_type": "markdown",
   "metadata": {},
   "source": [
    "円形に配置"
   ]
  },
  {
   "cell_type": "code",
   "execution_count": 12,
   "metadata": {},
   "outputs": [],
   "source": [
    "def generate_cities( n ):\n",
    "    return list((RANGE/2*math.cos(i*math.pi*2/n)+RANGE/2,RANGE/2*math.sin(i*math.pi*2/n)+RANGE/2)for i in range( n))"
   ]
  },
  {
   "cell_type": "markdown",
   "metadata": {},
   "source": [
    "【検証用の別配置】ランダムに位置を生成（円形に配置もしくはランダムに配置のどちらかを使用する）"
   ]
  },
  {
   "cell_type": "code",
   "execution_count": 4,
   "metadata": {},
   "outputs": [],
   "source": [
    "def generate_cities( n ):\n",
    "    return set( ( random.randrange(0,RANGE),random.randrange( 0,RANGE) ) for i in range( n) )"
   ]
  },
  {
   "cell_type": "markdown",
   "metadata": {},
   "source": [
    "DEAPを使用するための設定（解析手法と初期値）"
   ]
  },
  {
   "cell_type": "code",
   "execution_count": 13,
   "metadata": {},
   "outputs": [
    {
     "name": "stderr",
     "output_type": "stream",
     "text": [
      "C:\\Users\\makino\\anaconda3\\envs\\SimBook\\lib\\site-packages\\deap\\creator.py:138: RuntimeWarning: A class named 'Fitness' has already been created and it will be overwritten. Consider deleting previous creation of that class or rename it.\n",
      "  warnings.warn(\"A class named '{0}' has already been created and it \"\n",
      "C:\\Users\\makino\\anaconda3\\envs\\SimBook\\lib\\site-packages\\deap\\creator.py:138: RuntimeWarning: A class named 'Individual' has already been created and it will be overwritten. Consider deleting previous creation of that class or rename it.\n",
      "  warnings.warn(\"A class named '{0}' has already been created and it \"\n"
     ]
    }
   ],
   "source": [
    "creator.create(\"Fitness\", base.Fitness, weights=(-1.0,))\n",
    "creator.create(\"Individual\", list, fitness=creator.Fitness)\n",
    "\n",
    "toolbox = base.Toolbox()\n",
    "toolbox.register(\"attribute\", np.random.permutation, NUM_CITIES)\n",
    "toolbox.register(\"individual\", tools.initIterate, creator.Individual, toolbox.attribute)\n",
    "toolbox.register(\"population\", tools.initRepeat, list, toolbox.individual)"
   ]
  },
  {
   "cell_type": "markdown",
   "metadata": {},
   "source": [
    "評価関数"
   ]
  },
  {
   "cell_type": "code",
   "execution_count": 14,
   "metadata": {},
   "outputs": [],
   "source": [
    "def evalSalesman( individual ):\n",
    "    td = 0\n",
    "    for k in range(len(individual)+1):\n",
    "        i = individual[k-2]\n",
    "        j = individual[k-1]\n",
    "        d = distance.euclidean(list(cities)[i],list(cities)[j])\n",
    "        td +=d\n",
    "    return ( td, )"
   ]
  },
  {
   "cell_type": "markdown",
   "metadata": {},
   "source": [
    "DEAPを使用するための設定（評価，選択，交叉，突然変異）"
   ]
  },
  {
   "cell_type": "code",
   "execution_count": 15,
   "metadata": {},
   "outputs": [],
   "source": [
    "toolbox.register(\"evaluate\", evalSalesman)\n",
    "toolbox.register( \"mate\", tools.cxOrdered )\n",
    "toolbox.register( \"mutate\", tools.mutShuffleIndexes, indpb=0.05 )\n",
    "toolbox.register(\"select\", tools.selTournament, tournsize=3)"
   ]
  },
  {
   "cell_type": "markdown",
   "metadata": {},
   "source": [
    "シミュレーションの実行"
   ]
  },
  {
   "cell_type": "code",
   "execution_count": 16,
   "metadata": {},
   "outputs": [],
   "source": [
    "random.seed(1)\n",
    "cities = generate_cities( NUM_CITIES )\n",
    "pop = toolbox.population(n=100)\n",
    "res, log = algorithms.eaSimple( pop, toolbox, cxpb = 0.8, mutpb=0.2, ngen=1000, verbose=False)"
   ]
  },
  {
   "cell_type": "markdown",
   "metadata": {},
   "source": [
    "最もよい個体の表示"
   ]
  },
  {
   "cell_type": "code",
   "execution_count": 17,
   "metadata": {},
   "outputs": [
    {
     "name": "stdout",
     "output_type": "stream",
     "text": [
      "Best individual is [0, 1, 2, 3, 4, 5, 6, 7]\n",
      "(3444.1508912858076,)\n"
     ]
    }
   ],
   "source": [
    "best_ind = tools.selBest(pop, 1)[0]\n",
    "print(\"Best individual is %s\" % (best_ind))\n",
    "print(evalSalesman(best_ind))"
   ]
  },
  {
   "cell_type": "markdown",
   "metadata": {},
   "source": [
    "経路の可視化"
   ]
  },
  {
   "cell_type": "code",
   "execution_count": 18,
   "metadata": {},
   "outputs": [],
   "source": [
    "import matplotlib.pyplot as plt "
   ]
  },
  {
   "cell_type": "code",
   "execution_count": 19,
   "metadata": {},
   "outputs": [
    {
     "name": "stdout",
     "output_type": "stream",
     "text": [
      "6, 499.9999999999999, 0.0\n",
      "7, 853.5533905932737, 146.44660940672617\n",
      "0, 1000.0, 500.0\n",
      "1, 853.5533905932738, 853.5533905932738\n",
      "2, 500.00000000000006, 1000.0\n",
      "3, 146.44660940672628, 853.5533905932738\n",
      "4, 0.0, 500.00000000000006\n",
      "5, 146.44660940672617, 146.44660940672628\n",
      "6, 499.9999999999999, 0.0\n"
     ]
    },
    {
     "data": {
      "image/png": "[encoded data removed]",
      "text/plain": [
       "<Figure size 432x432 with 1 Axes>"
      ]
     },
     "metadata": {
      "needs_background": "light"
     },
     "output_type": "display_data"
    }
   ],
   "source": [
    "d = 0\n",
    "plt.subplots(figsize=(6, 6))\n",
    "plt.xlim(0, RANGE)\n",
    "plt.ylim(0, RANGE)\n",
    "plt.grid(True)\n",
    "\n",
    "px, py, pn = [], [], []\n",
    "for i in range(NUM_CITIES+1):\n",
    "    n1 = best_ind[i-2]\n",
    "    n2 = best_ind[i-1]\n",
    "    d += distance.euclidean(list(cities)[n1], list(cities)[n2])\n",
    "    print(\"%s, %s, %s\" % (n1, list(cities)[n1][0], list(cities)[n1][1]))\n",
    "    px += [list(cities)[n1][0]]\n",
    "    py += [list(cities)[n1][1]]\n",
    "    pn += [n1]\n",
    "    plt.annotate(n1, xy=(list(cities)[n1][0], list(cities)[n1][1]),fontsize=18)\n",
    "    plt.annotate('', xy=(list(cities)[n1][0], list(cities)[n1][1]),xytext=(list(cities)[n2][0], list(cities)[n2][1]),\n",
    "                 arrowprops=dict(arrowstyle='-|>', connectionstyle='arc3',facecolor='gray', edgecolor='gray'))\n",
    "    \n",
    "plt.plot(px, py, marker=\"o\", color='k', markersize=3,linestyle='None')\n",
    "plt.show()"
   ]
  }
 ],
 "metadata": {
  "kernelspec": {
   "display_name": "Python 3",
   "language": "python",
   "name": "python3"
  },
  "language_info": {
   "codemirror_mode": {
    "name": "ipython",
    "version": 3
   },
   "file_extension": ".py",
   "mimetype": "text/x-python",
   "name": "python",
   "nbconvert_exporter": "python",
   "pygments_lexer": "ipython3",
   "version": "3.8.3"
  }
 },
 "nbformat": 4,
 "nbformat_minor": 4
}
