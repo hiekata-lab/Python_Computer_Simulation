{
 "cells": [
  {
   "cell_type": "markdown",
   "metadata": {},
   "source": [
    "# 組合せに関係した問題（ナップザック問題の別法）\n",
    "\n",
    "・ナップザック問題を例題にした組み合わせ問題の解法の別法<br>\n",
    "・交叉と突然変異の自作関数の設定方法の説明\n",
    "\n",
    "DEAP\n",
    "https://deap.readthedocs.io/en/master/"
   ]
  },
  {
   "cell_type": "code",
   "execution_count": 1,
   "metadata": {},
   "outputs": [],
   "source": [
    "from deap import base, creator, tools, algorithms\n",
    "import numpy as np\n",
    "import random"
   ]
  },
  {
   "cell_type": "markdown",
   "metadata": {},
   "source": [
    "物の重さと価値の設定"
   ]
  },
  {
   "cell_type": "code",
   "execution_count": 2,
   "metadata": {},
   "outputs": [],
   "source": [
    "items = ((8,10),(7,13), (6,7),(5,4), (4,9),(3,3),(2,3),(1,2))"
   ]
  },
  {
   "cell_type": "markdown",
   "metadata": {},
   "source": [
    "DEAPを使用するための設定（解析手法と初期値）"
   ]
  },
  {
   "cell_type": "code",
   "execution_count": 3,
   "metadata": {},
   "outputs": [],
   "source": [
    "#価値の最大化\n",
    "creator.create( \"Fitness\", base.Fitness, weights=(1.0,) )\n",
    "#遺伝子の各要素に重複を許すさないためsetを設定\n",
    "creator.create(\"Individual\", set, fitness = creator.Fitness )\n",
    " \n",
    "toolbox = base.Toolbox()\n",
    "#遺伝子の属性の設定\n",
    "toolbox.register( \"attribute\", random.randrange, len(items) )\n",
    "#初期個体の生成\n",
    "toolbox.register( \"individual\", tools.initRepeat, creator.Individual, toolbox.attribute, len(items) )\n",
    "#初期個体群を作成\n",
    "toolbox.register( \"population\", tools.initRepeat, list, toolbox.individual )\n"
   ]
  },
  {
   "cell_type": "markdown",
   "metadata": {},
   "source": [
    "評価関数"
   ]
  },
  {
   "cell_type": "code",
   "execution_count": 4,
   "metadata": {},
   "outputs": [],
   "source": [
    "MAX_WEIGHT = 10\n",
    "def evalKnapsack( individual ):\n",
    "    weight = 0.0\n",
    "    value = 0.0\n",
    "    for item in individual:\n",
    "        weight += items[ item ][0]\n",
    "        value += items[ item ][1]\n",
    "    if len( individual ) > len(items) or weight > MAX_WEIGHT:\n",
    "        value = 0 \n",
    "    return value, "
   ]
  },
  {
   "cell_type": "markdown",
   "metadata": {},
   "source": [
    "交叉"
   ]
  },
  {
   "cell_type": "code",
   "execution_count": 8,
   "metadata": {},
   "outputs": [],
   "source": [
    "def cxSet( ind1, ind2 ):\n",
    "    temp = set( ind1)\n",
    "    ind1 &= ind2\n",
    "    ind2 ^= temp\n",
    "    return ind1, ind2"
   ]
  },
  {
   "cell_type": "markdown",
   "metadata": {},
   "source": [
    "突然変異"
   ]
  },
  {
   "cell_type": "code",
   "execution_count": 9,
   "metadata": {},
   "outputs": [],
   "source": [
    "def mutSet( individual ):\n",
    "    if random.random() < 0.5:\n",
    "        if len(individual)>0:\n",
    "            individual.remove( random.choice( sorted(tuple(individual)) ) )\n",
    "    else:\n",
    "        individual.add( random.randrange(len(items)))\n",
    "    return individual,"
   ]
  },
  {
   "cell_type": "markdown",
   "metadata": {},
   "source": [
    "DEAPを使用するための設定（評価，選択，交叉，突然変異）"
   ]
  },
  {
   "cell_type": "code",
   "execution_count": 12,
   "metadata": {},
   "outputs": [],
   "source": [
    "toolbox.register(\"evaluate\", evalKnapsack)\n",
    "toolbox.register(\"mate\", cxSet )\n",
    "toolbox.register(\"mutate\", mutSet )\n",
    "toolbox.register(\"select\", tools.selTournament, tournsize=3)"
   ]
  },
  {
   "cell_type": "markdown",
   "metadata": {},
   "source": [
    "シミュレーション中に表示する情報の設定"
   ]
  },
  {
   "cell_type": "code",
   "execution_count": 13,
   "metadata": {},
   "outputs": [],
   "source": [
    "hof = tools.ParetoFront()\n",
    "stats = tools.Statistics(lambda ind: ind.fitness.values)\n",
    "stats.register(\"avg\", np.mean, axis=0)\n",
    "stats.register(\"std\", np.std, axis=0)\n",
    "stats.register(\"min\", np.min, axis=0)\n",
    "stats.register(\"max\", np.max, axis=0)"
   ]
  },
  {
   "cell_type": "markdown",
   "metadata": {},
   "source": [
    "シミュレーションの実行"
   ]
  },
  {
   "cell_type": "code",
   "execution_count": 29,
   "metadata": {},
   "outputs": [
    {
     "name": "stdout",
     "output_type": "stream",
     "text": [
      "gen\tnevals\tavg \tstd \tmin \tmax \n",
      "0  \t50    \t[0.]\t[0.]\t[0.]\t[0.]\n",
      "1  \t46    \t[0.68]\t[2.31896529]\t[0.]\t[12.]\n",
      "2  \t46    \t[2.14]\t[4.27087813]\t[0.]\t[16.]\n",
      "3  \t36    \t[4.4] \t[5.34041197]\t[0.]\t[16.]\n",
      "4  \t44    \t[3.18]\t[5.3204887] \t[0.]\t[16.]\n",
      "5  \t39    \t[3.88]\t[5.48685702]\t[0.]\t[16.]\n",
      "6  \t43    \t[4.14]\t[5.60003571]\t[0.]\t[16.]\n",
      "7  \t39    \t[6.2] \t[6.03986755]\t[0.]\t[16.]\n",
      "8  \t37    \t[7.68]\t[6.50673497]\t[0.]\t[18.]\n",
      "9  \t35    \t[7.88]\t[6.69220442]\t[0.]\t[18.]\n",
      "10 \t44    \t[7.68]\t[6.50673497]\t[0.]\t[18.]\n"
     ]
    },
    {
     "data": {
      "text/plain": [
       "([{1},\n",
       "  {7},\n",
       "  {1},\n",
       "  {7},\n",
       "  {1},\n",
       "  {5},\n",
       "  {1},\n",
       "  {0, 7},\n",
       "  {1},\n",
       "  Individual(),\n",
       "  {1, 7},\n",
       "  {1, 6, 7},\n",
       "  {1},\n",
       "  {5, 7},\n",
       "  {1},\n",
       "  {5},\n",
       "  {1},\n",
       "  {5, 7},\n",
       "  Individual(),\n",
       "  {0, 1, 5, 7},\n",
       "  {1},\n",
       "  {5},\n",
       "  Individual(),\n",
       "  {1},\n",
       "  {1},\n",
       "  {7},\n",
       "  {1, 5},\n",
       "  Individual(),\n",
       "  {1, 7},\n",
       "  Individual(),\n",
       "  {1, 6},\n",
       "  Individual(),\n",
       "  {1},\n",
       "  Individual(),\n",
       "  {1, 4},\n",
       "  {5},\n",
       "  {1, 6, 7},\n",
       "  {1},\n",
       "  {0, 1},\n",
       "  Individual(),\n",
       "  {1},\n",
       "  {5, 7},\n",
       "  Individual(),\n",
       "  {1, 5},\n",
       "  {1},\n",
       "  {7},\n",
       "  {1},\n",
       "  {0, 5, 7},\n",
       "  {1, 7},\n",
       "  Individual()],\n",
       " [{'gen': 0,\n",
       "   'nevals': 50,\n",
       "   'avg': array([0.]),\n",
       "   'std': array([0.]),\n",
       "   'min': array([0.]),\n",
       "   'max': array([0.])},\n",
       "  {'gen': 1,\n",
       "   'nevals': 46,\n",
       "   'avg': array([0.68]),\n",
       "   'std': array([2.31896529]),\n",
       "   'min': array([0.]),\n",
       "   'max': array([12.])},\n",
       "  {'gen': 2,\n",
       "   'nevals': 46,\n",
       "   'avg': array([2.14]),\n",
       "   'std': array([4.27087813]),\n",
       "   'min': array([0.]),\n",
       "   'max': array([16.])},\n",
       "  {'gen': 3,\n",
       "   'nevals': 36,\n",
       "   'avg': array([4.4]),\n",
       "   'std': array([5.34041197]),\n",
       "   'min': array([0.]),\n",
       "   'max': array([16.])},\n",
       "  {'gen': 4,\n",
       "   'nevals': 44,\n",
       "   'avg': array([3.18]),\n",
       "   'std': array([5.3204887]),\n",
       "   'min': array([0.]),\n",
       "   'max': array([16.])},\n",
       "  {'gen': 5,\n",
       "   'nevals': 39,\n",
       "   'avg': array([3.88]),\n",
       "   'std': array([5.48685702]),\n",
       "   'min': array([0.]),\n",
       "   'max': array([16.])},\n",
       "  {'gen': 6,\n",
       "   'nevals': 43,\n",
       "   'avg': array([4.14]),\n",
       "   'std': array([5.60003571]),\n",
       "   'min': array([0.]),\n",
       "   'max': array([16.])},\n",
       "  {'gen': 7,\n",
       "   'nevals': 39,\n",
       "   'avg': array([6.2]),\n",
       "   'std': array([6.03986755]),\n",
       "   'min': array([0.]),\n",
       "   'max': array([16.])},\n",
       "  {'gen': 8,\n",
       "   'nevals': 37,\n",
       "   'avg': array([7.68]),\n",
       "   'std': array([6.50673497]),\n",
       "   'min': array([0.]),\n",
       "   'max': array([18.])},\n",
       "  {'gen': 9,\n",
       "   'nevals': 35,\n",
       "   'avg': array([7.88]),\n",
       "   'std': array([6.69220442]),\n",
       "   'min': array([0.]),\n",
       "   'max': array([18.])},\n",
       "  {'gen': 10,\n",
       "   'nevals': 44,\n",
       "   'avg': array([7.68]),\n",
       "   'std': array([6.50673497]),\n",
       "   'min': array([0.]),\n",
       "   'max': array([18.])}])"
      ]
     },
     "execution_count": 29,
     "metadata": {},
     "output_type": "execute_result"
    }
   ],
   "source": [
    "pop = toolbox.population(n=50)#個体数50\n",
    "algorithms.eaSimple( pop, toolbox, cxpb = 0.8, mutpb=0.1, ngen=10, stats=stats, halloffame=hof, verbose=True)#世代数100"
   ]
  },
  {
   "cell_type": "markdown",
   "metadata": {},
   "source": [
    "最もよい個体の表示"
   ]
  },
  {
   "cell_type": "code",
   "execution_count": 30,
   "metadata": {},
   "outputs": [
    {
     "name": "stdout",
     "output_type": "stream",
     "text": [
      "Individual({1, 6, 7})\n",
      "(18.0,)\n"
     ]
    }
   ],
   "source": [
    "best_ind = tools.selBest(pop, 1)[0]\n",
    "print(best_ind)\n",
    "print(evalKnapsack(best_ind))"
   ]
  }
 ],
 "metadata": {
  "kernelspec": {
   "display_name": "Python 3",
   "language": "python",
   "name": "python3"
  },
  "language_info": {
   "codemirror_mode": {
    "name": "ipython",
    "version": 3
   },
   "file_extension": ".py",
   "mimetype": "text/x-python",
   "name": "python",
   "nbconvert_exporter": "python",
   "pygments_lexer": "ipython3",
   "version": "3.8.3"
  }
 },
 "nbformat": 4,
 "nbformat_minor": 4
}
