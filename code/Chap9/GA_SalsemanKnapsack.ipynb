{
 "cells": [
  {
   "cell_type": "markdown",
   "metadata": {},
   "source": [
    "# 順序と組合せに関係した問題（トラック配車計画の最適化）\n",
    "\n",
    "・組み合わせ問題と順序に関する問題を同時に扱うための解法\n",
    "\n",
    "DEAP\n",
    "https://deap.readthedocs.io/en/master/"
   ]
  },
  {
   "cell_type": "code",
   "execution_count": 1,
   "metadata": {},
   "outputs": [],
   "source": [
    "from deap import base, creator, tools, algorithms\n",
    "import numpy as np\n",
    "import random\n",
    "import math\n",
    "from scipy.spatial import distance"
   ]
  },
  {
   "cell_type": "code",
   "execution_count": 2,
   "metadata": {},
   "outputs": [],
   "source": [
    "NUM_CITIES  = 20\n",
    "RANGE = 300"
   ]
  },
  {
   "cell_type": "markdown",
   "metadata": {},
   "source": [
    "2か所に局在化させて配置"
   ]
  },
  {
   "cell_type": "code",
   "execution_count": 12,
   "metadata": {},
   "outputs": [],
   "source": [
    "def generate_cities( n ):\n",
    "    cities1 = set( ( random.randrange(0,100),random.randrange( 200,300) ) for i in range( int(n/2)) )\n",
    "    cities2 = set( ( random.randrange(200,300),random.randrange( 0,100) ) for i in range( int(n/2)) )\n",
    "    return cities1 | cities2"
   ]
  },
  {
   "cell_type": "markdown",
   "metadata": {},
   "source": [
    "【検証用の別配置】ランダムに配置（2か所に局在化させて配置もしくはランダムに配置のどちらかを使用する）"
   ]
  },
  {
   "cell_type": "code",
   "execution_count": 4,
   "metadata": {},
   "outputs": [],
   "source": [
    "def generate_cities( n ):\n",
    "    return set( ( random.randrange(0,RANGE),random.randrange( 0,RANGE) ) for i in range( n) )"
   ]
  },
  {
   "cell_type": "markdown",
   "metadata": {},
   "source": [
    "DEAPを使用するための設定（解析手法と初期値）"
   ]
  },
  {
   "cell_type": "code",
   "execution_count": 13,
   "metadata": {},
   "outputs": [
    {
     "name": "stderr",
     "output_type": "stream",
     "text": [
      "C:\\Users\\makino\\anaconda3\\envs\\SimBook\\lib\\site-packages\\deap\\creator.py:138: RuntimeWarning: A class named 'Fitness' has already been created and it will be overwritten. Consider deleting previous creation of that class or rename it.\n",
      "  warnings.warn(\"A class named '{0}' has already been created and it \"\n",
      "C:\\Users\\makino\\anaconda3\\envs\\SimBook\\lib\\site-packages\\deap\\creator.py:138: RuntimeWarning: A class named 'Individual' has already been created and it will be overwritten. Consider deleting previous creation of that class or rename it.\n",
      "  warnings.warn(\"A class named '{0}' has already been created and it \"\n"
     ]
    }
   ],
   "source": [
    "creator.create(\"Fitness\", base.Fitness, weights=(-1.0,))\n",
    "creator.create(\"Individual\", list, fitness=creator.Fitness)\n",
    "\n",
    "toolbox = base.Toolbox()\n",
    "toolbox.register(\"attribute\", np.random.permutation, NUM_CITIES)\n",
    "toolbox.register(\"individual\", tools.initIterate, creator.Individual, toolbox.attribute)\n",
    "toolbox.register(\"population\", tools.initRepeat, list, toolbox.individual)"
   ]
  },
  {
   "cell_type": "markdown",
   "metadata": {},
   "source": [
    "評価関数"
   ]
  },
  {
   "cell_type": "code",
   "execution_count": 14,
   "metadata": {},
   "outputs": [],
   "source": [
    "def evalSalesmanKnapsack( individual ):\n",
    "    td = 0\n",
    "    num = len(individual)\n",
    "    ind = [individual[:int(num/2)],individual[int(num/2):]]\n",
    "    for j in range(2):\n",
    "        for i in range(int(num/2)+1):\n",
    "            c1 = ind[j][i-2]\n",
    "            c2 = ind[j][i-1]\n",
    "            d = distance.euclidean(list(cities)[c1],list(cities)[c2])\n",
    "            td +=d\n",
    "    return ( td, )"
   ]
  },
  {
   "cell_type": "markdown",
   "metadata": {},
   "source": [
    "DEAPを使用するための設定（評価，選択，交叉，突然変異）"
   ]
  },
  {
   "cell_type": "code",
   "execution_count": 15,
   "metadata": {},
   "outputs": [],
   "source": [
    "toolbox.register(\"evaluate\", evalSalesmanKnapsack)\n",
    "toolbox.register( \"mate\", tools.cxOrdered )\n",
    "toolbox.register( \"mutate\", tools.mutShuffleIndexes, indpb=0.05 )\n",
    "toolbox.register(\"select\", tools.selTournament, tournsize=3)"
   ]
  },
  {
   "cell_type": "markdown",
   "metadata": {},
   "source": [
    "シミュレーションの実行"
   ]
  },
  {
   "cell_type": "code",
   "execution_count": 16,
   "metadata": {},
   "outputs": [],
   "source": [
    "random.seed(1)\n",
    "cities = generate_cities( NUM_CITIES )\n",
    "pop = toolbox.population(n=100)\n",
    "res, log = algorithms.eaSimple( pop, toolbox, cxpb = 0.8, mutpb=0.2, ngen=1000, verbose=False)"
   ]
  },
  {
   "cell_type": "markdown",
   "metadata": {},
   "source": [
    "最もよい個体の表示"
   ]
  },
  {
   "cell_type": "code",
   "execution_count": 17,
   "metadata": {},
   "outputs": [
    {
     "name": "stdout",
     "output_type": "stream",
     "text": [
      "Best individual is [3, 13, 0, 19, 9, 10, 17, 16, 2, 18, 4, 7, 8, 12, 5, 1, 15, 11, 6, 14]\n",
      "(720.529433384653,)\n"
     ]
    }
   ],
   "source": [
    "best_ind = tools.selBest(pop, 1)[0]\n",
    "print(\"Best individual is %s\" % (best_ind))\n",
    "print(evalSalesmanKnapsack(best_ind))"
   ]
  },
  {
   "cell_type": "markdown",
   "metadata": {},
   "source": [
    "経路の可視化"
   ]
  },
  {
   "cell_type": "code",
   "execution_count": 18,
   "metadata": {},
   "outputs": [],
   "source": [
    "import matplotlib.pyplot as plt "
   ]
  },
  {
   "cell_type": "code",
   "execution_count": 19,
   "metadata": {},
   "outputs": [
    {
     "name": "stdout",
     "output_type": "stream",
     "text": [
      "2, 57, 260\n",
      "18, 49, 255\n",
      "3, 32, 215\n",
      "13, 26, 212\n",
      "0, 62, 203\n",
      "19, 97, 208\n",
      "9, 83, 248\n",
      "10, 77, 297\n",
      "17, 63, 297\n",
      "16, 17, 272\n",
      "2, 57, 260\n",
      "6, 229, 75\n",
      "14, 227, 54\n",
      "4, 213, 40\n",
      "7, 203, 2\n",
      "8, 269, 1\n",
      "12, 298, 0\n",
      "5, 289, 57\n",
      "1, 248, 87\n",
      "15, 234, 92\n",
      "11, 203, 83\n",
      "6, 229, 75\n"
     ]
    },
    {
     "data": {
      "image/png": "[encoded data removed]",
      "text/plain": [
       "<Figure size 432x432 with 1 Axes>"
      ]
     },
     "metadata": {
      "needs_background": "light"
     },
     "output_type": "display_data"
    }
   ],
   "source": [
    "d = 0\n",
    "plt.subplots(figsize=(6, 6))\n",
    "plt.xlim(0, RANGE)\n",
    "plt.ylim(0, RANGE)\n",
    "plt.grid(True)\n",
    "px, py, pn = [], [], []\n",
    "\n",
    "num = len(best_ind)\n",
    "ind = [best_ind[:int(num/2)],best_ind[int(num/2):]]\n",
    "j = 0\n",
    "for j in range(2):\n",
    "    for i in range(int(num/2)+1):\n",
    "        n1 = ind[j][i-2]\n",
    "        n2 = ind[j][i-1]\n",
    "        print(\"%s, %s, %s\" % (n1, list(cities)[n1][0], list(cities)[n1][1]))\n",
    "        px += [list(cities)[n1][0]]\n",
    "        py += [list(cities)[n1][1]]\n",
    "        pn += [n1]\n",
    "        plt.annotate(n1, xy=(list(cities)[n1][0], list(cities)[n1][1]),fontsize=18)\n",
    "        plt.annotate('', xy=(list(cities)[n1][0], list(cities)[n1][1]),xytext=(list(cities)[n2][0], list(cities)[n2][1]),\n",
    "                     arrowprops=dict(arrowstyle='-|>', connectionstyle='arc3',facecolor='gray', edgecolor='gray'))\n",
    "    \n",
    "plt.plot(px, py, marker=\"o\", color='k', markersize=3,linestyle='None')\n",
    "plt.show()\n"
   ]
  }
 ],
 "metadata": {
  "kernelspec": {
   "display_name": "Python 3",
   "language": "python",
   "name": "python3"
  },
  "language_info": {
   "codemirror_mode": {
    "name": "ipython",
    "version": 3
   },
   "file_extension": ".py",
   "mimetype": "text/x-python",
   "name": "python",
   "nbconvert_exporter": "python",
   "pygments_lexer": "ipython3",
   "version": "3.8.3"
  }
 },
 "nbformat": 4,
 "nbformat_minor": 4
}
