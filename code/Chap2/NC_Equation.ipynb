{
 "cells": [
  {
   "cell_type": "markdown",
   "metadata": {},
   "source": [
    "# 方程式の数値解法"
   ]
  },
  {
   "cell_type": "code",
   "execution_count": null,
   "metadata": {},
   "outputs": [],
   "source": [
    "# -*- coding: utf-8 -*-\n",
    "import numpy as np\n",
    "import sympy as symp\n",
    "\n",
    "import matplotlib.pyplot as plt\n",
    "%matplotlib inline"
   ]
  },
  {
   "cell_type": "markdown",
   "metadata": {},
   "source": [
    "### 例：計算順序の影響\n",
    "方程式 $ (x-a)^2 = b $ の解は $x = a \\pm \\sqrt{b}$である。"
   ]
  },
  {
   "cell_type": "code",
   "execution_count": null,
   "metadata": {},
   "outputs": [],
   "source": [
    "a = np.float32(1000.)\n",
    "b = np.float32(10**(-8))\n",
    "print(type(a), type(b), type(np.sqrt(b)))"
   ]
  },
  {
   "cell_type": "code",
   "execution_count": null,
   "metadata": {
    "scrolled": true
   },
   "outputs": [],
   "source": [
    "x1 = (2*a + np.sqrt((2*a)**2 - 4*(a**2-b)))/2\n",
    "x2 = (2*a + np.sqrt( ((2*a)**2 - 4*(a**2)) + 4*b))/2\n",
    "x3 = a + np.sqrt(b)\n",
    "print(x1,x2, x3)"
   ]
  },
  {
   "cell_type": "markdown",
   "metadata": {},
   "source": [
    "#### numpy.roots()\n",
    "https://numpy.org/doc/stable/reference/generated/numpy.roots.html<br>\n",
    "解のアルゴリズムは同伴行列を用いた反復法"
   ]
  },
  {
   "cell_type": "code",
   "execution_count": null,
   "metadata": {},
   "outputs": [],
   "source": [
    "np.roots([1.0, -2*a,  a**2-b])"
   ]
  },
  {
   "cell_type": "markdown",
   "metadata": {},
   "source": [
    "#### ニュートン法\n",
    "https://en.wikipedia.org/wiki/Newton's_method<br>\n",
    "https://ja.wikipedia.org/wiki/ニュートン法"
   ]
  },
  {
   "cell_type": "code",
   "execution_count": null,
   "metadata": {},
   "outputs": [],
   "source": [
    "def newton_method(f, df, x0, eps):\n",
    "    for i in range(1, 100):\n",
    "        x = x0 - f(x0)/df(x0)\n",
    "        print(i, x)\n",
    "        if abs(x - x0) < eps:break #収束判定\n",
    "        x0 = x      \n",
    "    return x0, i"
   ]
  },
  {
   "cell_type": "markdown",
   "metadata": {},
   "source": [
    "### 簡単な例:\n",
    "$$ x^2 - 9 = 0$$"
   ]
  },
  {
   "cell_type": "code",
   "execution_count": null,
   "metadata": {},
   "outputs": [],
   "source": [
    "def f1(x): # 関数\n",
    "    return x*x - 9.0\n",
    " \n",
    "def df1(x): # 導関数\n",
    "    return 2.0*x\n",
    "\n",
    "eps = 1.e-4 # 収束判定に用いる許容誤差\n",
    "x0  = 1.0  # 初期値\n",
    "x , i = newton_method(f1, df1, x0, eps)\n",
    "print('Solution = ',x ,' The number of iteration =', i, \")\") "
   ]
  },
  {
   "cell_type": "markdown",
   "metadata": {},
   "source": [
    "### 例：収束しない例\n",
    "$$\n",
    "f(x) = 3 \\tan ^{-1}(x-1) + \\frac{x}{4} = 0\n",
    "$$\n",
    "初めに，$f(x)$の微分をSymPyを用いて求める。"
   ]
  },
  {
   "cell_type": "code",
   "execution_count": null,
   "metadata": {
    "scrolled": true
   },
   "outputs": [],
   "source": [
    "X = symp.Symbol('X')\n",
    "expr = 3*symp.atan(X-1) + X/4\n",
    "symp.diff(expr, X)"
   ]
  },
  {
   "cell_type": "markdown",
   "metadata": {},
   "source": [
    "#### 初期値2.5は収束，3.0は収束しない"
   ]
  },
  {
   "cell_type": "code",
   "execution_count": null,
   "metadata": {},
   "outputs": [],
   "source": [
    "def f2(x):\n",
    "    return 3*np.arctan(x-1) + x/4\n",
    "\n",
    "def df2(x):\n",
    "    return 3/((x-1)**2+1) +1/4\n",
    "\n",
    "eps = 1.e-4 # 収束判定に用いる許容誤差\n",
    "x0  = 2.5  # 初期値\n",
    "x , i = newton_method(f2, df2, x0, eps)\n",
    "print('Solution = ',x ,' The number of iteration =', i, \")\") "
   ]
  },
  {
   "cell_type": "markdown",
   "metadata": {},
   "source": [
    "#### 関数のプロット"
   ]
  },
  {
   "cell_type": "code",
   "execution_count": null,
   "metadata": {},
   "outputs": [],
   "source": [
    "xx = np.arange(-10, 10, 0.1)\n",
    "yy = f2(xx)\n",
    "plt.plot(xx, yy, c='k')\n",
    "plt.grid()\n",
    "plt.xlabel('x')\n",
    "plt.ylabel('f(x)')\n",
    "\n",
    "#plt.savefig('fig_NC_EquationFx.png', bbox_inches='tight')"
   ]
  },
  {
   "cell_type": "code",
   "execution_count": null,
   "metadata": {},
   "outputs": [],
   "source": []
  }
 ],
 "metadata": {
  "kernelspec": {
   "display_name": "Python 3",
   "language": "python",
   "name": "python3"
  },
  "language_info": {
   "codemirror_mode": {
    "name": "ipython",
    "version": 3
   },
   "file_extension": ".py",
   "mimetype": "text/x-python",
   "name": "python",
   "nbconvert_exporter": "python",
   "pygments_lexer": "ipython3",
   "version": "3.12.6"
  }
 },
 "nbformat": 4,
 "nbformat_minor": 4
}
