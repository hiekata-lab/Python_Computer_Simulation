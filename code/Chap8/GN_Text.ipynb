{
 "cells": [
  {
   "cell_type": "markdown",
   "metadata": {},
   "source": [
    "# 文章の相関の可視化（共起ネットワーク）\n",
    "・文章を単語へ分かち書き（分解）<br>\n",
    "・単語の接続<br>\n",
    "・共起ネットワークの作成<br>\n",
    "\n",
    "NetworkX\n",
    "https://networkx.org/documentation/stable/index.html"
   ]
  },
  {
   "cell_type": "code",
   "execution_count": 1,
   "metadata": {},
   "outputs": [],
   "source": [
    "import MeCab#分かち書き用ライブラリ"
   ]
  },
  {
   "cell_type": "markdown",
   "metadata": {},
   "source": [
    "分かち書きの基礎"
   ]
  },
  {
   "cell_type": "code",
   "execution_count": 2,
   "metadata": {},
   "outputs": [
    {
     "name": "stdout",
     "output_type": "stream",
     "text": [
      " BOS/EOS\n",
      "メロス 名詞\n",
      "は 助詞\n",
      "激怒 名詞\n",
      "し 動詞\n",
      "た 助動詞\n",
      "。 補助記号\n",
      " BOS/EOS\n"
     ]
    }
   ],
   "source": [
    "mecab = MeCab.Tagger()\n",
    "node = mecab.parseToNode(\"メロスは激怒した。\")\n",
    "while node:\n",
    "    w = node.surface\n",
    "    w_type = node.feature.split(',')[0]\n",
    "    print(w, w_type)\n",
    "    node = node.next"
   ]
  },
  {
   "cell_type": "markdown",
   "metadata": {},
   "source": [
    "#### 走れメロスの最初の文の共起ネットワーク（文単位で解析）"
   ]
  },
  {
   "cell_type": "markdown",
   "metadata": {},
   "source": [
    "走れメロスの最初の文だけ書かれたファイルの読み込み"
   ]
  },
  {
   "cell_type": "code",
   "execution_count": 3,
   "metadata": {},
   "outputs": [],
   "source": [
    "with open(\"hashire_merosu_first.txt\", mode=\"r\") as f:\n",
    "    text_all = f.read() "
   ]
  },
  {
   "cell_type": "markdown",
   "metadata": {},
   "source": [
    "不必要な部分（ヘッダや説明）を削除"
   ]
  },
  {
   "cell_type": "code",
   "execution_count": 4,
   "metadata": {},
   "outputs": [
    {
     "data": {
      "text/plain": [
       "['メロスは激怒した', '必ず、かの邪智暴虐の王を除かなければならぬと決意した', 'メロスには政治がわからぬ', 'メロスは、村の牧人である', '']"
      ]
     },
     "execution_count": 4,
     "metadata": {},
     "output_type": "execute_result"
    }
   ],
   "source": [
    "import re\n",
    "\n",
    "text = re.split(r'\\-{5,}', text_all)[2]\n",
    "text = re.split(r'底本：', text)[0]\n",
    "text = re.sub(r'《.+?》', '', text)\n",
    "text = re.sub(r'［＃.+?］', '', text)\n",
    "text = re.sub(r'\\n', '', text)\n",
    "text = re.sub(r'「', '', text)\n",
    "text = re.sub(r'」', '', text)\n",
    "text = re.sub(r'\\u3000', '', text)\n",
    "text = text.strip()\n",
    "text = text.split(\"。\")\n",
    "#text = text.split(\"\\n\")\n",
    "text"
   ]
  },
  {
   "cell_type": "markdown",
   "metadata": {},
   "source": [
    "名詞だけ抜き出す"
   ]
  },
  {
   "cell_type": "code",
   "execution_count": 5,
   "metadata": {},
   "outputs": [
    {
     "name": "stdout",
     "output_type": "stream",
     "text": [
      "メロス 名詞\n",
      "激怒 名詞\n",
      "邪智 名詞\n",
      "暴虐 名詞\n",
      "王 名詞\n",
      "決意 名詞\n",
      "メロス 名詞\n",
      "政治 名詞\n",
      "メロス 名詞\n",
      "村 名詞\n",
      "牧人 名詞\n"
     ]
    }
   ],
   "source": [
    "mecab = MeCab.Tagger()\n",
    "for line in text:\n",
    "    node = mecab.parseToNode(line)\n",
    "    while node:\n",
    "        w = node.surface\n",
    "        w_type = node.feature.split(',')[0]\n",
    "        if w_type in [\"名詞\"]:\n",
    "            print(w, w_type)\n",
    "        node = node.next"
   ]
  },
  {
   "cell_type": "markdown",
   "metadata": {},
   "source": [
    "文章内の単語のつながりを解析"
   ]
  },
  {
   "cell_type": "code",
   "execution_count": 6,
   "metadata": {},
   "outputs": [
    {
     "name": "stdout",
     "output_type": "stream",
     "text": [
      "[['メロス', '政治'], ['メロス', '村', '牧人'], ['メロス', '激怒'], ['邪智', '暴虐', '王', '決意']]\n"
     ]
    }
   ],
   "source": [
    "mecab = MeCab.Tagger()\n",
    "list_2 = []\n",
    "for line in text:\n",
    "    node = mecab.parseToNode(line)\n",
    "    list_1 = []\n",
    "    while node:\n",
    "        w = node.surface\n",
    "        w_type = node.feature.split(',')[0]\n",
    "        if w_type in [\"名詞\"]:\n",
    "            list_1.append(w)\n",
    "        node = node.next\n",
    "    if list_1:\n",
    "        list_2.append(list_1)\n",
    "print(sorted(list_2)) "
   ]
  },
  {
   "cell_type": "code",
   "execution_count": 7,
   "metadata": {},
   "outputs": [],
   "source": [
    "from collections import defaultdict, Counter, OrderedDict\n",
    "from copy import copy, deepcopy\n",
    "from itertools import combinations, dropwhile"
   ]
  },
  {
   "cell_type": "markdown",
   "metadata": {},
   "source": [
    "単語のペアを作成"
   ]
  },
  {
   "cell_type": "code",
   "execution_count": 8,
   "metadata": {},
   "outputs": [
    {
     "name": "stdout",
     "output_type": "stream",
     "text": [
      "Counter({('メロス', '激怒'): 1, ('王', '邪智'): 1, ('決意', '邪智'): 1, ('暴虐', '邪智'): 1, ('決意', '王'): 1, ('暴虐', '王'): 1, ('暴虐', '決意'): 1, ('メロス', '政治'): 1, ('メロス', '村'): 1, ('メロス', '牧人'): 1, ('村', '牧人'): 1})\n"
     ]
    }
   ],
   "source": [
    "pair_all = []\n",
    "for list_1 in list_2:\n",
    "    pair_1 = list(combinations(set(list_1), 2))\n",
    "    for i,pair in enumerate(pair_1):\n",
    "        pair_1[i] = tuple(sorted(pair))\n",
    "    pair_all += pair_1\n",
    "pair_count = Counter(pair_all)\n",
    "min_cnt=0\n",
    "for key, count in dropwhile(lambda key_count: key_count[1] >= min_cnt, pair_count.most_common()):\n",
    "    del pair_count[key]\n",
    "print(pair_count)"
   ]
  },
  {
   "cell_type": "markdown",
   "metadata": {},
   "source": [
    "出現頻度のカウント"
   ]
  },
  {
   "cell_type": "code",
   "execution_count": 9,
   "metadata": {},
   "outputs": [
    {
     "name": "stdout",
     "output_type": "stream",
     "text": [
      "Counter({'メロス': 3, '激怒': 1, '邪智': 1, '王': 1, '決意': 1, '暴虐': 1, '政治': 1, '村': 1, '牧人': 1})\n"
     ]
    }
   ],
   "source": [
    "word_count = Counter()\n",
    "for list_1 in list_2:\n",
    "    word_count += Counter(set(list_1))\n",
    "print(word_count)"
   ]
  },
  {
   "cell_type": "markdown",
   "metadata": {},
   "source": [
    "jaccard係数の計算"
   ]
  },
  {
   "cell_type": "code",
   "execution_count": 10,
   "metadata": {},
   "outputs": [
    {
     "name": "stdout",
     "output_type": "stream",
     "text": [
      "[0.3333333333333333, 1.0, 1.0, 1.0, 1.0, 1.0, 1.0, 0.3333333333333333, 0.3333333333333333, 0.3333333333333333, 1.0]\n"
     ]
    }
   ],
   "source": [
    "jaccard_coef = []\n",
    "for pair, cnt in pair_count.items():\n",
    "    jaccard_coef.append(cnt / (word_count[pair[0]] + word_count[pair[1]] - cnt))\n",
    "print(jaccard_coef)"
   ]
  },
  {
   "cell_type": "markdown",
   "metadata": {},
   "source": [
    "jaccard係数がedge_th未満の単語ペアを除外"
   ]
  },
  {
   "cell_type": "code",
   "execution_count": 11,
   "metadata": {},
   "outputs": [
    {
     "name": "stdout",
     "output_type": "stream",
     "text": [
      "('メロス', '激怒')\t1\t0.3333333333333333\t3\t1\n",
      "('王', '邪智')\t1\t1.0\t1\t1\n",
      "('決意', '邪智')\t1\t1.0\t1\t1\n",
      "('暴虐', '邪智')\t1\t1.0\t1\t1\n",
      "('決意', '王')\t1\t1.0\t1\t1\n",
      "('暴虐', '王')\t1\t1.0\t1\t1\n",
      "('暴虐', '決意')\t1\t1.0\t1\t1\n",
      "('メロス', '政治')\t1\t0.3333333333333333\t3\t1\n",
      "('メロス', '村')\t1\t0.3333333333333333\t3\t1\n",
      "('メロス', '牧人')\t1\t0.3333333333333333\t3\t1\n",
      "('村', '牧人')\t1\t1.0\t1\t1\n"
     ]
    }
   ],
   "source": [
    "edge_th=0.0\n",
    "jaccard_dict = OrderedDict()\n",
    "for (pair, cnt), coef in zip(pair_count.items(), jaccard_coef):\n",
    "    if coef >= edge_th:\n",
    "        jaccard_dict[pair] = coef\n",
    "        print(pair, cnt, coef, word_count[pair[0]], word_count[pair[1]], sep='\\t')"
   ]
  },
  {
   "cell_type": "code",
   "execution_count": 12,
   "metadata": {},
   "outputs": [
    {
     "name": "stderr",
     "output_type": "stream",
     "text": [
      "C:\\Users\\makino\\anaconda3\\envs\\SimBook\\lib\\site-packages\\japanize_matplotlib\\japanize_matplotlib.py:15: MatplotlibDeprecationWarning: \n",
      "The createFontList function was deprecated in Matplotlib 3.2 and will be removed two minor releases later. Use FontManager.addfont instead.\n",
      "  font_list = font_manager.createFontList(font_files)\n"
     ]
    }
   ],
   "source": [
    "import numpy as np\n",
    "import matplotlib.pyplot as plt\n",
    "import matplotlib\n",
    "matplotlib.rcParams['font.family'] = 'MS Gothic'\n",
    "import japanize_matplotlib\n",
    "\n",
    "import networkx as nx"
   ]
  },
  {
   "cell_type": "markdown",
   "metadata": {},
   "source": [
    "グラフで表示"
   ]
  },
  {
   "cell_type": "code",
   "execution_count": 13,
   "metadata": {},
   "outputs": [
    {
     "name": "stdout",
     "output_type": "stream",
     "text": [
      "Number of nodes = 9\n",
      "Number of edges = 11\n"
     ]
    },
    {
     "data": {
      "image/png": "[encoded data removed]",
      "text/plain": [
       "<Figure size 432x432 with 1 Axes>"
      ]
     },
     "metadata": {},
     "output_type": "display_data"
    }
   ],
   "source": [
    "G = nx.Graph()\n",
    "nodes = sorted(set([j for pair in jaccard_dict.keys() for j in pair]))\n",
    "G.add_nodes_from(nodes)\n",
    "print('Number of nodes =', G.number_of_nodes())\n",
    "\n",
    "#  線（edge）の追加\n",
    "for pair, coef in jaccard_dict.items():\n",
    "    G.add_edge(pair[0], pair[1], weight=coef)\n",
    "\n",
    "print('Number of edges =', G.number_of_edges())\n",
    "\n",
    "plt.figure(figsize=(6, 6))\n",
    "\n",
    "# nodeの配置方法の指定\n",
    "seed = 0\n",
    "np.random.seed(seed)\n",
    "pos = nx.spring_layout(G, k=0.3, seed=seed)\n",
    "pr = nx.pagerank(G)\n",
    "nx.draw_networkx_nodes(\n",
    "    G,\n",
    "    pos,\n",
    "    node_color='w',#list(pr.values()),\n",
    "    edgecolors='k', \n",
    "#    cmap=plt.cm.rainbow,\n",
    "    alpha=0.7,\n",
    "    node_size=1000)#[10000*v for v in pr.values()])\n",
    "\n",
    "# 日本語ラベルの設定\n",
    "nx.draw_networkx_labels(G, pos, font_size=15, font_family='MS Gothic', font_weight='bold')\n",
    "\n",
    "# エッジの太さをJaccard係数により変える\n",
    "edge_width = [d['weight'] * 2 for (u, v, d) in G.edges(data=True)]\n",
    "nx.draw_networkx_edges(G, pos, alpha=0.7, edge_color='darkgrey', width=edge_width)\n",
    "plt.axis('off')\n",
    "plt.tight_layout()\n",
    "plt.savefig(\"mrs_first1.png\")\n",
    "plt.savefig(\"mrs_first1.svg\")\n",
    "plt.show()"
   ]
  },
  {
   "cell_type": "markdown",
   "metadata": {},
   "source": [
    "#### 走れメロスの最初の文の共起ネットワーク（段落単位で解析）\n",
    "ここまでのスクリプトは句点（。）で区切って解析の塊を作っていたが，以下では段落で区切って解析の塊を作る。<br>\n",
    "以下のスクリプトは段落で繰りるように修正している。"
   ]
  },
  {
   "cell_type": "code",
   "execution_count": 14,
   "metadata": {},
   "outputs": [
    {
     "data": {
      "text/plain": [
       "['メロスは激怒した。必ず、かの邪智暴虐の王を除かなければならぬと決意した。メロスには政治がわからぬ。メロスは、村の牧人である。']"
      ]
     },
     "execution_count": 14,
     "metadata": {},
     "output_type": "execute_result"
    }
   ],
   "source": [
    "text = re.split(r'\\-{5,}', text_all)[2]\n",
    "text = re.split(r'底本：', text)[0]\n",
    "text = re.sub(r'《.+?》', '', text)\n",
    "text = re.sub(r'［＃.+?］', '', text)\n",
    "#text = re.sub(r'\\n', '', text)\n",
    "text = re.sub(r'「', '', text)\n",
    "text = re.sub(r'」', '', text)\n",
    "text = re.sub(r'\\u3000', '', text)\n",
    "text = text.strip()\n",
    "#text = text.split(\"。\")\n",
    "text = text.split(\"\\n\")\n",
    "text"
   ]
  },
  {
   "cell_type": "markdown",
   "metadata": {},
   "source": [
    "名詞だけ抜き出す"
   ]
  },
  {
   "cell_type": "code",
   "execution_count": 15,
   "metadata": {},
   "outputs": [
    {
     "name": "stdout",
     "output_type": "stream",
     "text": [
      "[['メロス', '激怒', '邪智', '暴虐', '王', '決意', 'メロス', '政治', 'メロス', '村', '牧人']]\n"
     ]
    }
   ],
   "source": [
    "mecab = MeCab.Tagger()\n",
    "list_2 = []\n",
    "for line in text:\n",
    "    node = mecab.parseToNode(line)\n",
    "    list_1 = []\n",
    "    while node:\n",
    "        w = node.surface\n",
    "        w_type = node.feature.split(',')[0]\n",
    "        if w_type in [\"名詞\"]:\n",
    "            list_1.append(w)\n",
    "        node = node.next\n",
    "    if list_1:\n",
    "        list_2.append(list_1)\n",
    "print(sorted(list_2)) "
   ]
  },
  {
   "cell_type": "markdown",
   "metadata": {},
   "source": [
    "単語のペアを作成，出現頻度のカウント，jaccard係数の計算，jaccard係数がedge_th未満の単語ペアを除外"
   ]
  },
  {
   "cell_type": "code",
   "execution_count": 16,
   "metadata": {},
   "outputs": [
    {
     "name": "stdout",
     "output_type": "stream",
     "text": [
      "Counter({('暴虐', '王'): 1, ('メロス', '王'): 1, ('村', '王'): 1, ('牧人', '王'): 1, ('王', '邪智'): 1, ('政治', '王'): 1, ('激怒', '王'): 1, ('決意', '王'): 1, ('メロス', '暴虐'): 1, ('暴虐', '村'): 1, ('暴虐', '牧人'): 1, ('暴虐', '邪智'): 1, ('政治', '暴虐'): 1, ('暴虐', '激怒'): 1, ('暴虐', '決意'): 1, ('メロス', '村'): 1, ('メロス', '牧人'): 1, ('メロス', '邪智'): 1, ('メロス', '政治'): 1, ('メロス', '激怒'): 1, ('メロス', '決意'): 1, ('村', '牧人'): 1, ('村', '邪智'): 1, ('政治', '村'): 1, ('村', '激怒'): 1, ('村', '決意'): 1, ('牧人', '邪智'): 1, ('政治', '牧人'): 1, ('激怒', '牧人'): 1, ('決意', '牧人'): 1, ('政治', '邪智'): 1, ('激怒', '邪智'): 1, ('決意', '邪智'): 1, ('政治', '激怒'): 1, ('政治', '決意'): 1, ('決意', '激怒'): 1})\n",
      "Counter({'王': 1, '暴虐': 1, 'メロス': 1, '村': 1, '牧人': 1, '邪智': 1, '政治': 1, '激怒': 1, '決意': 1})\n",
      "[1.0, 1.0, 1.0, 1.0, 1.0, 1.0, 1.0, 1.0, 1.0, 1.0, 1.0, 1.0, 1.0, 1.0, 1.0, 1.0, 1.0, 1.0, 1.0, 1.0, 1.0, 1.0, 1.0, 1.0, 1.0, 1.0, 1.0, 1.0, 1.0, 1.0, 1.0, 1.0, 1.0, 1.0, 1.0, 1.0]\n",
      "('暴虐', '王')\t1\t1.0\t1\t1\n",
      "('メロス', '王')\t1\t1.0\t1\t1\n",
      "('村', '王')\t1\t1.0\t1\t1\n",
      "('牧人', '王')\t1\t1.0\t1\t1\n",
      "('王', '邪智')\t1\t1.0\t1\t1\n",
      "('政治', '王')\t1\t1.0\t1\t1\n",
      "('激怒', '王')\t1\t1.0\t1\t1\n",
      "('決意', '王')\t1\t1.0\t1\t1\n",
      "('メロス', '暴虐')\t1\t1.0\t1\t1\n",
      "('暴虐', '村')\t1\t1.0\t1\t1\n",
      "('暴虐', '牧人')\t1\t1.0\t1\t1\n",
      "('暴虐', '邪智')\t1\t1.0\t1\t1\n",
      "('政治', '暴虐')\t1\t1.0\t1\t1\n",
      "('暴虐', '激怒')\t1\t1.0\t1\t1\n",
      "('暴虐', '決意')\t1\t1.0\t1\t1\n",
      "('メロス', '村')\t1\t1.0\t1\t1\n",
      "('メロス', '牧人')\t1\t1.0\t1\t1\n",
      "('メロス', '邪智')\t1\t1.0\t1\t1\n",
      "('メロス', '政治')\t1\t1.0\t1\t1\n",
      "('メロス', '激怒')\t1\t1.0\t1\t1\n",
      "('メロス', '決意')\t1\t1.0\t1\t1\n",
      "('村', '牧人')\t1\t1.0\t1\t1\n",
      "('村', '邪智')\t1\t1.0\t1\t1\n",
      "('政治', '村')\t1\t1.0\t1\t1\n",
      "('村', '激怒')\t1\t1.0\t1\t1\n",
      "('村', '決意')\t1\t1.0\t1\t1\n",
      "('牧人', '邪智')\t1\t1.0\t1\t1\n",
      "('政治', '牧人')\t1\t1.0\t1\t1\n",
      "('激怒', '牧人')\t1\t1.0\t1\t1\n",
      "('決意', '牧人')\t1\t1.0\t1\t1\n",
      "('政治', '邪智')\t1\t1.0\t1\t1\n",
      "('激怒', '邪智')\t1\t1.0\t1\t1\n",
      "('決意', '邪智')\t1\t1.0\t1\t1\n",
      "('政治', '激怒')\t1\t1.0\t1\t1\n",
      "('政治', '決意')\t1\t1.0\t1\t1\n",
      "('決意', '激怒')\t1\t1.0\t1\t1\n"
     ]
    }
   ],
   "source": [
    "#単語のペアを作成\n",
    "pair_all = []\n",
    "for list_1 in list_2:\n",
    "    pair_1 = list(combinations(set(list_1), 2))\n",
    "    for i,pair in enumerate(pair_1):\n",
    "        pair_1[i] = tuple(sorted(pair))\n",
    "    pair_all += pair_1\n",
    "pair_count = Counter(pair_all)\n",
    "min_cnt=0\n",
    "for key, count in dropwhile(lambda key_count: key_count[1] >= min_cnt, pair_count.most_common()):\n",
    "    del pair_count[key]\n",
    "print(pair_count)\n",
    "#出現頻度のカウント\n",
    "word_count = Counter()\n",
    "for list_1 in list_2:\n",
    "    word_count += Counter(set(list_1))\n",
    "print(word_count)\n",
    "#jaccard係数の計算\n",
    "jaccard_coef = []\n",
    "for pair, cnt in pair_count.items():\n",
    "    jaccard_coef.append(cnt / (word_count[pair[0]] + word_count[pair[1]] - cnt))\n",
    "print(jaccard_coef)\n",
    "# jaccard係数がedge_th未満の単語ペアを除外\n",
    "edge_th=0.0\n",
    "jaccard_dict = OrderedDict()\n",
    "for (pair, cnt), coef in zip(pair_count.items(), jaccard_coef):\n",
    "    if coef >= edge_th:\n",
    "        jaccard_dict[pair] = coef\n",
    "        print(pair, cnt, coef, word_count[pair[0]], word_count[pair[1]], sep='\\t')"
   ]
  },
  {
   "cell_type": "code",
   "execution_count": 17,
   "metadata": {},
   "outputs": [
    {
     "name": "stdout",
     "output_type": "stream",
     "text": [
      "Number of nodes = 9\n",
      "Number of edges = 36\n"
     ]
    },
    {
     "data": {
      "image/png": "[encoded data removed]",
      "text/plain": [
       "<Figure size 432x432 with 1 Axes>"
      ]
     },
     "metadata": {},
     "output_type": "display_data"
    }
   ],
   "source": [
    "G = nx.Graph()\n",
    "nodes = sorted(set([j for pair in jaccard_dict.keys() for j in pair]))\n",
    "G.add_nodes_from(nodes)\n",
    "print('Number of nodes =', G.number_of_nodes())\n",
    "\n",
    "#  線（edge）の追加\n",
    "for pair, coef in jaccard_dict.items():\n",
    "    G.add_edge(pair[0], pair[1], weight=coef)\n",
    "\n",
    "print('Number of edges =', G.number_of_edges())\n",
    "\n",
    "plt.figure(figsize=(6, 6))\n",
    "\n",
    "# nodeの配置方法の指定\n",
    "seed = 0\n",
    "np.random.seed(seed)\n",
    "pos = nx.spring_layout(G, k=0.3, seed=seed)\n",
    "pr = nx.pagerank(G)\n",
    "nx.draw_networkx_nodes(\n",
    "    G,\n",
    "    pos,\n",
    "    node_color='w',#list(pr.values()),\n",
    "    edgecolors='k', \n",
    "#    cmap=plt.cm.rainbow,\n",
    "    alpha=0.7,\n",
    "    node_size=1000)#[10000*v for v in pr.values()])\n",
    "\n",
    "# 日本語ラベルの設定\n",
    "nx.draw_networkx_labels(G, pos, font_size=15, font_family='MS Gothic', font_weight='bold')\n",
    "\n",
    "# エッジ太さをJaccard係数により変える\n",
    "edge_width = [d['weight'] * 2 for (u, v, d) in G.edges(data=True)]\n",
    "nx.draw_networkx_edges(G, pos, alpha=0.7, edge_color='darkgrey', width=edge_width)\n",
    "plt.axis('off')\n",
    "plt.tight_layout()\n",
    "plt.savefig(\"mrs_first2.png\")\n",
    "plt.savefig(\"mrs_first2.svg\")\n",
    "plt.show()\n"
   ]
  },
  {
   "cell_type": "markdown",
   "metadata": {},
   "source": [
    "#### 走れメロスの最初の文の共起ネットワーク（文全体を解析）"
   ]
  },
  {
   "cell_type": "markdown",
   "metadata": {},
   "source": [
    "【手順１（１）】走れメロスの全文を読み込む"
   ]
  },
  {
   "cell_type": "code",
   "execution_count": 18,
   "metadata": {},
   "outputs": [],
   "source": [
    "with open(\"hashire_merosu.txt\", mode=\"r\") as f:\n",
    "    text_all = f.read() "
   ]
  },
  {
   "cell_type": "markdown",
   "metadata": {},
   "source": [
    "【手順１（１）】段落に分ける"
   ]
  },
  {
   "cell_type": "code",
   "execution_count": 19,
   "metadata": {},
   "outputs": [
    {
     "data": {
      "text/plain": [
       "['メロスは激怒した。必ず、かの邪智暴虐の王を除かなければならぬと決意した。メロスには政治がわからぬ。メロスは、村の牧人である。笛を吹き、羊と遊んで暮して来た。けれども邪悪に対しては、人一倍に敏感であった。きょう未明メロスは村を出発し、野を越え山越え、十里はなれた此のシラクスの市にやって来た。メロスには父も、母も無い。女房も無い。十六の、内気な妹と二人暮しだ。この妹は、村の或る律気な一牧人を、近々、花婿として迎える事になっていた。結婚式も間近かなのである。メロスは、それゆえ、花嫁の衣裳やら祝宴の御馳走やらを買いに、はるばる市にやって来たのだ。先ず、その品々を買い集め、それから都の大路をぶらぶら歩いた。メロスには竹馬の友があった。セリヌンティウスである。今は此のシラクスの市で、石工をしている。その友を、これから訪ねてみるつもりなのだ。久しく逢わなかったのだから、訪ねて行くのが楽しみである。歩いているうちにメロスは、まちの様子を怪しく思った。ひっそりしている。もう既に日も落ちて、まちの暗いのは当りまえだが、けれども、なんだか、夜のせいばかりでは無く、市全体が、やけに寂しい。のんきなメロスも、だんだん不安になって来た。路で逢った若い衆をつかまえて、何かあったのか、二年まえに此の市に来たときは、夜でも皆が歌をうたって、まちは賑やかであった筈だが、と質問した。若い衆は、首を振って答えなかった。しばらく歩いて老爺に逢い、こんどはもっと、語勢を強くして質問した。老爺は答えなかった。メロスは両手で老爺のからだをゆすぶって質問を重ねた。老爺は、あたりをはばかる低声で、わずか答えた。',\n",
       " '王様は、人を殺します。',\n",
       " 'なぜ殺すのだ。',\n",
       " '悪心を抱いている、というのですが、誰もそんな、悪心を持っては居りませぬ。',\n",
       " 'たくさんの人を殺したのか。',\n",
       " 'はい、はじめは王様の妹婿さまを。それから、御自身のお世嗣を。それから、妹さまを。それから、妹さまの御子さまを。それから、皇后さまを。それから、賢臣のアレキス様を。',\n",
       " 'おどろいた。国王は乱心か。',\n",
       " 'いいえ、乱心ではございませぬ。人を、信ずる事が出来ぬ、というのです。このごろは、臣下の心をも、お疑いになり、少しく派手な暮しをしている者には、人質ひとりずつ差し出すことを命じて居ります。御命令を拒めば十字架にかけられて、殺されます。きょうは、六人殺されました。',\n",
       " '聞いて、メロスは激怒した。呆れた王だ。生かして置けぬ。',\n",
       " 'メロスは、単純な男であった。買い物を、背負ったままで、のそのそ王城にはいって行った。たちまち彼は、巡邏の警吏に捕縛された。調べられて、メロスの懐中からは短剣が出て来たので、騒ぎが大きくなってしまった。メロスは、王の前に引き出された。',\n",
       " 'この短刀で何をするつもりであったか。言え！暴君ディオニスは静かに、けれども威厳を以て問いつめた。その王の顔は蒼白で、眉間の皺は、刻み込まれたように深かった。',\n",
       " '市を暴君の手から救うのだ。とメロスは悪びれずに答えた。',\n",
       " 'おまえがか？王は、憫笑した。仕方の無いやつじゃ。おまえには、わしの孤独がわからぬ。',\n",
       " '言うな！とメロスは、いきり立って反駁した。人の心を疑うのは、最も恥ずべき悪徳だ。王は、民の忠誠をさえ疑って居られる。',\n",
       " '疑うのが、正当の心構えなのだと、わしに教えてくれたのは、おまえたちだ。人の心は、あてにならない。人間は、もともと私慾のかたまりさ。信じては、ならぬ。暴君は落着いて呟き、ほっと溜息をついた。わしだって、平和を望んでいるのだが。',\n",
       " 'なんの為の平和だ。自分の地位を守る為か。こんどはメロスが嘲笑した。罪の無い人を殺して、何が平和だ。',\n",
       " 'だまれ、下賤の者。王は、さっと顔を挙げて報いた。口では、どんな清らかな事でも言える。わしには、人の腹綿の奥底が見え透いてならぬ。おまえだって、いまに、磔になってから、泣いて詫びたって聞かぬぞ。',\n",
       " 'ああ、王は悧巧だ。自惚れているがよい。私は、ちゃんと死ぬる覚悟で居るのに。命乞いなど決してしない。ただ、――と言いかけて、メロスは足もとに視線を落し瞬時ためらい、ただ、私に情をかけたいつもりなら、処刑までに三日間の日限を与えて下さい。たった一人の妹に、亭主を持たせてやりたいのです。三日のうちに、私は村で結婚式を挙げさせ、必ず、ここへ帰って来ます。',\n",
       " 'ばかな。と暴君は、嗄れた声で低く笑った。とんでもない嘘を言うわい。逃がした小鳥が帰って来るというのか。',\n",
       " 'そうです。帰って来るのです。メロスは必死で言い張った。私は約束を守ります。私を、三日間だけ許して下さい。妹が、私の帰りを待っているのだ。そんなに私を信じられないならば、よろしい、この市にセリヌンティウスという石工がいます。私の無二の友人だ。あれを、人質としてここに置いて行こう。私が逃げてしまって、三日目の日暮まで、ここに帰って来なかったら、あの友人を絞め殺して下さい。たのむ、そうして下さい。',\n",
       " 'それを聞いて王は、残虐な気持で、そっと北叟笑んだ。生意気なことを言うわい。どうせ帰って来ないにきまっている。この嘘つきに騙された振りして、放してやるのも面白い。そうして身代りの男を、三日目に殺してやるのも気味がいい。人は、これだから信じられぬと、わしは悲しい顔して、その身代りの男を磔刑に処してやるのだ。世の中の、正直者とかいう奴輩にうんと見せつけてやりたいものさ。',\n",
       " '願いを、聞いた。その身代りを呼ぶがよい。三日目には日没までに帰って来い。おくれたら、その身代りを、きっと殺すぞ。ちょっとおくれて来るがいい。おまえの罪は、永遠にゆるしてやろうぞ。',\n",
       " 'なに、何をおっしゃる。',\n",
       " 'はは。いのちが大事だったら、おくれて来い。おまえの心は、わかっているぞ。',\n",
       " 'メロスは口惜しく、地団駄踏んだ。ものも言いたくなくなった。',\n",
       " '竹馬の友、セリヌンティウスは、深夜、王城に召された。暴君ディオニスの面前で、佳き友と佳き友は、二年ぶりで相逢うた。メロスは、友に一切の事情を語った。セリヌンティウスは無言で首肯き、メロスをひしと抱きしめた。友と友の間は、それでよかった。セリヌンティウスは、縄打たれた。メロスは、すぐに出発した。初夏、満天の星である。',\n",
       " 'メロスはその夜、一睡もせず十里の路を急ぎに急いで、村へ到着したのは、翌る日の午前、陽は既に高く昇って、村人たちは野に出て仕事をはじめていた。メロスの十六の妹も、きょうは兄の代りに羊群の番をしていた。よろめいて歩いて来る兄の、疲労｜困憊の姿を見つけて驚いた。そうして、うるさく兄に質問を浴びせた。',\n",
       " 'なんでも無い。メロスは無理に笑おうと努めた。市に用事を残して来た。またすぐ市に行かなければならぬ。あす、おまえの結婚式を挙げる。早いほうがよかろう。',\n",
       " '妹は頬をあからめた。',\n",
       " 'うれしいか。綺麗な衣裳も買って来た。さあ、これから行って、村の人たちに知らせて来い。結婚式は、あすだと。',\n",
       " 'メロスは、また、よろよろと歩き出し、家へ帰って神々の祭壇を飾り、祝宴の席を調え、間もなく床に倒れ伏し、呼吸もせぬくらいの深い眠りに落ちてしまった。',\n",
       " '眼が覚めたのは夜だった。メロスは起きてすぐ、花婿の家を訪れた。そうして、少し事情があるから、結婚式を明日にしてくれ、と頼んだ。婿の牧人は驚き、それはいけない、こちらには未だ何の仕度も出来ていない、葡萄の季節まで待ってくれ、と答えた。メロスは、待つことは出来ぬ、どうか明日にしてくれ給え、と更に押してたのんだ。婿の牧人も頑強であった。なかなか承諾してくれない。夜明けまで議論をつづけて、やっと、どうにか婿をなだめ、すかして、説き伏せた。結婚式は、真昼に行われた。新郎新婦の、神々への宣誓が済んだころ、黒雲が空を覆い、ぽつりぽつり雨が降り出し、やがて車軸を流すような大雨となった。祝宴に列席していた村人たちは、何か不吉なものを感じたが、それでも、めいめい気持を引きたて、狭い家の中で、むんむん蒸し暑いのも怺え、陽気に歌をうたい、手を拍った。メロスも、満面に喜色を湛え、しばらくは、王とのあの約束をさえ忘れていた。祝宴は、夜に入っていよいよ乱れ華やかになり、人々は、外の豪雨を全く気にしなくなった。メロスは、一生このままここにいたい、と思った。この佳い人たちと生涯暮して行きたいと願ったが、いまは、自分のからだで、自分のものでは無い。ままならぬ事である。メロスは、わが身に鞭打ち、ついに出発を決意した。あすの日没までには、まだ十分の時が在る。ちょっと一眠りして、それからすぐに出発しよう、と考えた。その頃には、雨も小降りになっていよう。少しでも永くこの家に愚図愚図とどまっていたかった。メロスほどの男にも、やはり未練の情というものは在る。今宵呆然、歓喜に酔っているらしい花嫁に近寄り、',\n",
       " 'おめでとう。私は疲れてしまったから、ちょっとご免こうむって眠りたい。眼が覚めたら、すぐに市に出かける。大切な用事があるのだ。私がいなくても、もうおまえには優しい亭主があるのだから、決して寂しい事は無い。おまえの兄の、一ばんきらいなものは、人を疑う事と、それから、嘘をつく事だ。おまえも、それは、知っているね。亭主との間に、どんな秘密でも作ってはならぬ。おまえに言いたいのは、それだけだ。おまえの兄は、たぶん偉い男なのだから、おまえもその誇りを持っていろ。',\n",
       " '花嫁は、夢見心地で首肯いた。メロスは、それから花婿の肩をたたいて、',\n",
       " '仕度の無いのはお互さまさ。私の家にも、宝といっては、妹と羊だけだ。他には、何も無い。全部あげよう。もう一つ、メロスの弟になったことを誇ってくれ。',\n",
       " '花婿は揉み手して、てれていた。メロスは笑って村人たちにも会釈して、宴席から立ち去り、羊小屋にもぐり込んで、死んだように深く眠った。',\n",
       " '眼が覚めたのは翌る日の薄明の頃である。メロスは跳ね起き、南無三、寝過したか、いや、まだまだ大丈夫、これからすぐに出発すれば、約束の刻限までには十分間に合う。きょうは是非とも、あの王に、人の信実の存するところを見せてやろう。そうして笑って磔の台に上ってやる。メロスは、悠々と身仕度をはじめた。雨も、いくぶん小降りになっている様子である。身仕度は出来た。さて、メロスは、ぶるんと両腕を大きく振って、雨中、矢の如く走り出た。',\n",
       " '私は、今宵、殺される。殺される為に走るのだ。身代りの友を救う為に走るのだ。王の奸佞邪智を打ち破る為に走るのだ。走らなければならぬ。そうして、私は殺される。若い時から名誉を守れ。さらば、ふるさと。若いメロスは、つらかった。幾度か、立ちどまりそうになった。えい、えいと大声挙げて自身を叱りながら走った。村を出て、野を横切り、森をくぐり抜け、隣村に着いた頃には、雨も止み、日は高く昇って、そろそろ暑くなって来た。メロスは額の汗をこぶしで払い、ここまで来れば大丈夫、もはや故郷への未練は無い。妹たちは、きっと佳い夫婦になるだろう。私には、いま、なんの気がかりも無い筈だ。まっすぐに王城に行き着けば、それでよいのだ。そんなに急ぐ必要も無い。ゆっくり歩こう、と持ちまえの呑気さを取り返し、好きな小歌をいい声で歌い出した。ぶらぶら歩いて二里行き三里行き、そろそろ全里程の半ばに到達した頃、降って湧いた災難、メロスの足は、はたと、とまった。見よ、前方の川を。きのうの豪雨で山の水源地は氾濫し、濁流｜滔々と下流に集り、猛勢一挙に橋を破壊し、どうどうと響きをあげる激流が、木葉微塵に橋桁を跳ね飛ばしていた。彼は茫然と、立ちすくんだ。あちこちと眺めまわし、また、声を限りに呼びたててみたが、繋舟は残らず浪に浚われて影なく、渡守りの姿も見えない。流れはいよいよ、ふくれ上り、海のようになっている。メロスは川岸にうずくまり、男泣きに泣きながらゼウスに手を挙げて哀願した。ああ、鎮めたまえ、荒れ狂う流れを！時は刻々に過ぎて行きます。太陽も既に真昼時です。あれが沈んでしまわぬうちに、王城に行き着くことが出来なかったら、あの佳い友達が、私のために死ぬのです。',\n",
       " '濁流は、メロスの叫びをせせら笑う如く、ますます激しく躍り狂う。浪は浪を呑み、捲き、煽り立て、そうして時は、刻一刻と消えて行く。今はメロスも覚悟した。泳ぎ切るより他に無い。ああ、神々も照覧あれ！濁流にも負けぬ愛と誠の偉大な力を、いまこそ発揮して見せる。メロスは、ざんぶと流れに飛び込み、百匹の大蛇のようにのた打ち荒れ狂う浪を相手に、必死の闘争を開始した。満身の力を腕にこめて、押し寄せ渦巻き引きずる流れを、なんのこれしきと掻きわけ掻きわけ、めくらめっぽう獅子奮迅の人の子の姿には、神も哀れと思ったか、ついに憐愍を垂れてくれた。押し流されつつも、見事、対岸の樹木の幹に、すがりつく事が出来たのである。ありがたい。メロスは馬のように大きな胴震いを一つして、すぐにまた先きを急いだ。一刻といえども、むだには出来ない。陽は既に西に傾きかけている。ぜいぜい荒い呼吸をしながら峠をのぼり、のぼり切って、ほっとした時、突然、目の前に一隊の山賊が躍り出た。',\n",
       " '待て。',\n",
       " '何をするのだ。私は陽の沈まぬうちに王城へ行かなければならぬ。放せ。',\n",
       " 'どっこい放さぬ。持ちもの全部を置いて行け。',\n",
       " '私にはいのちの他には何も無い。その、たった一つの命も、これから王にくれてやるのだ。',\n",
       " 'その、いのちが欲しいのだ。',\n",
       " 'さては、王の命令で、ここで私を待ち伏せしていたのだな。',\n",
       " '山賊たちは、ものも言わず一斉に棍棒を振り挙げた。メロスはひょいと、からだを折り曲げ、飛鳥の如く身近かの一人に襲いかかり、その棍棒を奪い取って、',\n",
       " '気の毒だが正義のためだ！と猛然一撃、たちまち、三人を殴り倒し、残る者のひるむ隙に、さっさと走って峠を下った。一気に峠を駈け降りたが、流石に疲労し、折から午後の灼熱の太陽がまともに、かっと照って来て、メロスは幾度となく眩暈を感じ、これではならぬ、と気を取り直しては、よろよろ二、三歩あるいて、ついに、がくりと膝を折った。立ち上る事が出来ぬのだ。天を仰いで、くやし泣きに泣き出した。ああ、あ、濁流を泳ぎ切り、山賊を三人も撃ち倒し韋駄天、ここまで突破して来たメロスよ。真の勇者、メロスよ。今、ここで、疲れ切って動けなくなるとは情無い。愛する友は、おまえを信じたばかりに、やがて殺されなければならぬ。おまえは、稀代の不信の人間、まさしく王の思う壺だぞ、と自分を叱ってみるのだが、全身｜萎えて、もはや芋虫ほどにも前進かなわぬ。路傍の草原にごろりと寝ころがった。身体疲労すれば、精神も共にやられる。もう、どうでもいいという、勇者に不似合いな不貞腐れた根性が、心の隅に巣喰った。私は、これほど努力したのだ。約束を破る心は、みじんも無かった。神も照覧、私は精一ぱいに努めて来たのだ。動けなくなるまで走って来たのだ。私は不信の徒では無い。ああ、できる事なら私の胸を截ち割って、真紅の心臓をお目に掛けたい。愛と信実の血液だけで動いているこの心臓を見せてやりたい。けれども私は、この大事な時に、精も根も尽きたのだ。私は、よくよく不幸な男だ。私は、きっと笑われる。私の一家も笑われる。私は友を欺いた。中途で倒れるのは、はじめから何もしないのと同じ事だ。ああ、もう、どうでもいい。これが、私の定った運命なのかも知れない。セリヌンティウスよ、ゆるしてくれ。君は、いつでも私を信じた。私も君を、欺かなかった。私たちは、本当に佳い友と友であったのだ。いちどだって、暗い疑惑の雲を、お互い胸に宿したことは無かった。いまだって、君は私を無心に待っているだろう。ああ、待っているだろう。ありがとう、セリヌンティウス。よくも私を信じてくれた。それを思えば、たまらない。友と友の間の信実は、この世で一ばん誇るべき宝なのだからな。セリヌンティウス、私は走ったのだ。君を欺くつもりは、みじんも無かった。信じてくれ！私は急ぎに急いでここまで来たのだ。濁流を突破した。山賊の囲みからも、するりと抜けて一気に峠を駈け降りて来たのだ。私だから、出来たのだよ。ああ、この上、私に望み給うな。放って置いてくれ。どうでも、いいのだ。私は負けたのだ。だらしが無い。笑ってくれ。王は私に、ちょっとおくれて来い、と耳打ちした。おくれたら、身代りを殺して、私を助けてくれると約束した。私は王の卑劣を憎んだ。けれども、今になってみると、私は王の言うままになっている。私は、おくれて行くだろう。王は、ひとり合点して私を笑い、そうして事も無く私を放免するだろう。そうなったら、私は、死ぬよりつらい。私は、永遠に裏切者だ。地上で最も、不名誉の人種だ。セリヌンティウスよ、私も死ぬぞ。君と一緒に死なせてくれ。君だけは私を信じてくれるにちがい無い。いや、それも私の、ひとりよがりか？ああ、もういっそ、悪徳者として生き伸びてやろうか。村には私の家が在る。羊も居る。妹夫婦は、まさか私を村から追い出すような事はしないだろう。正義だの、信実だの、愛だの、考えてみれば、くだらない。人を殺して自分が生きる。それが人間世界の定法ではなかったか。ああ、何もかも、ばかばかしい。私は、醜い裏切り者だ。どうとも、勝手にするがよい。やんぬる哉。――四肢を投げ出して、うとうと、まどろんでしまった。',\n",
       " 'ふと耳に、潺々、水の流れる音が聞えた。そっと頭をもたげ、息を呑んで耳をすました。すぐ足もとで、水が流れているらしい。よろよろ起き上って、見ると、岩の裂目から滾々と、何か小さく囁きながら清水が湧き出ているのである。その泉に吸い込まれるようにメロスは身をかがめた。水を両手で掬って、一くち飲んだ。ほうと長い溜息が出て、夢から覚めたような気がした。歩ける。行こう。肉体の疲労｜恢復と共に、わずかながら希望が生れた。義務遂行の希望である。わが身を殺して、名誉を守る希望である。斜陽は赤い光を、樹々の葉に投じ、葉も枝も燃えるばかりに輝いている。日没までには、まだ間がある。私を、待っている人があるのだ。少しも疑わず、静かに期待してくれている人があるのだ。私は、信じられている。私の命なぞは、問題ではない。死んでお詫び、などと気のいい事は言って居られぬ。私は、信頼に報いなければならぬ。いまはただその一事だ。走れ！メロス。',\n",
       " '私は信頼されている。私は信頼されている。先刻の、あの悪魔の囁きは、あれは夢だ。悪い夢だ。忘れてしまえ。五臓が疲れているときは、ふいとあんな悪い夢を見るものだ。メロス、おまえの恥ではない。やはり、おまえは真の勇者だ。再び立って走れるようになったではないか。ありがたい！私は、正義の士として死ぬ事が出来るぞ。ああ、陽が沈む。ずんずん沈む。待ってくれ、ゼウスよ。私は生れた時から正直な男であった。正直な男のままにして死なせて下さい。',\n",
       " '路行く人を押しのけ、跳ねとばし、メロスは黒い風のように走った。野原で酒宴の、その宴席のまっただ中を駈け抜け、酒宴の人たちを仰天させ、犬を蹴とばし、小川を飛び越え、少しずつ沈んでゆく太陽の、十倍も早く走った。一団の旅人と颯っとすれちがった瞬間、不吉な会話を小耳にはさんだ。いまごろは、あの男も、磔にかかっているよ。ああ、その男、その男のために私は、いまこんなに走っているのだ。その男を死なせてはならない。急げ、メロス。おくれてはならぬ。愛と誠の力を、いまこそ知らせてやるがよい。風態なんかは、どうでもいい。メロスは、いまは、ほとんど全裸体であった。呼吸も出来ず、二度、三度、口から血が噴き出た。見える。はるか向うに小さく、シラクスの市の塔楼が見える。塔楼は、夕陽を受けてきらきら光っている。',\n",
       " 'ああ、メロス様。うめくような声が、風と共に聞えた。',\n",
       " '誰だ。メロスは走りながら尋ねた。',\n",
       " 'フィロストラトスでございます。貴方のお友達セリヌンティウス様の弟子でございます。その若い石工も、メロスの後について走りながら叫んだ。もう、駄目でございます。むだでございます。走るのは、やめて下さい。もう、あの方をお助けになることは出来ません。',\n",
       " 'いや、まだ陽は沈まぬ。',\n",
       " 'ちょうど今、あの方が死刑になるところです。ああ、あなたは遅かった。おうらみ申します。ほんの少し、もうちょっとでも、早かったなら！',\n",
       " 'いや、まだ陽は沈まぬ。メロスは胸の張り裂ける思いで、赤く大きい夕陽ばかりを見つめていた。走るより他は無い。',\n",
       " 'やめて下さい。走るのは、やめて下さい。いまはご自分のお命が大事です。あの方は、あなたを信じて居りました。刑場に引き出されても、平気でいました。王様が、さんざんあの方をからかっても、メロスは来ます、とだけ答え、強い信念を持ちつづけている様子でございました。',\n",
       " 'それだから、走るのだ。信じられているから走るのだ。間に合う、間に合わぬは問題でないのだ。人の命も問題でないのだ。私は、なんだか、もっと恐ろしく大きいものの為に走っているのだ。ついて来い！フィロストラトス。',\n",
       " 'ああ、あなたは気が狂ったか。それでは、うんと走るがいい。ひょっとしたら、間に合わぬものでもない。走るがいい。',\n",
       " '言うにや及ぶ。まだ陽は沈まぬ。最後の死力を尽して、メロスは走った。メロスの頭は、からっぽだ。何一つ考えていない。ただ、わけのわからぬ大きな力にひきずられて走った。陽は、ゆらゆら地平線に没し、まさに最後の一片の残光も、消えようとした時、メロスは疾風の如く刑場に突入した。間に合った。',\n",
       " '待て。その人を殺してはならぬ。メロスが帰って来た。約束のとおり、いま、帰って来た。と大声で刑場の群衆にむかって叫んだつもりであったが、喉がつぶれて嗄れた声が幽かに出たばかり、群衆は、ひとりとして彼の到着に気がつかない。すでに磔の柱が高々と立てられ、縄を打たれたセリヌンティウスは、徐々に釣り上げられてゆく。メロスはそれを目撃して最後の勇、先刻、濁流を泳いだように群衆を掻きわけ、掻きわけ、',\n",
       " '私だ、刑吏！殺されるのは、私だ。メロスだ。彼を人質にした私は、ここにいる！と、かすれた声で精一ぱいに叫びながら、ついに磔台に昇り、釣り上げられてゆく友の両足に、齧りついた。群衆は、どよめいた。あっぱれ。ゆるせ、と口々にわめいた。セリヌンティウスの縄は、ほどかれたのである。',\n",
       " 'セリヌンティウス。メロスは眼に涙を浮べて言った。私を殴れ。ちから一ぱいに頬を殴れ。私は、途中で一度、悪い夢を見た。君が若し私を殴ってくれなかったら、私は君と抱擁する資格さえ無いのだ。殴れ。',\n",
       " 'セリヌンティウスは、すべてを察した様子で首肯き、刑場一ぱいに鳴り響くほど音高くメロスの右頬を殴った。殴ってから優しく微笑み、',\n",
       " 'メロス、私を殴れ。同じくらい音高く私の頬を殴れ。私はこの三日の間、たった一度だけ、ちらと君を疑った。生れて、はじめて君を疑った。君が私を殴ってくれなければ、私は君と抱擁できない。',\n",
       " 'メロスは腕に唸りをつけてセリヌンティウスの頬を殴った。',\n",
       " 'ありがとう、友よ。二人同時に言い、ひしと抱き合い、それから嬉し泣きにおいおい声を放って泣いた。',\n",
       " '群衆の中からも、歔欷の声が聞えた。暴君ディオニスは、群衆の背後から二人の様を、まじまじと見つめていたが、やがて静かに二人に近づき、顔をあからめて、こう言った。',\n",
       " 'おまえらの望みは叶ったぞ。おまえらは、わしの心に勝ったのだ。信実とは、決して空虚な妄想ではなかった。どうか、わしをも仲間に入れてくれまいか。どうか、わしの願いを聞き入れて、おまえらの仲間の一人にしてほしい。',\n",
       " 'どっと群衆の間に、歓声が起った。',\n",
       " '万歳、王様万歳。',\n",
       " 'ひとりの少女が、緋のマントをメロスに捧げた。メロスは、まごついた。佳き友は、気をきかせて教えてやった。',\n",
       " 'メロス、君は、まっぱだかじゃないか。早くそのマントを着るがいい。この可愛い娘さんは、メロスの裸体を、皆に見られるのが、たまらなく口惜しいのだ。',\n",
       " '勇者は、ひどく赤面した。',\n",
       " '（古伝説と、シルレルの詩から。）']"
      ]
     },
     "execution_count": 19,
     "metadata": {},
     "output_type": "execute_result"
    }
   ],
   "source": [
    "text = re.split(r'\\-{5,}', text_all)[2]\n",
    "text = re.split(r'底本：', text)[0]\n",
    "text = re.sub(r'《.+?》', '', text)\n",
    "text = re.sub(r'［＃.+?］', '', text)\n",
    "#text = re.sub(r'\\n', '', text)\n",
    "text = re.sub(r'「', '', text)\n",
    "text = re.sub(r'」', '', text)\n",
    "text = re.sub(r'\\u3000', '', text)\n",
    "text = text.strip()\n",
    "#text = text.split(\"。\")\n",
    "text = text.split(\"\\n\")\n",
    "text"
   ]
  },
  {
   "cell_type": "markdown",
   "metadata": {},
   "source": [
    "【手順１（３）】抽出する単語（登場人物）のリストを読み込む\n",
    "この単語だけを対象とする。"
   ]
  },
  {
   "cell_type": "code",
   "execution_count": 20,
   "metadata": {},
   "outputs": [
    {
     "data": {
      "text/plain": [
       "['メロス',\n",
       " '王',\n",
       " '父',\n",
       " '母',\n",
       " '女房',\n",
       " '妹',\n",
       " '花嫁',\n",
       " 'セリヌンティウス',\n",
       " '友',\n",
       " '老爺',\n",
       " '妹婿',\n",
       " '皇后',\n",
       " '賢臣',\n",
       " 'アレキス',\n",
       " '国王',\n",
       " '臣下',\n",
       " '男',\n",
       " 'ディオニス',\n",
       " '私',\n",
       " '村人',\n",
       " '兄',\n",
       " 'ゼウス',\n",
       " '娘',\n",
       " '']"
      ]
     },
     "execution_count": 20,
     "metadata": {},
     "output_type": "execute_result"
    }
   ],
   "source": [
    "with open(\"hashire_merosu_name.txt\", mode=\"r\") as f:\n",
    "    selectwords = f.read() \n",
    "selectwords = selectwords.split(\"\\n\")\n",
    "selectwords"
   ]
  },
  {
   "cell_type": "markdown",
   "metadata": {},
   "source": [
    "【手順１（４）】単語リストの作成"
   ]
  },
  {
   "cell_type": "code",
   "execution_count": 21,
   "metadata": {},
   "outputs": [],
   "source": [
    "mecab = MeCab.Tagger()\n",
    "list_2 = []\n",
    "for line in text:\n",
    "    #line = text[0]\n",
    "    list_1 = []\n",
    "    node = mecab.parseToNode(line)\n",
    "    while node:\n",
    "        w = node.surface\n",
    "        w_type = node.feature.split(',')[0]\n",
    "        \n",
    "        replace_words = {\n",
    "            '私': 'メロス', \n",
    "            '友': 'セリヌンティウス', \n",
    "            '国王':'ディオニス',\n",
    "            '王':'ディオニス', \n",
    "            '妹':'花嫁',\n",
    "        }\n",
    "\n",
    "        for key, value in replace_words.items():\n",
    "            w = w.replace(key, value)\n",
    "            \n",
    "        if(w_type in [\"代名詞\", \"名詞\"]) & (w in selectwords):\n",
    "#        if(w_type in [\"名詞\"]):\n",
    "            list_1.append(w)\n",
    "        node = node.next\n",
    "    if list_1:\n",
    "        list_2.append(list_1)\n",
    "#    print(list_1)\n",
    "#print(sorted(list_2))"
   ]
  },
  {
   "cell_type": "markdown",
   "metadata": {},
   "source": [
    "【手順２】その単語リストのすべての組み合わせのリストを作成"
   ]
  },
  {
   "cell_type": "code",
   "execution_count": 22,
   "metadata": {},
   "outputs": [
    {
     "name": "stdout",
     "output_type": "stream",
     "text": [
      "[('メロス', '花嫁'), ('父', '花嫁'), ('女房', '花嫁'), ('母', '花嫁'), ('老爺', '花嫁'), ('セリヌンティウス', '花嫁'), ('ディオニス', '花嫁'), ('メロス', '父'), ('メロス', '女房'), ('メロス', '母'), ('メロス', '老爺'), ('セリヌンティウス', 'メロス'), ('ディオニス', 'メロス'), ('女房', '父'), ('母', '父'), ('父', '老爺'), ('セリヌンティウス', '父'), ('ディオニス', '父'), ('女房', '母'), ('女房', '老爺'), ('セリヌンティウス', '女房'), ('ディオニス', '女房'), ('母', '老爺'), ('セリヌンティウス', '母'), ('ディオニス', '母'), ('セリヌンティウス', '老爺'), ('ディオニス', '老爺'), ('セリヌンティウス', 'ディオニス'), ('皇后', '花嫁'), ('アレキス', '皇后'), ('ディオニス', '皇后'), ('皇后', '賢臣'), ('アレキス', '花嫁'), ('ディオニス', '花嫁'), ('花嫁', '賢臣'), ('アレキス', 'ディオニス'), ('アレキス', '賢臣'), ('ディオニス', '賢臣'), ('ディオニス', 'メロス'), ('メロス', '男'), ('ディオニス', 'メロス'), ('ディオニス', '男'), ('ディオニス', 'メロス'), ('ディオニス', 'メロス'), ('メロス', '花嫁'), ('ディオニス', '花嫁'), ('メロス', '花嫁'), ('セリヌンティウス', 'メロス'), ('セリヌンティウス', '花嫁'), ('ディオニス', '男'), ('ディオニス', 'メロス'), ('セリヌンティウス', 'メロス'), ('セリヌンティウス', 'ディオニス'), ('メロス', '花嫁'), ('メロス', '村人'), ('メロス', '兄'), ('村人', '花嫁'), ('兄', '花嫁'), ('兄', '村人'), ('メロス', '花嫁'), ('男', '花嫁'), ('ディオニス', '花嫁'), ('村人', '花嫁'), ('メロス', '男'), ('ディオニス', 'メロス'), ('メロス', '村人'), ('ディオニス', '男'), ('村人', '男'), ('ディオニス', '村人'), ('メロス', '男'), ('メロス', '兄'), ('兄', '男'), ('メロス', '花嫁'), ('メロス', '花嫁'), ('メロス', '村人'), ('ディオニス', 'メロス'), ('メロス', '花嫁'), ('セリヌンティウス', '花嫁'), ('ゼウス', '花嫁'), ('ディオニス', '花嫁'), ('セリヌンティウス', 'メロス'), ('ゼウス', 'メロス'), ('ディオニス', 'メロス'), ('セリヌンティウス', 'ゼウス'), ('セリヌンティウス', 'ディオニス'), ('ゼウス', 'ディオニス'), ('ディオニス', 'メロス'), ('ディオニス', 'メロス'), ('メロス', '花嫁'), ('セリヌンティウス', '花嫁'), ('男', '花嫁'), ('ディオニス', '花嫁'), ('セリヌンティウス', 'メロス'), ('メロス', '男'), ('ディオニス', 'メロス'), ('セリヌンティウス', '男'), ('セリヌンティウス', 'ディオニス'), ('ディオニス', '男'), ('メロス', '男'), ('ゼウス', 'メロス'), ('ゼウス', '男'), ('メロス', '男'), ('セリヌンティウス', 'メロス'), ('ディオニス', 'メロス'), ('セリヌンティウス', 'メロス'), ('セリヌンティウス', 'メロス'), ('セリヌンティウス', 'メロス'), ('セリヌンティウス', 'メロス'), ('セリヌンティウス', 'メロス'), ('セリヌンティウス', 'メロス'), ('メロス', '娘')]\n"
     ]
    }
   ],
   "source": [
    "pair_all = []\n",
    "for list_1 in list_2:\n",
    "    pair_1 = list(combinations(set(list_1), 2))\n",
    "#    print(pair_1)\n",
    "    for i,pair in enumerate(pair_1):\n",
    "        pair_1[i] = tuple(sorted(pair))\n",
    "    pair_all += pair_1\n",
    "print(pair_all)"
   ]
  },
  {
   "cell_type": "markdown",
   "metadata": {},
   "source": [
    "【手順３】単語の【登場回数が設定した値】より小さい場合，その単語を含む組み合わせを削除min_cnt=2を変更する。"
   ]
  },
  {
   "cell_type": "code",
   "execution_count": 23,
   "metadata": {},
   "outputs": [],
   "source": [
    "pair_count = Counter(pair_all)\n",
    "min_cnt=2\n",
    "for key, count in dropwhile(lambda key_count: key_count[1] >= min_cnt, pair_count.most_common()):\n",
    "    del pair_count[key]\n",
    "#print(pair_count)"
   ]
  },
  {
   "cell_type": "markdown",
   "metadata": {},
   "source": [
    "【手順４】Jaccard係数を計算し，【Jaccard係数が設定した値】より小さい組み合わせを削除edge_th=0.1の値を変更する。"
   ]
  },
  {
   "cell_type": "code",
   "execution_count": 24,
   "metadata": {},
   "outputs": [
    {
     "name": "stdout",
     "output_type": "stream",
     "text": [
      "[0.1956521739130435, 0.2, 0.2222222222222222, 0.26666666666666666, 0.24528301886792453, 0.12903225806451613, 0.13333333333333333, 0.16, 0.06818181818181818, 0.045454545454545456, 0.16666666666666666, 0.125, 0.045454545454545456]\n",
      "('メロス', '花嫁')\t9\t0.1956521739130435\t44\t11\n",
      "('セリヌンティウス', '花嫁')\t4\t0.2\t13\t11\n",
      "('ディオニス', '花嫁')\t6\t0.2222222222222222\t22\t11\n",
      "('セリヌンティウス', 'メロス')\t12\t0.26666666666666666\t13\t44\n",
      "('ディオニス', 'メロス')\t13\t0.24528301886792453\t22\t44\n",
      "('セリヌンティウス', 'ディオニス')\t4\t0.12903225806451613\t13\t22\n",
      "('メロス', '男')\t6\t0.13333333333333333\t44\t7\n",
      "('ディオニス', '男')\t4\t0.16\t22\t7\n",
      "('村人', '花嫁')\t2\t0.16666666666666666\t3\t11\n",
      "('男', '花嫁')\t2\t0.125\t7\t11\n"
     ]
    }
   ],
   "source": [
    "word_count = Counter()\n",
    "for list_1 in list_2:\n",
    "    word_count += Counter(set(list_1))\n",
    "#print(word_count)\n",
    "jaccard_coef = []\n",
    "for pair, cnt in pair_count.items():\n",
    "    jaccard_coef.append(cnt / (word_count[pair[0]] + word_count[pair[1]] - cnt))\n",
    "print(jaccard_coef)\n",
    "# jaccard係数がedge_th未満の単語ペアを除外\n",
    "edge_th=0.1\n",
    "jaccard_dict = OrderedDict()\n",
    "for (pair, cnt), coef in zip(pair_count.items(), jaccard_coef):\n",
    "    if coef >= edge_th:\n",
    "        jaccard_dict[pair] = coef\n",
    "        print(pair, cnt, coef, word_count[pair[0]], word_count[pair[1]], sep='\\t')"
   ]
  },
  {
   "cell_type": "code",
   "execution_count": 25,
   "metadata": {},
   "outputs": [
    {
     "name": "stdout",
     "output_type": "stream",
     "text": [
      "Counter({'花嫁': 1, 'メロス': 1, '父': 1, '女房': 1, '母': 1, '老爺': 1, 'セリヌンティウス': 1, 'ディオニス': 1})\n",
      "Counter({'ディオニス': 1})\n",
      "Counter({'皇后': 1, '花嫁': 1, 'アレキス': 1, 'ディオニス': 1, '賢臣': 1})\n",
      "Counter({'ディオニス': 1})\n",
      "Counter({'臣下': 1})\n",
      "Counter({'メロス': 1, 'ディオニス': 1})\n",
      "Counter({'メロス': 1, '男': 1, 'ディオニス': 1})\n",
      "Counter({'ディオニス': 1})\n",
      "Counter({'メロス': 1})\n",
      "Counter({'ディオニス': 1})\n",
      "Counter({'メロス': 1, 'ディオニス': 1})\n",
      "Counter({'メロス': 1})\n",
      "Counter({'ディオニス': 1})\n",
      "Counter({'メロス': 1, 'ディオニス': 1, '花嫁': 1})\n",
      "Counter({'メロス': 1, '花嫁': 1, 'セリヌンティウス': 1})\n",
      "Counter({'男': 1, 'ディオニス': 1})\n",
      "Counter({'メロス': 1})\n",
      "Counter({'メロス': 1, 'ディオニス': 1, 'セリヌンティウス': 1})\n",
      "Counter({'メロス': 1, '花嫁': 1, '村人': 1, '兄': 1})\n",
      "Counter({'メロス': 1})\n",
      "Counter({'花嫁': 1})\n",
      "Counter({'メロス': 1})\n",
      "Counter({'花嫁': 1, 'メロス': 1, '男': 1, 'ディオニス': 1, '村人': 1})\n",
      "Counter({'メロス': 1, '男': 1, '兄': 1})\n",
      "Counter({'メロス': 1, '花嫁': 1})\n",
      "Counter({'メロス': 1, '花嫁': 1})\n",
      "Counter({'メロス': 1, '村人': 1})\n",
      "Counter({'メロス': 1, 'ディオニス': 1})\n",
      "Counter({'花嫁': 1, 'メロス': 1, 'セリヌンティウス': 1, 'ゼウス': 1, 'ディオニス': 1})\n",
      "Counter({'メロス': 1})\n",
      "Counter({'メロス': 1})\n",
      "Counter({'メロス': 1, 'ディオニス': 1})\n",
      "Counter({'メロス': 1, 'ディオニス': 1})\n",
      "Counter({'メロス': 1})\n",
      "Counter({'花嫁': 1, 'メロス': 1, 'セリヌンティウス': 1, '男': 1, 'ディオニス': 1})\n",
      "Counter({'メロス': 1})\n",
      "Counter({'メロス': 1, '男': 1, 'ゼウス': 1})\n",
      "Counter({'メロス': 1, '男': 1})\n",
      "Counter({'メロス': 1})\n",
      "Counter({'メロス': 1})\n",
      "Counter({'メロス': 1, 'セリヌンティウス': 1})\n",
      "Counter({'メロス': 1})\n",
      "Counter({'メロス': 1, 'ディオニス': 1})\n",
      "Counter({'メロス': 1})\n",
      "Counter({'メロス': 1})\n",
      "Counter({'メロス': 1, 'セリヌンティウス': 1})\n",
      "Counter({'メロス': 1, 'セリヌンティウス': 1})\n",
      "Counter({'メロス': 1, 'セリヌンティウス': 1})\n",
      "Counter({'メロス': 1, 'セリヌンティウス': 1})\n",
      "Counter({'メロス': 1})\n",
      "Counter({'メロス': 1, 'セリヌンティウス': 1})\n",
      "Counter({'セリヌンティウス': 1})\n",
      "Counter({'ディオニス': 1})\n",
      "Counter({'ディオニス': 1})\n",
      "Counter({'メロス': 1, 'セリヌンティウス': 1})\n",
      "Counter({'メロス': 1, '娘': 1})\n",
      "Counter({'メロス': 44, 'ディオニス': 22, 'セリヌンティウス': 13, '花嫁': 11, '男': 7, '村人': 3, '兄': 2, 'ゼウス': 2, '父': 1, '女房': 1, '母': 1, '老爺': 1, '皇后': 1, 'アレキス': 1, '賢臣': 1, '臣下': 1, '娘': 1})\n"
     ]
    },
    {
     "data": {
      "text/plain": [
       "[['メロス',\n",
       "  'ディオニス',\n",
       "  'メロス',\n",
       "  'メロス',\n",
       "  'メロス',\n",
       "  'メロス',\n",
       "  '父',\n",
       "  '母',\n",
       "  '女房',\n",
       "  '花嫁',\n",
       "  '花嫁',\n",
       "  'メロス',\n",
       "  '花嫁',\n",
       "  'メロス',\n",
       "  'セリヌンティウス',\n",
       "  'セリヌンティウス',\n",
       "  'セリヌンティウス',\n",
       "  'メロス',\n",
       "  'メロス',\n",
       "  '老爺',\n",
       "  '老爺',\n",
       "  'メロス',\n",
       "  '老爺',\n",
       "  '老爺'],\n",
       " ['ディオニス'],\n",
       " ['ディオニス', '花嫁', '花嫁', '皇后', '賢臣', 'アレキス'],\n",
       " ['ディオニス'],\n",
       " ['臣下'],\n",
       " ['メロス', 'ディオニス'],\n",
       " ['メロス', '男', 'メロス', 'メロス', 'ディオニス'],\n",
       " ['ディオニス', 'ディオニス'],\n",
       " ['メロス'],\n",
       " ['ディオニス'],\n",
       " ['メロス', 'ディオニス'],\n",
       " ['メロス'],\n",
       " ['ディオニス'],\n",
       " ['ディオニス', 'メロス', 'メロス', 'メロス', '花嫁', 'メロス'],\n",
       " ['メロス', 'メロス', 'メロス', '花嫁', 'メロス', 'メロス', 'セリヌンティウス', 'メロス', 'メロス'],\n",
       " ['ディオニス', '男', '男'],\n",
       " ['メロス'],\n",
       " ['セリヌンティウス',\n",
       "  'セリヌンティウス',\n",
       "  'ディオニス',\n",
       "  'セリヌンティウス',\n",
       "  'セリヌンティウス',\n",
       "  'メロス',\n",
       "  'セリヌンティウス',\n",
       "  'セリヌンティウス',\n",
       "  'メロス',\n",
       "  'セリヌンティウス',\n",
       "  'セリヌンティウス',\n",
       "  'セリヌンティウス',\n",
       "  'メロス'],\n",
       " ['メロス', '村人', 'メロス', '花嫁', '兄', '兄', '兄'],\n",
       " ['メロス'],\n",
       " ['花嫁'],\n",
       " ['メロス'],\n",
       " ['メロス', 'メロス', '村人', 'メロス', 'ディオニス', 'メロス', 'メロス', 'メロス', '男', '花嫁'],\n",
       " ['メロス', 'メロス', '兄', '兄', '男'],\n",
       " ['花嫁', 'メロス'],\n",
       " ['メロス', '花嫁', 'メロス'],\n",
       " ['メロス', '村人'],\n",
       " ['メロス', 'ディオニス', 'メロス', 'メロス'],\n",
       " ['メロス',\n",
       "  'セリヌンティウス',\n",
       "  'ディオニス',\n",
       "  'メロス',\n",
       "  'メロス',\n",
       "  'メロス',\n",
       "  '花嫁',\n",
       "  'メロス',\n",
       "  'メロス',\n",
       "  'メロス',\n",
       "  'ゼウス',\n",
       "  'メロス'],\n",
       " ['メロス', 'メロス', 'メロス', 'メロス'],\n",
       " ['メロス'],\n",
       " ['メロス', 'ディオニス'],\n",
       " ['ディオニス', 'メロス'],\n",
       " ['メロス'],\n",
       " ['メロス',\n",
       "  'メロス',\n",
       "  'メロス',\n",
       "  'セリヌンティウス',\n",
       "  'ディオニス',\n",
       "  'メロス',\n",
       "  'メロス',\n",
       "  'メロス',\n",
       "  'メロス',\n",
       "  'メロス',\n",
       "  'メロス',\n",
       "  '男',\n",
       "  'メロス',\n",
       "  'メロス',\n",
       "  'メロス',\n",
       "  'セリヌンティウス',\n",
       "  'メロス',\n",
       "  'セリヌンティウス',\n",
       "  'メロス',\n",
       "  'メロス',\n",
       "  'メロス',\n",
       "  'セリヌンティウス',\n",
       "  'セリヌンティウス',\n",
       "  'メロス',\n",
       "  'セリヌンティウス',\n",
       "  'メロス',\n",
       "  'セリヌンティウス',\n",
       "  'セリヌンティウス',\n",
       "  'セリヌンティウス',\n",
       "  'メロス',\n",
       "  'メロス',\n",
       "  'メロス',\n",
       "  'メロス',\n",
       "  'メロス',\n",
       "  'ディオニス',\n",
       "  'メロス',\n",
       "  'メロス',\n",
       "  'メロス',\n",
       "  'ディオニス',\n",
       "  'メロス',\n",
       "  'ディオニス',\n",
       "  'メロス',\n",
       "  'ディオニス',\n",
       "  'メロス',\n",
       "  'メロス',\n",
       "  'メロス',\n",
       "  'メロス',\n",
       "  'セリヌンティウス',\n",
       "  'メロス',\n",
       "  'メロス',\n",
       "  'メロス',\n",
       "  'メロス',\n",
       "  '花嫁',\n",
       "  'メロス',\n",
       "  'メロス'],\n",
       " ['メロス', 'メロス', 'メロス', 'メロス', 'メロス', 'メロス'],\n",
       " ['メロス', 'メロス', 'メロス', 'メロス', 'ゼウス', 'メロス', '男', '男'],\n",
       " ['メロス', '男', '男', '男', 'メロス', '男', 'メロス', 'メロス'],\n",
       " ['メロス'],\n",
       " ['メロス'],\n",
       " ['セリヌンティウス', 'メロス'],\n",
       " ['メロス'],\n",
       " ['ディオニス', 'メロス'],\n",
       " ['メロス'],\n",
       " ['メロス', 'メロス', 'メロス'],\n",
       " ['メロス', 'セリヌンティウス', 'メロス'],\n",
       " ['メロス', 'メロス', 'メロス', 'メロス', 'セリヌンティウス', 'セリヌンティウス'],\n",
       " ['セリヌンティウス', 'メロス', 'メロス', 'メロス', 'メロス', 'メロス'],\n",
       " ['セリヌンティウス', 'メロス'],\n",
       " ['メロス', 'メロス', 'メロス', 'メロス', 'メロス', 'メロス'],\n",
       " ['メロス', 'セリヌンティウス'],\n",
       " ['セリヌンティウス'],\n",
       " ['ディオニス'],\n",
       " ['ディオニス'],\n",
       " ['メロス', 'メロス', 'セリヌンティウス'],\n",
       " ['メロス', '娘', 'メロス']]"
      ]
     },
     "execution_count": 25,
     "metadata": {},
     "output_type": "execute_result"
    }
   ],
   "source": [
    "word_count = Counter()\n",
    "for list_1 in list_2:\n",
    "    word_count += Counter(set(list_1))\n",
    "    print(Counter(set(list_1)))\n",
    "print(word_count)\n",
    "list_2"
   ]
  },
  {
   "cell_type": "markdown",
   "metadata": {},
   "source": [
    "【手順５】ネットワークの作成"
   ]
  },
  {
   "cell_type": "code",
   "execution_count": 26,
   "metadata": {},
   "outputs": [
    {
     "name": "stdout",
     "output_type": "stream",
     "text": [
      "Number of nodes = 6\n",
      "Number of edges = 10\n"
     ]
    },
    {
     "data": {
      "image/png": "[encoded data removed]",
      "text/plain": [
       "<Figure size 432x432 with 1 Axes>"
      ]
     },
     "metadata": {},
     "output_type": "display_data"
    }
   ],
   "source": [
    "G = nx.Graph()\n",
    "nodes = sorted(set([j for pair in jaccard_dict.keys() for j in pair]))\n",
    "G.add_nodes_from(nodes)\n",
    "print('Number of nodes =', G.number_of_nodes())\n",
    "\n",
    "#  線（edge）の追加\n",
    "for pair, coef in jaccard_dict.items():\n",
    "    G.add_edge(pair[0], pair[1], weight=coef)\n",
    "\n",
    "print('Number of edges =', G.number_of_edges())\n",
    "\n",
    "plt.figure(figsize=(6, 6))\n",
    "\n",
    "# nodeの配置方法の指定\n",
    "seed = 0\n",
    "np.random.seed(seed)\n",
    "pos = nx.spring_layout(G, k=0.3, seed=seed)\n",
    "pr = nx.pagerank(G)\n",
    "nx.draw_networkx_nodes(\n",
    "    G,\n",
    "    pos,\n",
    "    node_color='w',#list(pr.values()),\n",
    "    edgecolors='k', \n",
    "#    cmap=plt.cm.rainbow,\n",
    "    alpha=0.7,\n",
    "    node_size=1000)#[10000*v for v in pr.values()])\n",
    "\n",
    "# 日本語ラベルの設定\n",
    "nx.draw_networkx_labels(G, pos, font_size=15, font_family='MS Gothic', font_weight='bold')\n",
    "\n",
    "# エッジ太さをJaccard係数により変える\n",
    "edge_width = [d['weight'] * 2 for (u, v, d) in G.edges(data=True)]\n",
    "nx.draw_networkx_edges(G, pos, alpha=0.7, edge_color='darkgrey', width=edge_width)\n",
    "plt.axis('off')\n",
    "plt.tight_layout()\n",
    "plt.savefig(\"mrs_all.png\")\n",
    "plt.savefig(\"mrs_all.svg\")\n",
    "plt.show()"
   ]
  },
  {
   "cell_type": "markdown",
   "metadata": {},
   "source": [
    "#### レビューの共起ネットワーク"
   ]
  },
  {
   "cell_type": "code",
   "execution_count": 27,
   "metadata": {},
   "outputs": [],
   "source": [
    "with open(\"camera_review.txt\", mode=\"r\") as f:\n",
    "    text_all = f.read() "
   ]
  },
  {
   "cell_type": "code",
   "execution_count": 28,
   "metadata": {},
   "outputs": [],
   "source": [
    "text = text_all\n",
    "#text = re.split(r'\\-{5,}', text)[2]\n",
    "#text = re.split(r'底本：', text)[0]\n",
    "text = re.sub(r'【.+?】', '', text)\n",
    "#text = re.sub(r'［＃.+?］', '', text)\n",
    "text = re.sub(r'\\n', '', text)\n",
    "text = re.sub(r'「', '', text)\n",
    "text = re.sub(r'」', '', text)\n",
    "text = re.sub(r'★', '', text)\n",
    "#text = re.sub(r'\\u3000', '', text)\n",
    "#text = text.strip()\n",
    "#text = text.split(\"。\")\n",
    "text = text.split(\"@@@@@\")"
   ]
  },
  {
   "cell_type": "code",
   "execution_count": 29,
   "metadata": {},
   "outputs": [],
   "source": [
    "mecab = MeCab.Tagger()\n",
    "list_2 = []\n",
    "for line in text:\n",
    "    #line = text[0]\n",
    "    list_1 = []\n",
    "    node = mecab.parseToNode(line)\n",
    "    while node:\n",
    "        w = node.surface\n",
    "        w_type = node.feature.split(',')[0]\n",
    "        for key, value in replace_words.items():\n",
    "            w = w.replace(key, value)\n",
    "            \n",
    "        if(w_type in [\"名詞\"]):\n",
    "            list_1.append(w)\n",
    "        node = node.next\n",
    "    if list_1:\n",
    "        list_2.append(list_1)\n",
    "#    print(list_1)\n",
    "#print(sorted(list_2))\n",
    "\n",
    "pair_all = []\n",
    "for list_1 in list_2:\n",
    "    pair_1 = list(combinations(set(list_1), 2))\n",
    "#    print(pair_1)\n",
    "    for i,pair in enumerate(pair_1):\n",
    "        pair_1[i] = tuple(sorted(pair))\n",
    "    pair_all += pair_1\n",
    "#print(pair_all)\n",
    "pair_count = Counter(pair_all)\n",
    "min_cnt=8\n",
    "for key, count in dropwhile(lambda key_count: key_count[1] >= min_cnt, pair_count.most_common()):\n",
    "    del pair_count[key]\n",
    "#print(pair_count)\n",
    "\n",
    "word_count = Counter()\n",
    "for list_1 in list_2:\n",
    "    word_count += Counter(set(list_1))\n",
    "#print(word_count)\n",
    "jaccard_coef = []\n",
    "for pair, cnt in pair_count.items():\n",
    "    jaccard_coef.append(cnt / (word_count[pair[0]] + word_count[pair[1]] - cnt))\n",
    "#print(jaccard_coef)\n",
    "# jaccard係数がedge_th未満の単語ペアを除外\n",
    "edge_th=0.6#0.6\n",
    "jaccard_dict = OrderedDict()\n",
    "for (pair, cnt), coef in zip(pair_count.items(), jaccard_coef):\n",
    "    if coef >= edge_th:\n",
    "        jaccard_dict[pair] = coef\n",
    "#        print(pair, cnt, coef, word_count[pair[0]], word_count[pair[1]], sep='\\t')\n"
   ]
  },
  {
   "cell_type": "code",
   "execution_count": 30,
   "metadata": {},
   "outputs": [
    {
     "name": "stdout",
     "output_type": "stream",
     "text": [
      "Number of nodes = 12\n",
      "Number of edges = 11\n"
     ]
    },
    {
     "data": {
      "image/png": "[encoded data removed]",
      "text/plain": [
       "<Figure size 432x432 with 1 Axes>"
      ]
     },
     "metadata": {},
     "output_type": "display_data"
    }
   ],
   "source": [
    "G = nx.Graph()\n",
    "nodes = sorted(set([j for pair in jaccard_dict.keys() for j in pair]))\n",
    "G.add_nodes_from(nodes)\n",
    "print('Number of nodes =', G.number_of_nodes())\n",
    "\n",
    "#  線（edge）の追加\n",
    "for pair, coef in jaccard_dict.items():\n",
    "    G.add_edge(pair[0], pair[1], weight=coef)\n",
    "\n",
    "print('Number of edges =', G.number_of_edges())\n",
    "\n",
    "plt.figure(figsize=(6, 6))\n",
    "\n",
    "# nodeの配置方法の指定\n",
    "seed = 0\n",
    "np.random.seed(seed)\n",
    "pos = nx.spring_layout(G, k=0.3, seed=seed)\n",
    "pr = nx.pagerank(G)\n",
    "nx.draw_networkx_nodes(\n",
    "    G,\n",
    "    pos,\n",
    "    node_color='w',#list(pr.values()),\n",
    "    edgecolors='k', \n",
    "#    cmap=plt.cm.rainbow,\n",
    "    alpha=0.7,\n",
    "    node_size=1000)#[10000*v for v in pr.values()])\n",
    "\n",
    "# 日本語ラベルの設定\n",
    "nx.draw_networkx_labels(G, pos, font_size=15, font_family='MS Gothic', font_weight='bold')\n",
    "\n",
    "# エッジ太さをJaccard係数により変える\n",
    "edge_width = [d['weight'] * 2 for (u, v, d) in G.edges(data=True)]\n",
    "nx.draw_networkx_edges(G, pos, alpha=0.7, edge_color='darkgrey', width=edge_width)\n",
    "plt.axis('off')\n",
    "plt.tight_layout()\n",
    "plt.savefig(\"review.png\")\n",
    "plt.savefig(\"review.svg\")\n",
    "plt.show()"
   ]
  }
 ],
 "metadata": {
  "kernelspec": {
   "display_name": "Python 3",
   "language": "python",
   "name": "python3"
  },
  "language_info": {
   "codemirror_mode": {
    "name": "ipython",
    "version": 3
   },
   "file_extension": ".py",
   "mimetype": "text/x-python",
   "name": "python",
   "nbconvert_exporter": "python",
   "pygments_lexer": "ipython3",
   "version": "3.12.6"
  }
 },
 "nbformat": 4,
 "nbformat_minor": 4
}
