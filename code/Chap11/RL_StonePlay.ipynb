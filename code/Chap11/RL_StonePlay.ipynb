{
 "cells": [
  {
   "cell_type": "markdown",
   "metadata": {},
   "source": [
    "# 2人の意思決定（石取りゲームで人間と対戦）\n",
    "\n",
    "・強化学習の1つであるQラーニングの学習結果を用いる<br>\n",
    "・人間とエージェントで対戦する<br>\n",
    "・大戦前にRL_Stone.ipynbを実行してQV1.txtを作成しておく必要がある\n"
   ]
  },
  {
   "cell_type": "code",
   "execution_count": 1,
   "metadata": {},
   "outputs": [],
   "source": [
    "import numpy as np"
   ]
  },
  {
   "cell_type": "markdown",
   "metadata": {},
   "source": [
    "石の数の設定（学習と同じ石の数にする必要がある）"
   ]
  },
  {
   "cell_type": "code",
   "execution_count": 2,
   "metadata": {},
   "outputs": [],
   "source": [
    "BOTTLE_N = 11"
   ]
  },
  {
   "cell_type": "markdown",
   "metadata": {},
   "source": [
    "状態遷移：状態を変化させるための関数"
   ]
  },
  {
   "cell_type": "code",
   "execution_count": 3,
   "metadata": {},
   "outputs": [],
   "source": [
    "def step(action, state, turn):\n",
    "    state = state + action + 1\n",
    "    rewards = [0,0]\n",
    "    done = False\n",
    "    if (state>=BOTTLE_N):\n",
    "        state = BOTTLE_N\n",
    "        rewards[turn] = -1\n",
    "        rewards[(turn+1)%2] = 1\n",
    "        done = True\n",
    "    return state, rewards, done"
   ]
  },
  {
   "cell_type": "markdown",
   "metadata": {},
   "source": [
    "行動選択：Q値から次の行動を選択するための関数"
   ]
  },
  {
   "cell_type": "code",
   "execution_count": 4,
   "metadata": {},
   "outputs": [],
   "source": [
    "def getAction(state, epsilon, qv):\n",
    "    if epsilon > np.random.uniform(0, 1):#徐々に最適行動のみをとる、ε-greedy法\n",
    "        next_action = np.random.choice([0, 1, 2])\n",
    "    else:\n",
    "        a = np.where(qv[state]==qv[state].max())[0]\n",
    "        next_action = np.random.choice(a)\n",
    "    return next_action"
   ]
  },
  {
   "cell_type": "markdown",
   "metadata": {},
   "source": [
    "対戦の実行"
   ]
  },
  {
   "cell_type": "code",
   "execution_count": 5,
   "metadata": {},
   "outputs": [
    {
     "name": "stdout",
     "output_type": "stream",
     "text": [
      "New Game pin:11\n",
      "[1-3]1\n",
      "act:1, pin:10\n",
      "act:1, pin:9\n",
      "[1-3]3\n",
      "act:3, pin:6\n",
      "act:1, pin:5\n",
      "[1-3]2\n",
      "act:2, pin:3\n",
      "act:2, pin:1\n",
      "[1-3]1\n",
      "act:1, pin:0\n",
      "You Loose!\n"
     ]
    }
   ],
   "source": [
    "state = 0\n",
    "QV = np.loadtxt('QV1.txt')\n",
    "print('New Game pin:{}'.format(BOTTLE_N))\n",
    "while(1):\n",
    "    action = int(input('[1-3]'))\n",
    "    state, rewards, done = step(state, action-1, 1)\n",
    "    print('act:{0}, pin:{1}'.format(action, BOTTLE_N - state))\n",
    "    if (done==True):\n",
    "        print('You Lose!')\n",
    "        break\n",
    "    action = getAction(state, 0, QV)\n",
    "    state, rewards, done = step(state, action, 0)\n",
    "    print('act:{0}, pin:{1}'.format(action+1, BOTTLE_N - state))\n",
    "    if (done==True):\n",
    "        print('You Win!')\n",
    "        break"
   ]
  },
  {
   "cell_type": "code",
   "execution_count": null,
   "metadata": {},
   "outputs": [],
   "source": []
  }
 ],
 "metadata": {
  "kernelspec": {
   "display_name": "Python 3",
   "language": "python",
   "name": "python3"
  },
  "language_info": {
   "codemirror_mode": {
    "name": "ipython",
    "version": 3
   },
   "file_extension": ".py",
   "mimetype": "text/x-python",
   "name": "python",
   "nbconvert_exporter": "python",
   "pygments_lexer": "ipython3",
   "version": "3.8.5"
  }
 },
 "nbformat": 4,
 "nbformat_minor": 4
}
