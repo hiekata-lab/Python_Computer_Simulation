{
 "cells": [
  {
   "cell_type": "markdown",
   "metadata": {},
   "source": [
    "# 2人の意思決定（石取りゲームの学習）<br>\n",
    "# Decison-Making by Two People (Learning of Stone Picking Game)<br>\n",
    "\n",
    "・強化学習の1つであるQラーニングを用いる<br>\n",
    "・This time, we use Q-learning, which is one of the reinforcement learning.<br>\n",
    "<br>\n",
    "・エージェントは2つ用いる<br>\n",
    "・We use two agents.\n"
   ]
  },
  {
   "cell_type": "code",
   "execution_count": 46,
   "metadata": {},
   "outputs": [],
   "source": [
    "import numpy as np\n",
    "import math"
   ]
  },
  {
   "cell_type": "code",
   "execution_count": 26,
   "metadata": {},
   "outputs": [],
   "source": [
    "number_color = 4\n",
    "number_space = 3"
   ]
  },
  {
   "cell_type": "code",
   "execution_count": 13,
   "metadata": {},
   "outputs": [],
   "source": [
    "def get_HB(word, answer):\n",
    "    word_left, answer_left = [], []\n",
    "    hit, blow = 0, 0\n",
    "    \n",
    "    # Judge hit\n",
    "    for word_i in range(len(answer)):\n",
    "        if word[word_i] == answer[word_i]:\n",
    "            hit += 1\n",
    "        else:\n",
    "            word_left.append(word[word_i])\n",
    "            answer_left.append(answer[word_i])\n",
    "    \n",
    "    # Judge blow\n",
    "    for word_i in range(len(word_left)):\n",
    "        if word_left[word_i] in answer_left:\n",
    "            blow += 1\n",
    "            answer_left.remove(word_left[word_i])\n",
    "            \n",
    "    return [hit, blow]\n",
    "    "
   ]
  },
  {
   "cell_type": "code",
   "execution_count": 16,
   "metadata": {},
   "outputs": [],
   "source": [
    "# get all potential wors list\n",
    "def get_potential_list(potential_list, request, responce):\n",
    "    new_potential_list = []\n",
    "    for potential in potential_list:\n",
    "        if get_HB(potential, request) == responce:\n",
    "            new_potential_list.append(potential)\n",
    "    return new_potential_list\n",
    "    "
   ]
  },
  {
   "cell_type": "code",
   "execution_count": 50,
   "metadata": {},
   "outputs": [],
   "source": [
    "def calculate_info(expect_HB_row):\n",
    "    info = 0\n",
    "    sum_row = np.sum(expect_HB_row)\n",
    "    for item in expect_HB_row:\n",
    "        if item != 0:\n",
    "            info += item / sum_row * math.log2(item)\n",
    "    return info"
   ]
  },
  {
   "cell_type": "code",
   "execution_count": 78,
   "metadata": {},
   "outputs": [],
   "source": [
    "def expected_info(potential_list, original_list, number_space):\n",
    "    info = np.zeros((len(original_list)))\n",
    "    for original_i in range(len(original_list)):\n",
    "        expect_HB = np.zeros(((number_space + 1) ** 2))\n",
    "        for potential_i in range(len(potential_list)):\n",
    "            HB = get_HB(original_list[original_i], potential_list[potential_i])\n",
    "            expect_HB[HB[0] * number_space + HB[1]] += 1\n",
    "        info[original_i] = calculate_info(expect_HB)\n",
    "    return info"
   ]
  },
  {
   "cell_type": "code",
   "execution_count": 79,
   "metadata": {},
   "outputs": [],
   "source": [
    "def make_original_list(number_color, number_space):\n",
    "    original_list = []\n",
    "    for i in range(number_color ** number_space):\n",
    "        original_list.append(np.base_repr(i, number_color).zfill(number_space))\n",
    "    return original_list"
   ]
  },
  {
   "cell_type": "code",
   "execution_count": 117,
   "metadata": {},
   "outputs": [],
   "source": [
    "def add_new_info(info, info_list):\n",
    "    contain_TF = True\n",
    "    for item in info:\n",
    "        if item not in info_list:\n",
    "            info_list.append(item)\n",
    "            contain_TF = False\n",
    "    #if contain_TF == False:\n",
    "        #print(\"Add new item!!\")\n",
    "    return info_list, contain_TF\n",
    "    "
   ]
  },
  {
   "cell_type": "code",
   "execution_count": 118,
   "metadata": {},
   "outputs": [],
   "source": [
    "def get_InfoList(number_color, number_space):\n",
    "    original_list = make_original_list(number_color, number_space)\n",
    "    info_list = []\n",
    "    contain_count = 0\n",
    "    i = 0\n",
    "    while contain_count < 10 * (number_color ** number_space):\n",
    "        HB = [0, 0]\n",
    "        answer = np.random.choice(original_list)\n",
    "        #print(\"Answer: \", answer)\n",
    "        potential_list = original_list.copy()\n",
    "        current_containTF = True\n",
    "        while HB != [number_space, 0]:\n",
    "            request = np.random.choice(original_list)\n",
    "            #print(\"Request: \", request)\n",
    "            HB = get_HB(request, answer)\n",
    "            #print(\"HB: \", HB)\n",
    "            potential_list = get_potential_list(potential_list, request, HB)\n",
    "            #print(\"Potential list: \", potential_list)\n",
    "            info = expected_info(potential_list, original_list, number_space)\n",
    "            info_list, containTF = add_new_info(info, info_list)\n",
    "            if (current_containTF == True) and (containTF == False):\n",
    "                current_containTF = False\n",
    "        if (current_containTF == True):\n",
    "            contain_count += 1\n",
    "        else:\n",
    "            contain_count = 0\n",
    "        i += 1\n",
    "    \n",
    "    info_list = np.sort(info_list)\n",
    "    return info_list"
   ]
  },
  {
   "cell_type": "code",
   "execution_count": null,
   "metadata": {},
   "outputs": [],
   "source": [
    "def get_ChangeList(number_color, number_space, info_list):\n",
    "    original_list = make_original_list(number_color, number_space)\n",
    "    change_list = np.zeros((len(info_list), number_color ** number_space))\n",
    "    contain_count = 0\n",
    "\n",
    "    while contain_count < 50 * (number_color ** number_space):\n",
    "        HB = [0, 0]\n",
    "        answer = np.random.choice(original_list)\n",
    "        #print(\"Answer: \", answer)\n",
    "        potential_list = original_list.copy()\n",
    "        current_containTF = True\n",
    "        while HB != [number_space, 0]:\n",
    "            request = np.random.choice(original_list)\n",
    "            #print(\"Request: \", request)\n",
    "            HB = get_HB(request, answer)\n",
    "            #print(\"HB: \", HB)\n",
    "            potential_list = get_potential_list(potential_list, request, HB)\n",
    "            #print(\"Potential list: \", potential_list)\n",
    "            info = expected_info(potential_list, original_list, number_space)\n",
    "            info_list, containTF = add_new_info(info, info_list)\n",
    "            if (current_containTF == True) and (containTF == False):\n",
    "                current_containTF = False\n",
    "        if (current_containTF == True):\n",
    "            contain_count += 1\n",
    "        else:\n",
    "            contain_count = 0\n",
    "    return change_list"
   ]
  },
  {
   "cell_type": "code",
   "execution_count": 119,
   "metadata": {},
   "outputs": [],
   "source": [
    "info_list = get_InfoList(number_color, number_space)"
   ]
  },
  {
   "cell_type": "code",
   "execution_count": 120,
   "metadata": {},
   "outputs": [
    {
     "name": "stdout",
     "output_type": "stream",
     "text": [
      "[0.         0.25       0.28571429 0.33333333 0.4        0.5\n",
      " 0.57142857 0.59436094 0.6        0.66666667 0.67548875 0.67926964\n",
      " 0.75       0.75054306 0.79248125 0.8        0.83333333 0.84436094\n",
      " 0.85714286 0.87548875 0.88888889 0.89624063 0.9509775  0.96498393\n",
      " 0.97276528 1.         1.         1.05664167 1.06290729 1.06290729\n",
      " 1.07548875 1.09436094 1.10784107 1.10784107 1.11111111 1.12581458\n",
      " 1.14285714 1.14285714 1.1509775  1.16666667 1.16666667 1.18872188\n",
      " 1.1949875  1.19677768 1.2        1.2        1.22087574 1.22957396\n",
      " 1.25       1.25069821 1.26528088 1.27548875 1.27886389 1.30461875\n",
      " 1.33333333 1.33333333 1.3509775  1.3509775  1.35853929 1.38292794\n",
      " 1.39624063 1.4        1.41176471 1.41720972 1.42857143 1.43320753\n",
      " 1.433985   1.43872188 1.45460914 1.45616985 1.45616985 1.45914792\n",
      " 1.46666667 1.49096853 1.5        1.51218227 1.5364125  1.5364125\n",
      " 1.54498015 1.56096405 1.57397603 1.5849625  1.5849625  1.59033304\n",
      " 1.59436094 1.6        1.61822206 1.62581458 1.63943194 1.63943194\n",
      " 1.65032583 1.65138682 1.66666667 1.68640289 1.70120506 1.70730936\n",
      " 1.73586912 1.7509775  1.76318638 1.77777778 1.8        1.80080337\n",
      " 1.80130333 1.82212679 1.83055385 1.833985   1.8364528  1.8481645\n",
      " 1.85939062 1.88431083 1.92523859 1.93494008 1.93872188 1.94423435\n",
      " 1.94553056 1.97116324 1.99164583 2.         2.03037733 2.045566\n",
      " 2.0849625  2.12581458 2.12581458 2.14814815 2.16666667 2.17884894\n",
      " 2.18590926 2.18872188 2.21568214 2.25069821 2.25162917 2.27969926\n",
      " 2.31474085 2.32192809 2.32940196 2.33930591 2.3509775  2.35294118\n",
      " 2.36571493 2.3849625  2.42857143 2.48590428 2.50730936 2.54647731\n",
      " 2.55772778 2.5849625  2.6        2.60380368 2.66666667 2.80735492\n",
      " 2.93594    2.94423435 3.         3.00115    3.05664167 3.08996029\n",
      " 3.11004502 3.169925   3.17587429 3.21568214 3.32192809 3.36274028\n",
      " 3.5849625  3.80735492 3.9068906  4.08746284 4.7548875 ]\n"
     ]
    }
   ],
   "source": [
    "print(info_list)"
   ]
  },
  {
   "cell_type": "code",
   "execution_count": 121,
   "metadata": {},
   "outputs": [
    {
     "data": {
      "text/plain": [
       "167"
      ]
     },
     "execution_count": 121,
     "metadata": {},
     "output_type": "execute_result"
    }
   ],
   "source": [
    "len(info_list)"
   ]
  },
  {
   "cell_type": "markdown",
   "metadata": {},
   "source": [
    "変数の設定 Settings of variables"
   ]
  },
  {
   "cell_type": "code",
   "execution_count": 2,
   "metadata": {},
   "outputs": [],
   "source": [
    "BOTTLE_N = 11#石の数 the number of stones\n",
    "\n",
    "#Q値の初期化 Q-value initialization\n",
    "QV0=np.zeros((BOTTLE_N+1,3), dtype=np.float32)\n",
    "QV1=np.zeros((BOTTLE_N+1,3), dtype=np.float32)\n",
    "QVs = [QV0, QV1]"
   ]
  },
  {
   "cell_type": "markdown",
   "metadata": {},
   "source": [
    "状態遷移：状態を変化させるための関数<br>\n",
    "State transiton: The function used to change state"
   ]
  },
  {
   "cell_type": "code",
   "execution_count": 3,
   "metadata": {},
   "outputs": [],
   "source": [
    "def step(action, state, turn):\n",
    "    state = state + action + 1\n",
    "    rewards = [0,0]\n",
    "    done = False\n",
    "    if (state>=BOTTLE_N):\n",
    "        state = BOTTLE_N\n",
    "        rewards[turn] = -1\n",
    "        rewards[(turn+1)%2] = 1\n",
    "        done = True\n",
    "    return state, rewards, done"
   ]
  },
  {
   "cell_type": "markdown",
   "metadata": {},
   "source": [
    "行動選択：Q値から次の行動を選択するための関数<br>\n",
    "Select actions: The function to select next action from Q-value"
   ]
  },
  {
   "cell_type": "code",
   "execution_count": 4,
   "metadata": {},
   "outputs": [],
   "source": [
    "def getAction(state, epsilon, qv):\n",
    "    #徐々に最適行動のみをとる、ε-greedy法\n",
    "    #Gradually take only the optimal action at that time, ε-greedy method\n",
    "    if epsilon > np.random.uniform(0, 1):\n",
    "        next_action = np.random.choice([0, 1, 2])\n",
    "    else:\n",
    "        a = np.where(qv[state]==qv[state].max())[0]\n",
    "        #その時点での最適行動が複数ある場合はランダムに選択\n",
    "        #If there are multiple optimal actions at that time, select randomly from them\n",
    "        next_action = np.random.choice(a)\n",
    "    return next_action"
   ]
  },
  {
   "cell_type": "markdown",
   "metadata": {},
   "source": [
    "Q値の更新：状態，行動，報酬，次の状態を用いてQ値を更新するための関数<br>\n",
    "Update Q-value: The function to update Q-value based on the current state, the behavior, the reward and the next state"
   ]
  },
  {
   "cell_type": "code",
   "execution_count": 5,
   "metadata": {},
   "outputs": [],
   "source": [
    "def updateQValue(action, reward, state, state_old, qv, gamma, alpha):\n",
    "    maxQ = np.max(qv[state])\n",
    "    qv[state_old][action] = (1-alpha)*qv[state_old][action]+alpha*(reward + gamma*maxQ);"
   ]
  },
  {
   "cell_type": "markdown",
   "metadata": {},
   "source": [
    "変数の設定 Settings of variables"
   ]
  },
  {
   "cell_type": "code",
   "execution_count": 6,
   "metadata": {},
   "outputs": [],
   "source": [
    "num_episodes = 100#エピソード数 number of episodes\n",
    "gamma = 0.9#割引率 discount rate\n",
    "alpha = 0.5#学習率 learning rate"
   ]
  },
  {
   "cell_type": "markdown",
   "metadata": {},
   "source": [
    "強化学習の実行 Do reinforcement learning"
   ]
  },
  {
   "cell_type": "code",
   "execution_count": 7,
   "metadata": {},
   "outputs": [
    {
     "name": "stdout",
     "output_type": "stream",
     "text": [
      "0 : 0 Win!!, 1 Lose\n",
      "1 : 0 Lose, 1 Win!!\n",
      "2 : 0 Win!!, 1 Lose\n",
      "3 : 0 Lose, 1 Win!!\n",
      "4 : 0 Win!!, 1 Lose\n",
      "5 : 0 Lose, 1 Win!!\n",
      "6 : 0 Lose, 1 Win!!\n",
      "7 : 0 Lose, 1 Win!!\n",
      "8 : 0 Lose, 1 Win!!\n",
      "9 : 0 Lose, 1 Win!!\n",
      "10 : 0 Win!!, 1 Lose\n",
      "11 : 0 Lose, 1 Win!!\n",
      "12 : 0 Win!!, 1 Lose\n",
      "13 : 0 Win!!, 1 Lose\n",
      "14 : 0 Win!!, 1 Lose\n",
      "15 : 0 Lose, 1 Win!!\n",
      "16 : 0 Win!!, 1 Lose\n",
      "17 : 0 Win!!, 1 Lose\n",
      "18 : 0 Lose, 1 Win!!\n",
      "19 : 0 Win!!, 1 Lose\n",
      "20 : 0 Win!!, 1 Lose\n",
      "21 : 0 Win!!, 1 Lose\n",
      "22 : 0 Lose, 1 Win!!\n",
      "23 : 0 Lose, 1 Win!!\n",
      "24 : 0 Lose, 1 Win!!\n",
      "25 : 0 Lose, 1 Win!!\n",
      "26 : 0 Lose, 1 Win!!\n",
      "27 : 0 Win!!, 1 Lose\n",
      "28 : 0 Win!!, 1 Lose\n",
      "29 : 0 Win!!, 1 Lose\n",
      "30 : 0 Win!!, 1 Lose\n",
      "31 : 0 Win!!, 1 Lose\n",
      "32 : 0 Win!!, 1 Lose\n",
      "33 : 0 Lose, 1 Win!!\n",
      "34 : 0 Lose, 1 Win!!\n",
      "35 : 0 Win!!, 1 Lose\n",
      "36 : 0 Win!!, 1 Lose\n",
      "37 : 0 Lose, 1 Win!!\n",
      "38 : 0 Lose, 1 Win!!\n",
      "39 : 0 Win!!, 1 Lose\n",
      "40 : 0 Win!!, 1 Lose\n",
      "41 : 0 Win!!, 1 Lose\n",
      "42 : 0 Win!!, 1 Lose\n",
      "43 : 0 Win!!, 1 Lose\n",
      "44 : 0 Win!!, 1 Lose\n",
      "45 : 0 Win!!, 1 Lose\n",
      "46 : 0 Win!!, 1 Lose\n",
      "47 : 0 Win!!, 1 Lose\n",
      "48 : 0 Win!!, 1 Lose\n",
      "49 : 0 Win!!, 1 Lose\n",
      "50 : 0 Win!!, 1 Lose\n",
      "51 : 0 Win!!, 1 Lose\n",
      "52 : 0 Win!!, 1 Lose\n",
      "53 : 0 Win!!, 1 Lose\n",
      "54 : 0 Win!!, 1 Lose\n",
      "55 : 0 Win!!, 1 Lose\n",
      "56 : 0 Win!!, 1 Lose\n",
      "57 : 0 Win!!, 1 Lose\n",
      "58 : 0 Win!!, 1 Lose\n",
      "59 : 0 Win!!, 1 Lose\n",
      "60 : 0 Win!!, 1 Lose\n",
      "61 : 0 Win!!, 1 Lose\n",
      "62 : 0 Win!!, 1 Lose\n",
      "63 : 0 Win!!, 1 Lose\n",
      "64 : 0 Win!!, 1 Lose\n",
      "65 : 0 Win!!, 1 Lose\n",
      "66 : 0 Win!!, 1 Lose\n",
      "67 : 0 Win!!, 1 Lose\n",
      "68 : 0 Win!!, 1 Lose\n",
      "69 : 0 Win!!, 1 Lose\n",
      "70 : 0 Win!!, 1 Lose\n",
      "71 : 0 Win!!, 1 Lose\n",
      "72 : 0 Win!!, 1 Lose\n",
      "73 : 0 Win!!, 1 Lose\n",
      "74 : 0 Win!!, 1 Lose\n",
      "75 : 0 Win!!, 1 Lose\n",
      "76 : 0 Win!!, 1 Lose\n",
      "77 : 0 Win!!, 1 Lose\n",
      "78 : 0 Win!!, 1 Lose\n",
      "79 : 0 Win!!, 1 Lose\n",
      "80 : 0 Win!!, 1 Lose\n",
      "81 : 0 Win!!, 1 Lose\n",
      "82 : 0 Win!!, 1 Lose\n",
      "83 : 0 Win!!, 1 Lose\n",
      "84 : 0 Win!!, 1 Lose\n",
      "85 : 0 Win!!, 1 Lose\n",
      "86 : 0 Win!!, 1 Lose\n",
      "87 : 0 Win!!, 1 Lose\n",
      "88 : 0 Win!!, 1 Lose\n",
      "89 : 0 Win!!, 1 Lose\n",
      "90 : 0 Win!!, 1 Lose\n",
      "91 : 0 Win!!, 1 Lose\n",
      "92 : 0 Win!!, 1 Lose\n",
      "93 : 0 Win!!, 1 Lose\n",
      "94 : 0 Win!!, 1 Lose\n",
      "95 : 0 Win!!, 1 Lose\n",
      "96 : 0 Win!!, 1 Lose\n",
      "97 : 0 Win!!, 1 Lose\n",
      "98 : 0 Win!!, 1 Lose\n",
      "99 : 0 Win!!, 1 Lose\n"
     ]
    }
   ],
   "source": [
    "for episode in range(num_episodes):  #試行数分繰り返す\n",
    "    state = 0\n",
    "    state_old = [0,0]\n",
    "    rewards = [0,0]\n",
    "    actions = [0,0]\n",
    "    epsilon = 0.5 * (1 / (episode + 1))\n",
    "    while(1):\n",
    "        actions[0] = getAction(state, epsilon, QVs[0])\n",
    "        state_old[0] = state\n",
    "        state, rewards, done = step(state, actions[0], 0)\n",
    "        updateQValue(actions[1], rewards[1], state, state_old[1], QVs[1], gamma, alpha)\n",
    "        if (done==True):\n",
    "            updateQValue(actions[0], rewards[0], state, state_old[0], QVs[0], gamma, alpha)\n",
    "            print('{} : 0 Lose, 1 Win!!'.format(episode))\n",
    "            break\n",
    "        actions[1] = getAction(state, epsilon, QVs[1])\n",
    "        state_old[1] = state\n",
    "        state, rewards, done = step(state, actions[1], 1)\n",
    "        updateQValue(actions[0], rewards[0], state, state_old[0], QVs[0], gamma, alpha)\n",
    "        if (done==True):\n",
    "            updateQValue(actions[1], rewards[1], state, state_old[1], QVs[1], gamma, alpha)\n",
    "            print('{} : 0 Win!!, 1 Lose'.format(episode))\n",
    "            break"
   ]
  },
  {
   "cell_type": "code",
   "execution_count": 8,
   "metadata": {},
   "outputs": [
    {
     "name": "stdout",
     "output_type": "stream",
     "text": [
      "Agent 0\n",
      "[[ 0.          0.80999875 -0.05254638]\n",
      " [ 0.          0.          0.        ]\n",
      " [ 0.          0.          0.        ]\n",
      " [-0.16699216  0.          0.89999926]\n",
      " [-0.21926622  0.8999994   0.        ]\n",
      " [ 0.8999994   0.         -0.39374998]\n",
      " [-0.66772705 -0.7246094  -0.65937495]\n",
      " [ 0.          0.          1.        ]\n",
      " [-0.21249999  1.         -0.5       ]\n",
      " [ 1.         -0.5        -0.5       ]\n",
      " [-0.96875    -0.96875    -0.984375  ]\n",
      " [ 0.          0.          0.        ]]\n",
      "Agent 1\n",
      "[[-0.72898775  0.          0.        ]\n",
      " [ 0.          0.          0.        ]\n",
      " [-0.80999213 -0.80999446 -0.80999273]\n",
      " [ 0.          0.          0.50689083]\n",
      " [-0.17718749  0.64335936  0.        ]\n",
      " [ 0.590625   -0.39374998 -0.4359375 ]\n",
      " [-0.8999995  -0.89999956 -0.89999944]\n",
      " [-0.12851562 -0.325       0.875     ]\n",
      " [-0.38124996  0.96875    -0.5       ]\n",
      " [ 0.99609375  0.         -0.75      ]\n",
      " [-1.         -1.         -1.        ]\n",
      " [ 0.          0.          0.        ]]\n"
     ]
    }
   ],
   "source": [
    "print(\"Agent 0\")\n",
    "print(QVs[0])\n",
    "print(\"Agent 1\")\n",
    "print(QVs[1])\n",
    "np.savetxt('QV0.txt', QVs[0])\n",
    "np.savetxt('QV1.txt', QVs[1])"
   ]
  },
  {
   "cell_type": "markdown",
   "metadata": {},
   "source": [
    "必勝法と同じ取り方を学習しているかの確認<br>\n",
    "Check if you are learning the same winning method."
   ]
  },
  {
   "cell_type": "code",
   "execution_count": 9,
   "metadata": {},
   "outputs": [
    {
     "name": "stdout",
     "output_type": "stream",
     "text": [
      "Agent 0\n",
      "残り本数 11 取る数 [2] 必勝法 2 正解\n",
      "残り本数 10 取る数 [1 2 3] 必勝法 1 不定\n",
      "残り本数 9 取る数 [1 2 3] 必勝法 0 なんでもよい\n",
      "残り本数 8 取る数 [3] 必勝法 3 正解\n",
      "残り本数 7 取る数 [2] 必勝法 2 正解\n",
      "残り本数 6 取る数 [1] 必勝法 1 正解\n",
      "残り本数 5 取る数 [3] 必勝法 0 なんでもよい\n",
      "残り本数 4 取る数 [3] 必勝法 3 正解\n",
      "残り本数 3 取る数 [2] 必勝法 2 正解\n",
      "残り本数 2 取る数 [1] 必勝法 1 正解\n",
      "残り本数 1 取る数 [1 2] 必勝法 0 なんでもよい\n",
      "Agent 1\n",
      "残り本数 11 取る数 [2 3] 必勝法 2 不定\n",
      "残り本数 10 取る数 [1 2 3] 必勝法 1 不定\n",
      "残り本数 9 取る数 [1] 必勝法 0 なんでもよい\n",
      "残り本数 8 取る数 [3] 必勝法 3 正解\n",
      "残り本数 7 取る数 [2] 必勝法 2 正解\n",
      "残り本数 6 取る数 [1] 必勝法 1 正解\n",
      "残り本数 5 取る数 [3] 必勝法 0 なんでもよい\n",
      "残り本数 4 取る数 [3] 必勝法 3 正解\n",
      "残り本数 3 取る数 [2] 必勝法 2 正解\n",
      "残り本数 2 取る数 [1] 必勝法 1 正解\n",
      "残り本数 1 取る数 [1 2 3] 必勝法 0 なんでもよい\n"
     ]
    }
   ],
   "source": [
    "for j in range(2):\n",
    "    print(\"Agent\", j)\n",
    "    for i in range(BOTTLE_N):\n",
    "        a = np.where(QVs[j][i]==QVs[j][i].max())[0]\n",
    "        print('残り本数',BOTTLE_N-i,'取る数',a+1,'必勝法',(BOTTLE_N-i-1)%4,'なんでもよい' if (BOTTLE_N-i-1)%4 == 0 else \\\n",
    "              ('不定' if a.size >1 else ('正解' if (BOTTLE_N-i-1)%4 == a+1 else '不正解')))"
   ]
  }
 ],
 "metadata": {
  "kernelspec": {
   "display_name": ".venv",
   "language": "python",
   "name": "python3"
  },
  "language_info": {
   "codemirror_mode": {
    "name": "ipython",
    "version": 3
   },
   "file_extension": ".py",
   "mimetype": "text/x-python",
   "name": "python",
   "nbconvert_exporter": "python",
   "pygments_lexer": "ipython3",
   "version": "3.12.0"
  }
 },
 "nbformat": 4,
 "nbformat_minor": 4
}
