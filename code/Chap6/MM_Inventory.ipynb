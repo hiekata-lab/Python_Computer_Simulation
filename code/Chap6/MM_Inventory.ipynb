{
 "cells": [
  {
   "cell_type": "markdown",
   "metadata": {},
   "source": [
    "# 在庫管理"
   ]
  },
  {
   "cell_type": "code",
   "execution_count": null,
   "metadata": {},
   "outputs": [],
   "source": [
    "# -*- coding: utf-8 -*- \n",
    "import numpy as np\n",
    "import scipy, scipy.stats\n",
    "\n",
    "import matplotlib.pyplot as plt\n",
    "%matplotlib inline"
   ]
  },
  {
   "cell_type": "markdown",
   "metadata": {},
   "source": [
    "#### 仕入れ条件"
   ]
  },
  {
   "cell_type": "code",
   "execution_count": null,
   "metadata": {},
   "outputs": [],
   "source": [
    "Cyear, Cone, Ccost, Csell = 5, 40, 50, 80\n",
    "LeadTime = 6\n",
    "alp = 0.05\n",
    "ka = scipy.stats.norm.ppf(1-alp, loc=0, scale=1)"
   ]
  },
  {
   "cell_type": "markdown",
   "metadata": {},
   "source": [
    "#### ある15日間の需要量"
   ]
  },
  {
   "cell_type": "code",
   "execution_count": null,
   "metadata": {
    "scrolled": true
   },
   "outputs": [],
   "source": [
    "demand = np.array([3,6,9,10,5,8,2,6,11,3,5,3,6,2,5])\n",
    "Mean = demand.mean()\n",
    "Std  = demand.std(ddof=1) # ddof=1 means unbiased std\n",
    "print(Mean, Std)"
   ]
  },
  {
   "cell_type": "markdown",
   "metadata": {},
   "source": [
    "#### シミュレーション条件"
   ]
  },
  {
   "cell_type": "code",
   "execution_count": null,
   "metadata": {},
   "outputs": [],
   "source": [
    "Kmax = 120 # シミュレーション回数\n",
    "Invent0 = 220 # 在庫量の初期値\n",
    "randLow, randHigh = 0, 15"
   ]
  },
  {
   "cell_type": "markdown",
   "metadata": {},
   "source": [
    "### 発注点法，order point system"
   ]
  },
  {
   "cell_type": "code",
   "execution_count": null,
   "metadata": {},
   "outputs": [],
   "source": [
    "np.random.seed(123)\n",
    "\n",
    "OrderingPoint = np.int(LeadTime*Mean+ka*Std*np.sqrt(LeadTime))\n",
    "TotalDemand = np.int(Mean*365 + 0.5) # 四捨五入\n",
    "EOQ = np.int(np.sqrt( (2*Cone*TotalDemand)/Cyear ) + 0.5)\n",
    "print(ka,OrderingPoint, TotalDemand, EOQ)"
   ]
  },
  {
   "cell_type": "markdown",
   "metadata": {},
   "source": [
    "#### 次のセルだけを実行すると，実行毎に結果が異なる。\n",
    "これは，乱数発生の仕組みによる。テキストの10回のシミュレーション結果は，次のセルだけの実行を何回も行った結果である。"
   ]
  },
  {
   "cell_type": "markdown",
   "metadata": {},
   "source": [
    "#### アルゴズムの説明\n",
    "初めてx[k] <= OrderingPointとなった日からLeatTime期間は納入できない。<br>\n",
    "そこで，この日を起点としてLeadTime期間中であることをflag=Trueが示す。<br>\n",
    "lagは，LeaｄTime期間の日のカウンタであり，lag ==0 はLeadTime期間の終了を示す。<br>\n",
    "LeadTimeを“今日”を起点とするならば，lag = LeadTime + 1，“明日”を起点とするなばLeadTime + 2となる。"
   ]
  },
  {
   "cell_type": "code",
   "execution_count": null,
   "metadata": {},
   "outputs": [],
   "source": [
    "x = np.zeros(Kmax) # 在庫量\n",
    "x[0] = Invent0\n",
    "flag = False\n",
    "dsum = 0\n",
    "\n",
    "for k in range(1,Kmax):\n",
    "#    d = np.int(max(scipy.stats.norm.rvs(loc = Mean, scale = Std, size=1), 0))\n",
    "    d = scipy.stats.randint.rvs(low=randLow, high=randHigh, size=1)\n",
    "    dsum += d\n",
    "    x[k] = x[k-1] - d\n",
    "    #初めてx[k] <= OrderingPointとなった日からLeatTime期間は納入できない\n",
    "    if x[k] <= OrderingPoint and flag == False:\n",
    "        flag = True\n",
    "        lag = LeadTime + 1\n",
    "    if flag == True:\n",
    "        lag = lag - 1\n",
    "        if lag == 0:\n",
    "            x[k] = x[k] + EOQ\n",
    "            flag = False\n",
    "print('Total amount dsum = %d' % (dsum))\n",
    "print('Mean of inventory x = %f' % (x.mean()))\n",
    "\n",
    "plt.plot(x)\n",
    "plt.ylim(0, 250)\n",
    "plt.xlabel('Day')\n",
    "plt.ylabel('Volume of inventories')\n",
    "plt.title('Ordering Point Method')\n",
    "plt.show()"
   ]
  },
  {
   "cell_type": "markdown",
   "metadata": {},
   "source": [
    "### 定期発注法，periodical ordering system"
   ]
  },
  {
   "cell_type": "code",
   "execution_count": null,
   "metadata": {},
   "outputs": [],
   "source": [
    "np.random.seed(3456) # 発注点法と確率変数のseedを変えることで日々の需要量を異ならせる\n",
    "CycleT = np.int(np.sqrt( (2*Cone*TotalDemand)/Cyear )/Mean )\n",
    "POS_Q = np.int((CycleT + LeadTime)*Mean + ka*Std*np.sqrt(CycleT + LeadTime) + 0.5)\n",
    "\n",
    "print(CycleT, POS_Q)"
   ]
  },
  {
   "cell_type": "markdown",
   "metadata": {},
   "source": [
    "#### 次のセルだけを実行すると，実行毎に結果が異なる。\n",
    "これは，乱数発生の仕組みによる。テキストの10回のシミュレーション結果は，次のセルだけの実行を何回も行った結果である。"
   ]
  },
  {
   "cell_type": "code",
   "execution_count": null,
   "metadata": {},
   "outputs": [],
   "source": [
    "y = np.zeros(Kmax)\n",
    "y[0] = Invent0\n",
    "count = CycleT\n",
    "dsum = 0\n",
    "\n",
    "for k in range(1,Kmax):\n",
    "#    d = np.int(max(scipy.stats.norm.rvs(loc = Mean, scale = Std, size=1), 0))\n",
    "    d = scipy.stats.randint.rvs(low=randLow, high=randHigh, size=1)\n",
    "    dsum += d\n",
    "    y[k] = y[k-1] - d\n",
    "    count = count - 1\n",
    "    if count == 0:\n",
    "        y[k] = POS_Q\n",
    "        count = CycleT\n",
    "\n",
    "print('Total amount dsum = %d' % (dsum))\n",
    "print('Mean of inventory ypo = %f' % (y.mean()))\n",
    "\n",
    "plt.plot(y)\n",
    "plt.ylim(0, 250)\n",
    "plt.xlabel('Day')\n",
    "plt.ylabel('Volume of inventories')\n",
    "plt.title('Regular Order Method')\n",
    "plt.show()"
   ]
  },
  {
   "cell_type": "markdown",
   "metadata": {},
   "source": [
    "#### 1回目だけ，2つのグラフを描画するためのスクリプト"
   ]
  },
  {
   "cell_type": "code",
   "execution_count": null,
   "metadata": {},
   "outputs": [],
   "source": [
    "plt.plot(x, c='k', label='OR')\n",
    "plt.plot(y, c='b', linestyle='dashed', label='PO')\n",
    "\n",
    "plt.ylim(0, 250)\n",
    "plt.xlabel('Day')\n",
    "plt.ylabel('Volume of inventories')\n",
    "plt.legend()\n",
    "plt.title('Order Point(line) and Periodical Ordering(dashed)')\n",
    "\n",
    "#plt.savefig('fig_MM_Inventory_Comparison.png', bbox_inches='tight')\n",
    "plt.show()"
   ]
  },
  {
   "cell_type": "code",
   "execution_count": null,
   "metadata": {},
   "outputs": [],
   "source": []
  }
 ],
 "metadata": {
  "kernelspec": {
   "display_name": "Python 3",
   "language": "python",
   "name": "python3"
  },
  "language_info": {
   "codemirror_mode": {
    "name": "ipython",
    "version": 3
   },
   "file_extension": ".py",
   "mimetype": "text/x-python",
   "name": "python",
   "nbconvert_exporter": "python",
   "pygments_lexer": "ipython3",
   "version": "3.7.4"
  }
 },
 "nbformat": 4,
 "nbformat_minor": 2
}
