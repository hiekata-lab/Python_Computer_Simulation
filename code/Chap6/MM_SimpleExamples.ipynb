{
 "cells": [
  {
   "cell_type": "markdown",
   "metadata": {},
   "source": [
    "# 経営モデル，簡単な例"
   ]
  },
  {
   "cell_type": "markdown",
   "metadata": {},
   "source": [
    "#### リボ払い（revolving payment)\n",
    "この英訳は，https://support.rakuten-card.jp/faq/show/15101?category_id=6&site_domain=guest#:~:text=Revolving%20payment%20means%20that%20you,on%20the%20balance%20each%20month.\\n\"<br>\n",
    "払い方は幾つか種類がある。https://www.smbc-card.com/nyukai/magazine/knowledge/revo_3method.jsp<br>\n",
    "定額払いを例にとる\n",
    "\n",
    "<br>\n",
    "計算の評価は次を参照：<br>\n",
    "AEON CARD, ご返済シミュレーション結果：https://www.aeon.co.jp/NetBranch/cashingSimRevoInit.do\n"
   ]
  },
  {
   "cell_type": "code",
   "execution_count": null,
   "metadata": {},
   "outputs": [],
   "source": [
    "# -*- coding: utf-8 -*- \n",
    "import numpy as np\n",
    "import scipy.optimize\n",
    "\n",
    "import matplotlib.pyplot as plt\n",
    "%matplotlib inline"
   ]
  },
  {
   "cell_type": "code",
   "execution_count": null,
   "metadata": {},
   "outputs": [],
   "source": [
    "debt = 200000   # 借入金額\n",
    "inter_a = 0.15      # 金利／年　annual interest rate of 15 percent\n",
    "inter_m = inter_a/12      # 金利／月 monthly interest\n",
    "repay = 5000     # 月々の返済金 monthly repayment\n",
    "\n",
    "num = 500  # 500か月分の残高のデータの記録が可能\n",
    "zandaka   = np.zeros(num)\n",
    "risokubun = np.zeros(num)\n",
    "gankinbun = np.zeros(num)"
   ]
  },
  {
   "cell_type": "code",
   "execution_count": null,
   "metadata": {
    "scrolled": true
   },
   "outputs": [],
   "source": [
    "sum = repay   # 返済金の合計\n",
    "month = 0\n",
    "\n",
    "zandaka[month] = debt\n",
    "risokubun[month] = 0\n",
    "gankinbun[month] = 0\n",
    "\n",
    "while debt > 0: # 借入金があるならば（＞０）\n",
    "    month = month + 1\n",
    "    repay_i = np.int(debt*inter_m) # 今月の利息払い分\n",
    "    ret = repay - repay_i             # 返済金のうち元金分　（利息分を引く）\n",
    "    debt = debt - ret            # 借入残高\n",
    "\n",
    "    # グラフ用\n",
    "    zandaka[month] = debt\n",
    "    risokubun[month] = repay_i\n",
    "    gankinbun[month] = ret\n",
    "    print(\"month: %d   RisokuBun: %d  GankinBun: %d  Zandaka: %d\" % (month, repay_i, ret, debt))\n",
    "\n",
    "    if debt < repay :  #借入残高が返済金より少なくなった場合\n",
    "        inter = np.int(debt*inter_m)\n",
    "        ret = debt + inter\n",
    "        debt = 0\n",
    "        sum = sum + ret\n",
    "        month = month + 1\n",
    "        \n",
    "        # グラフ用\n",
    "        zandaka[month] = debt\n",
    "        risokubun[month] = inter\n",
    "        gankinbun[month] = repay\n",
    "#        print(\"month: %d   RisokuBun: %d  GankinBun: %d  Zandaka: %d\" % (month, repay_i, ret, debt))\n",
    "\n",
    "        break    # while文を脱出\n",
    "    sum = sum + repay\n",
    "    \n",
    "print(\"Total month : %d  Amount paid: %d\" % (month, sum))"
   ]
  },
  {
   "cell_type": "code",
   "execution_count": null,
   "metadata": {},
   "outputs": [],
   "source": [
    "fig, axs = plt.subplots(ncols=2, figsize=(14, 4))\n",
    "axs[0].plot(zandaka[1:month], c='k', label='zandaka')\n",
    "axs[0].set_xlabel('month')\n",
    "axs[0].grid()\n",
    "axs[0].legend()\n",
    "\n",
    "axs[1].plot(risokubun[1:month], c='r', label='risokubun')\n",
    "axs[1].plot(gankinbun[1:month], c='g', label='gankinbun')\n",
    "axs[1].set_xlabel('month')\n",
    "axs[1].grid()\n",
    "axs[1].legend()\n",
    "\n",
    "#plt.savefig('fig_MM_SimpleEx_Revo.png')\n",
    "plt.show()"
   ]
  },
  {
   "cell_type": "code",
   "execution_count": null,
   "metadata": {},
   "outputs": [],
   "source": []
  },
  {
   "cell_type": "markdown",
   "metadata": {},
   "source": [
    "#### 損益分岐点\n",
    "・https://ja.wikipedia.org/wiki/損益分岐点<br>\n",
    "より<br>\n",
    "横軸：販売数量，縦軸：費用，売上高<br>\n",
    "\n",
    "固定費を次の３つに分類<br>\n",
    "・能力費は、リース料、減価償却費、固定資産税、保険料などのように物的設備の導入に伴って発生する費用です。<br>\n",
    "・組織費は、人件費など人事計画に伴って発生する費用です。<br>\n",
    "・政策費は、広告宣伝費、試験研究費などで経営者の意思決定に伴って一定額が発生する費用です。<br>"
   ]
  },
  {
   "cell_type": "markdown",
   "metadata": {},
   "source": [
    "#### 非線形変動費\n",
    "・https://core.ac.uk/download/pdf/228685601.pdf<br>\n",
    "・西川，他: 非線形損益分岐点分析に関する考察, 20(1), 59/65, 日本経営システム学会誌(2003)\n"
   ]
  },
  {
   "cell_type": "markdown",
   "metadata": {},
   "source": [
    "固定費：fixed cost\n",
    "変動費：variable cost\n",
    "非線形変動費：nonlinear variable cost"
   ]
  },
  {
   "cell_type": "code",
   "execution_count": null,
   "metadata": {},
   "outputs": [],
   "source": [
    "x = np.arange(10)\n",
    "cf = np.ones(10)*10\n",
    "cv = 2*x\n",
    "cn = np.array([0, 1.5, 2.8, 2.9, 1.6, 0.8, 1.4, 2.6, 3.2, 3.4])*5\n",
    "cost = cf+cv+cn\n",
    "print(cost)"
   ]
  },
  {
   "cell_type": "markdown",
   "metadata": {},
   "source": [
    "#### 下記のparmに多項式の係数が格納されている。"
   ]
  },
  {
   "cell_type": "code",
   "execution_count": null,
   "metadata": {
    "scrolled": false
   },
   "outputs": [],
   "source": [
    "parm = np.polyfit(x, cost, 3)\n",
    "\n",
    "fig, axs = plt.subplots(ncols=2, figsize=(14,5))\n",
    "\n",
    "axs[0].plot(x, cf, c='b', marker='x', label='fixed')\n",
    "axs[0].plot(x, cv, c='g', marker='^', label='variable')\n",
    "axs[0].plot(x, cn, c='r', marker='D', label='nonlinear')\n",
    "axs[0].plot(x, cost, c='k', marker='o', label='cost')\n",
    "axs[0].set_xlabel('x')\n",
    "axs[0].set_ylim([0,50])\n",
    "axs[0].legend()\n",
    "axs[0].grid()\n",
    "\n",
    "\n",
    "axs[1].scatter(x, cost, c='k', label='cost')\n",
    "axs[1].plot(x, np.poly1d(parm)(x), c='b', label='f(x)')\n",
    "axs[1].set_xlabel('x')\n",
    "axs[1].set_ylim([0,50])\n",
    "axs[1].legend()\n",
    "axs[1].grid()\n",
    "\n",
    "#plt.savefig('fig_MM_SimpleEx_BEP_01.png')\n",
    "plt.show()"
   ]
  },
  {
   "cell_type": "code",
   "execution_count": null,
   "metadata": {},
   "outputs": [],
   "source": []
  },
  {
   "cell_type": "markdown",
   "metadata": {},
   "source": [
    "#### 損益分岐点，例1\n",
    "求めたparmに基づく多項式と，y = a xの交点（分岐点）を求める。初めに、aを適当に与える。"
   ]
  },
  {
   "cell_type": "code",
   "execution_count": null,
   "metadata": {
    "scrolled": false
   },
   "outputs": [],
   "source": [
    "a = 5.0\n",
    "\n",
    "fig = plt.subplots(figsize=(6,4))\n",
    "\n",
    "plt.scatter(x, cost, c='k', label='cost')\n",
    "plt.plot(x, np.poly1d(parm)(x), c='b', label='f(x)')\n",
    "plt.plot(x, a*x, c='g', label='sales')\n",
    "plt.xlabel('x')\n",
    "plt.ylim([0,50])\n",
    "plt.legend()\n",
    "plt.grid()\n",
    "\n",
    "#plt.savefig('fig_MM_SimpleEx_BEP_02.png')\n",
    "plt.show()"
   ]
  },
  {
   "cell_type": "markdown",
   "metadata": {},
   "source": [
    "### 交点を求める。"
   ]
  },
  {
   "cell_type": "markdown",
   "metadata": {},
   "source": [
    "#### 多項式の根，fsolve\n",
    "https://docs.scipy.org/doc/scipy/reference/generated/scipy.optimize.fsolve.html<br>"
   ]
  },
  {
   "cell_type": "code",
   "execution_count": null,
   "metadata": {},
   "outputs": [],
   "source": [
    "def fun1(x):\n",
    "    return np.poly1d(parm)(x) - a*x\n",
    "\n",
    "root = scipy.optimize.fsolve(fun1, x0=[6, 8])\n",
    "print(root)"
   ]
  },
  {
   "cell_type": "markdown",
   "metadata": {},
   "source": [
    "### 接点を求める。"
   ]
  },
  {
   "cell_type": "markdown",
   "metadata": {},
   "source": [
    "#### 連立非線形方程式，root\n",
    "https://docs.scipy.org/doc/scipy/reference/generated/scipy.optimize.root.html<br>\n",
    "default method is \"hybr\", 修正 Powell Hybrid 法，ヤコビ行列を作成して用いている。<br>\n",
    "これはMINPACK（非線形方程式のライブラリ）を用いている。<br>"
   ]
  },
  {
   "cell_type": "code",
   "execution_count": null,
   "metadata": {},
   "outputs": [],
   "source": [
    "def fun2(x):\n",
    "    f = [  parm[0]*x[0]**3 + parm[1]*x[0]**2 + parm[2]*x[0] + parm[3] - x[1]*x[0],\n",
    "         3*parm[0]*x[0]**2 + 2*parm[1]*x[0] + parm[2] - x[1]]\n",
    "    return f\n",
    "result = scipy.optimize.root(fun2, x0=[7, 5])\n",
    "print(result)\n",
    "print(result.x)"
   ]
  },
  {
   "cell_type": "code",
   "execution_count": null,
   "metadata": {
    "scrolled": true
   },
   "outputs": [],
   "source": [
    "fig = plt.subplots(figsize=(6,4))\n",
    "\n",
    "plt.scatter(x, cost, c='k', label='cost')\n",
    "plt.plot(x, np.poly1d(parm)(x), c='b', label='f(x)')\n",
    "plt.plot(x, result.x[1]*x, c='g', label='sales')\n",
    "plt.xlabel('x')\n",
    "plt.grid()\n",
    "plt.legend()\n",
    "plt.ylim([0,50])\n",
    "\n",
    "\n",
    "#plt.savefig('fig_MM_SimpleEx_BEP_03.png')\n",
    "plt.show()"
   ]
  },
  {
   "cell_type": "code",
   "execution_count": null,
   "metadata": {},
   "outputs": [],
   "source": []
  }
 ],
 "metadata": {
  "kernelspec": {
   "display_name": "Python 3",
   "language": "python",
   "name": "python3"
  },
  "language_info": {
   "codemirror_mode": {
    "name": "ipython",
    "version": 3
   },
   "file_extension": ".py",
   "mimetype": "text/x-python",
   "name": "python",
   "nbconvert_exporter": "python",
   "pygments_lexer": "ipython3",
   "version": "3.7.4"
  }
 },
 "nbformat": 4,
 "nbformat_minor": 2
}
