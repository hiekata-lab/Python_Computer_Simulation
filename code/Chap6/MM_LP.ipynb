{
 "cells": [
  {
   "cell_type": "markdown",
   "metadata": {},
   "source": [
    "# LP　( Linear Programming)"
   ]
  },
  {
   "cell_type": "code",
   "execution_count": null,
   "metadata": {},
   "outputs": [],
   "source": [
    "# -*- coding: utf-8 -*- \n",
    "import numpy as np\n",
    "import pulp\n",
    "\n",
    "import matplotlib.pyplot as plt\n",
    "%matplotlib inline"
   ]
  },
  {
   "cell_type": "markdown",
   "metadata": {},
   "source": [
    "#### 例題\n",
    "目的関数\n",
    "$$\n",
    "\\arg \\,\\,\\min \\limits_{x,y} \\,f\\left( {x,y} \\right) =  - 4x + y\n",
    "$$\n",
    "\n",
    "制約条件\n",
    "$$\n",
    "\\mathrm{subject}\\,\\mathrm{to}\\,\\,\\left\\{ {\\begin{array}{*{20}{c}}\n",
    "\t{0 \\le x \\le 3}\\\\\n",
    "\t{0 \\le y \\le 1}\\\\\n",
    "\t{x + y \\le 2}\n",
    "\t\\end{array}} \\right.\n",
    "$$"
   ]
  },
  {
   "cell_type": "code",
   "execution_count": null,
   "metadata": {},
   "outputs": [],
   "source": [
    "prob = pulp.LpProblem(\"myProblem\", pulp.LpMinimize)\n",
    "x = pulp.LpVariable(\"x\", 0, 3, cat=\"Continuous\")\n",
    "y = pulp.LpVariable(\"y\", 0, 1, cat=\"Continuous\")\n",
    "prob += x + y <= 2\n",
    "prob += -4*x + y\n",
    "#status = prob.solve(GLPK(msg = 0))\n",
    "status = prob.solve()\n",
    "print(pulp.LpStatus[status]) #Display the status of the solution\n",
    "print(prob)\n",
    "#print pulp.value(x)\n",
    "#print pulp.value(y)\n",
    "print(\"x=\", x.value())\n",
    "print(\"y=\", y.value())\n",
    "print(\"f(x,y)= %f\" % prob.objective.value())"
   ]
  },
  {
   "cell_type": "code",
   "execution_count": null,
   "metadata": {},
   "outputs": [],
   "source": []
  },
  {
   "cell_type": "markdown",
   "metadata": {},
   "source": [
    "#### 例1　ミックスジュース"
   ]
  },
  {
   "cell_type": "code",
   "execution_count": null,
   "metadata": {},
   "outputs": [],
   "source": [
    "prob = pulp.LpProblem(\"Juice\", pulp.LpMaximize)\n",
    "x1 = pulp.LpVariable(\"x1\", 0, None, cat=\"Integer\")\n",
    "x2 = pulp.LpVariable(\"x2\", 0, None, cat=\"Integer\")\n",
    "x3 = pulp.LpVariable(\"x3\", 0, None, cat=\"Integer\")\n",
    "\n",
    "prob += 40*x1 + 5*x2 + 20*x3 <= 2000\n",
    "prob += 30*x1 + 50*x2 + 10*x3 <= 3000\n",
    "prob += 5*x1 + 10*x2 + 50*x3 <= 1000\n",
    "prob += 300*x1 + 280*x2 + 420*x3\n",
    "\n",
    "status = prob.solve()\n",
    "print(pulp.LpStatus[status])\n",
    "print(\"x1=\", x1.value())\n",
    "print(\"x2=\", x2.value())\n",
    "print(\"x3=\", x3.value())\n",
    "print(\"f(x)= %f\" % (pulp.value(prob.objective)))"
   ]
  },
  {
   "cell_type": "markdown",
   "metadata": {},
   "source": [
    "#### 例2：輸送問題"
   ]
  },
  {
   "cell_type": "code",
   "execution_count": null,
   "metadata": {},
   "outputs": [],
   "source": [
    "prob = pulp.LpProblem(\"Transpose\", pulp.LpMinimize)\n",
    "x1 = pulp.LpVariable(\"X1\", 0, None, cat=\"Integer\")\n",
    "x2 = pulp.LpVariable(\"X2\", 0, None, cat=\"Integer\")\n",
    "x3 = pulp.LpVariable(\"X3\", 0, None, cat=\"Integer\")\n",
    "x4 = pulp.LpVariable(\"X4\", 0, None, cat=\"Integer\")\n",
    "x5 = pulp.LpVariable(\"X5\", 0, None, cat=\"Integer\")\n",
    "x6 = pulp.LpVariable(\"X6\", 0, None, cat=\"Integer\")\n",
    "\n",
    "prob += x1 + x4 == 18\n",
    "prob += x2 + x5 == 14\n",
    "prob += x3 + x6 == 10\n",
    "prob += x1 + x2 + x2 <= 20\n",
    "prob += x4 + x5 + x6 <= 22\n",
    "prob += 125*x1 + 160*x2 + 175*x3 + 145*x4 + 92*x5 + 125*x6\n",
    "\n",
    "status = prob.solve()\n",
    "print(pulp.LpStatus[status])\n",
    "print(\"x1=\", x1.value())\n",
    "print(\"x2=\", x2.value())\n",
    "print(\"x3=\", x3.value())\n",
    "print(\"x4=\", x4.value())\n",
    "print(\"x5=\", x5.value())\n",
    "print(\"x6=\", x6.value())\n",
    "print(\"f(x)= %f\" % (pulp.value(prob.objective)))\n"
   ]
  }
 ],
 "metadata": {
  "kernelspec": {
   "display_name": "Python 3",
   "language": "python",
   "name": "python3"
  },
  "language_info": {
   "codemirror_mode": {
    "name": "ipython",
    "version": 3
   },
   "file_extension": ".py",
   "mimetype": "text/x-python",
   "name": "python",
   "nbconvert_exporter": "python",
   "pygments_lexer": "ipython3",
   "version": "3.7.4"
  }
 },
 "nbformat": 4,
 "nbformat_minor": 2
}
