{
 "cells": [
  {
   "cell_type": "markdown",
   "metadata": {},
   "source": [
    "# 待ち行列 M/M/1\n",
    "Wikipedia M/M/1 queue:https://en.wikipedia.org/wiki/M/M/1_queue\n",
    "SimPy: https://simpy.readthedocs.io/"
   ]
  },
  {
   "cell_type": "code",
   "execution_count": null,
   "metadata": {},
   "outputs": [],
   "source": [
    "# -*- coding: utf-8 -*-\n",
    "import numpy as np\n",
    "import simpy\n",
    "import random\n",
    "\n",
    "import matplotlib.pyplot as plt\n",
    "%matplotlib inline"
   ]
  },
  {
   "cell_type": "markdown",
   "metadata": {},
   "source": [
    "### 評価指標\n",
    "$\\lambda$: 平均到着人数(mean rate of arrival)[人/時間]<br>\n",
    "$1/\\lambda$: 平均到着時間間隔[時間/人]<br>\n",
    "$\\mu$: 平均サービス件数(mean rate of service)[人/時間]<br>\n",
    "$1/\\mu$: 平均サービス時間[時間/人]<br>\n",
    "$\\rho$: 利用率, $\\rho > 1(\\lambda > \\mu)$の場合，待ち行列は収束しない。\n",
    "$$\n",
    "\\rho = \\frac{\\lambda}{\\mu}\n",
    "$$\n",
    "$L$:平均系内客数(mean number of customers in the system)\n",
    "$$\n",
    "L = \\frac{\\rho}{1-\\rho}\n",
    "$$\n",
    "$L_q$:平均待ち行列客数(mean number of customers in the queue)\n",
    "$$\n",
    "L_q = \\rho L\n",
    "$$\n",
    "$W$:平均系内滞在時間(mean waiting time in the system)\n",
    "$$\n",
    "W = \\frac{L}{\\lambda} = \\frac{\\rho}{\\lambda(1-\\rho)} = \\frac{1}{\\mu - \\lambda}\n",
    "$$\n",
    "$W_q$:平均待ち時間(mean waiting time in the queue)\n",
    "$$\n",
    "W_q = \\frac{1}{\\mu} L\n",
    "$$\n",
    "このシミュレーションでは，$L=L_q$, $W=W_q$と考える。\n"
   ]
  },
  {
   "cell_type": "code",
   "execution_count": null,
   "metadata": {},
   "outputs": [],
   "source": [
    "#Lambda, Mu = 0.8 , 1.0\n",
    "Lambda, Mu = 1/8, 1/4\n",
    "rho = Lambda/Mu\n",
    "L = rho/(1 - rho)\n",
    "W = 1/(Mu - Lambda)\n",
    "print('rho =',rho,' L = ',L,' W = ',W)"
   ]
  },
  {
   "cell_type": "code",
   "execution_count": null,
   "metadata": {},
   "outputs": [],
   "source": [
    "# 変数や配列の設定\n",
    "numq = 0  #待ち行列人数の初期値\n",
    "flag_do = True # 関数queue()のwhileブロックで処理する間，他からの処理を重複して実行しないようにするためのフラグ\n",
    "qtime_arrv = [] #客が到着したときの時刻のキュー（queue）, FIFO方式\n",
    "\n",
    "list_stay_time = [] # 滞在時間\n",
    "list_t = [] # 客の到着時間\n",
    "list_q = [] # 待ち行列の人数"
   ]
  },
  {
   "cell_type": "code",
   "execution_count": null,
   "metadata": {},
   "outputs": [],
   "source": [
    "# 到着イベント\n",
    "def arrive():\n",
    "    global qtime_arrv, numq, flag_do\n",
    "    while True:\n",
    "        yield env.timeout(random.expovariate(Lambda)) # 平均到着時間間隔\n",
    "        envnow = env.now # 現在のシミュレーション時間を取得（単位時間のため，単位は無い）\n",
    "        qtime_arrv.append(envnow)\n",
    "        list_t.append(envnow)\n",
    "        list_q.append(numq)\n",
    "        numq += 1 # 待ち行列に追加\n",
    "        if(flag_do):\n",
    "            env.process(queue())\n",
    "\n",
    "# 待ち行列に並ぶ\n",
    "def queue():\n",
    "    global qtime_arrv, numq, flag_do, list_stay_time\n",
    "    flag_do = False\n",
    "    while len(qtime_arrv) > 0:\n",
    "        yield env.timeout(random.expovariate(Mu)) # 平均サービス時間\n",
    "        list_stay_time.append(env.now - qtime_arrv[0])\n",
    "        numq -= 1 # 待ち行列から出る\n",
    "        qtime_arrv = qtime_arrv[1:] # リストの左シフトにより出た人の到着時刻をqueueから除く, FIFO\n",
    "    flag_do = True"
   ]
  },
  {
   "cell_type": "code",
   "execution_count": null,
   "metadata": {
    "scrolled": true
   },
   "outputs": [],
   "source": [
    "# シミュレーション環境の作成\n",
    "random.seed(123)\n",
    "Stime = 10**6 # シミュレーション時間\n",
    "env = simpy.Environment()\n",
    "env.process(arrive()) # ジェネレータarrive()を配置\n",
    "env.run(until = Stime)  # 実行\n",
    "\n",
    "print('calculated L =',np.sum(list_stay_time)/Stime, ' W =',np.mean(list_stay_time))\n",
    "print('Clients:',len(list_stay_time))\n",
    "#print('Min queueing:',min(list_q), ', Max queueing:',max(list_q))\n",
    "print('Min queueing:',min(list_q), ', Max queueing:',max(list_q), ', No queuing:', list_q.count(0))\n",
    "#print('Approximate simulattion time:',len(list_t)*(1/Lambda))"
   ]
  },
  {
   "cell_type": "code",
   "execution_count": null,
   "metadata": {
    "scrolled": true
   },
   "outputs": [],
   "source": [
    "fig, axs = plt.subplots(ncols=2, figsize=(14,4))\n",
    "axs[0].scatter(list_t, list_q, marker='.', s=5, c='k')\n",
    "axs[0].set_xlabel('time')\n",
    "\n",
    "start, end = 0, 100\n",
    "axs[1].scatter(list_t[start:end], list_q[start:end], marker='.', s=10, c='k')\n",
    "axs[1].set_xlabel('time')\n",
    "\n",
    "#plt.savefig('fig_MM_Queueing_MM1_results.png', bbox_inches='tight')\n",
    "plt.show()"
   ]
  },
  {
   "cell_type": "markdown",
   "metadata": {},
   "source": [
    "#### 初めの5人の到着時刻と待ち行列人数"
   ]
  },
  {
   "cell_type": "code",
   "execution_count": null,
   "metadata": {
    "scrolled": true
   },
   "outputs": [],
   "source": [
    "print(list_t[:5])\n",
    "print(list_q[:5])"
   ]
  },
  {
   "cell_type": "markdown",
   "metadata": {},
   "source": [
    "#### 最後の5人の到着時刻と待ち行列人数"
   ]
  },
  {
   "cell_type": "code",
   "execution_count": null,
   "metadata": {},
   "outputs": [],
   "source": [
    "print(list_t[-5:])\n",
    "print(list_q[-5:])"
   ]
  }
 ],
 "metadata": {
  "kernelspec": {
   "display_name": "Python 3",
   "language": "python",
   "name": "python3"
  },
  "language_info": {
   "codemirror_mode": {
    "name": "ipython",
    "version": 3
   },
   "file_extension": ".py",
   "mimetype": "text/x-python",
   "name": "python",
   "nbconvert_exporter": "python",
   "pygments_lexer": "ipython3",
   "version": "3.7.4"
  }
 },
 "nbformat": 4,
 "nbformat_minor": 2
}
