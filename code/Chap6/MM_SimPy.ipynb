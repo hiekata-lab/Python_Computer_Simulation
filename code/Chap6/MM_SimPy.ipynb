{
 "cells": [
  {
   "cell_type": "markdown",
   "metadata": {},
   "source": [
    "# SimPy\n",
    "SimPy HP:https://simpy.readthedocs.io/<br>\n",
    "env.timeout: https://simpy.readthedocs.io/en/latest/api_reference/simpy.events.html<br>\n",
    "env.nou: https://simpy.readthedocs.io/en/latest/api_reference/simpy.core.html<br>\n",
    "\n",
    "https://stefan.sofa-rockers.org/downloads/simpy-ep14.pdf<br>\n",
    "https://en.wikipedia.org/wiki/SimPy"
   ]
  },
  {
   "cell_type": "markdown",
   "metadata": {},
   "source": [
    "#### イベント駆動型プログラムとは何かを知るスクリプト，上記のWikipedia参照"
   ]
  },
  {
   "cell_type": "code",
   "execution_count": null,
   "metadata": {},
   "outputs": [],
   "source": [
    "# -*- coding: utf-8 -*-\n",
    "import simpy"
   ]
  },
  {
   "cell_type": "code",
   "execution_count": null,
   "metadata": {},
   "outputs": [],
   "source": [
    "def clock(env, name, tick): \n",
    "    while True:\n",
    "        print(name, env.now)\n",
    "        yield env.timeout(tick)"
   ]
  },
  {
   "cell_type": "code",
   "execution_count": null,
   "metadata": {},
   "outputs": [],
   "source": [
    "env = simpy.Environment()\n",
    "env.process(clock(env, 'fast', 0.5)) \n",
    "env.process(clock(env, 'slow', 1)) "
   ]
  },
  {
   "cell_type": "code",
   "execution_count": null,
   "metadata": {},
   "outputs": [],
   "source": [
    " env.run(until=2) "
   ]
  },
  {
   "cell_type": "markdown",
   "metadata": {},
   "source": [
    "### リストを用いたFIFO"
   ]
  },
  {
   "cell_type": "code",
   "execution_count": null,
   "metadata": {},
   "outputs": [],
   "source": [
    "q=[0.2, 0.3, 0.5, 0.8]\n",
    "q.append(1.1)\n",
    "q = q[1:]\n",
    "q"
   ]
  },
  {
   "cell_type": "code",
   "execution_count": null,
   "metadata": {},
   "outputs": [],
   "source": []
  }
 ],
 "metadata": {
  "kernelspec": {
   "display_name": "Python 3",
   "language": "python",
   "name": "python3"
  },
  "language_info": {
   "codemirror_mode": {
    "name": "ipython",
    "version": 3
   },
   "file_extension": ".py",
   "mimetype": "text/x-python",
   "name": "python",
   "nbconvert_exporter": "python",
   "pygments_lexer": "ipython3",
   "version": "3.7.4"
  }
 },
 "nbformat": 4,
 "nbformat_minor": 2
}
