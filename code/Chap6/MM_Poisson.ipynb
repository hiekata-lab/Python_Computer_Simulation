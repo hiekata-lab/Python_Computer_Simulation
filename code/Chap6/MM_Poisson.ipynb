{
 "cells": [
  {
   "cell_type": "markdown",
   "metadata": {},
   "source": [
    "# ポアソン到着モデルのシミュレーション\n",
    "ポアソン分布, $t=1$とおく\n",
    "$$\n",
    "f(k; \\lambda) = \\exp (-\\lambda) \\frac{(\\lambda )^k}{k !}\n",
    "$$\n",
    "指数分布\n",
    "$$\n",
    "f(x; \\lambda) = \\lambda \\exp(-\\lambda x)\\, , \\,\\, x \\ge 0 \\\\\n",
    "E[x] = 1/\\lambda\n",
    "$$\n",
    "scipy.stats.poisson<br>\n",
    "https://docs.scipy.org/doc/scipy/reference/generated/scipy.stats.poisson.html<br>\n",
    "scipy.stats.expon<br>\n",
    "https://docs.scipy.org/doc/scipy/reference/generated/scipy.stats.expon.html<br>\n",
    "stats.expon(scale, loc)の意味，ディフォルト loc=0, scale=1\n",
    "$$\n",
    "y = \\frac{(x-\\mathrm{loc})}{\\mathrm{scale}}\n",
    "$$"
   ]
  },
  {
   "cell_type": "code",
   "execution_count": null,
   "metadata": {},
   "outputs": [],
   "source": [
    "# -*- coding: utf-8 -*-\n",
    "import numpy as np\n",
    "import scipy.stats as stats\n",
    "\n",
    "import matplotlib.pyplot as plt\n",
    "%matplotlib inline"
   ]
  },
  {
   "cell_type": "markdown",
   "metadata": {},
   "source": [
    "#### 指数分布のプロット\n",
    "\n",
    "$\\lambda$の値による場合分け<br>"
   ]
  },
  {
   "cell_type": "code",
   "execution_count": null,
   "metadata": {},
   "outputs": [],
   "source": [
    "np.random.seed(123)\n",
    "lamb = [1, 2, 4]\n",
    "num = 1000\n",
    "x = np.linspace(0.01, 10.0, num)\n",
    "\n",
    "fig, axs = plt.subplots(ncols=3, figsize=(14,4))\n",
    "\n",
    "for i in range(3):\n",
    "    y_pdf = stats.expon(scale=1/lamb[i]).pdf(x)\n",
    "    y_rvs = stats.expon(scale=1/lamb[i]).rvs(size=num)\n",
    "    axs[i].plot(x,y_pdf, c='k', label='pdf')\n",
    "    axs[i].hist(y_rvs, bins=50, density=True, label='rvs', color='c', alpha=0.3)\n",
    "    print(y_rvs.max(), y_rvs.min(), y_rvs.mean())\n",
    "    axs[i].set_xlabel('x (lamb='+str(lamb[i])+')')\n",
    "    axs[i].set_xlim(0,5)\n",
    "    axs[i].grid()\n",
    "    axs[i].legend()\n",
    "\n",
    "#plt.savefig('fig_MM_QueueingExponent.png', bbox_inches='tight')\n",
    "plt.show()"
   ]
  },
  {
   "cell_type": "code",
   "execution_count": null,
   "metadata": {},
   "outputs": [],
   "source": [
    "Num=20 # the number of arrival, Num人分の到着時刻を得る"
   ]
  },
  {
   "cell_type": "code",
   "execution_count": null,
   "metadata": {},
   "outputs": [],
   "source": [
    "np.random.seed(123)\n",
    "lamb = 2\n",
    "\n",
    "t_interval = stats.expon(scale=1/lamb).rvs(size=Num) # 到着時間の間隔\n",
    "t_arrival  = np.zeros(Num) # 到着時間\n",
    "\n",
    "t_arrival[0] = t_interval[0]\n",
    "for i in range(1, len(t_interval)):\n",
    "    t_arrival[i] = t_arrival[i-1] + t_interval[i]\n",
    "\n",
    "fig = plt.subplots(figsize=(6,3))\n",
    "plt.vlines(t_arrival, ymin=0, ymax=1)\n",
    "plt.xlim(0,10)\n",
    "plt.xlabel('time[k]')\n",
    "\n",
    "#plt.savefig('fig_MM_QueueingExponentArrival.png', bbox_inches='tight')\n",
    "plt.show()"
   ]
  },
  {
   "cell_type": "code",
   "execution_count": null,
   "metadata": {},
   "outputs": [],
   "source": [
    "np.max(t_arrival)"
   ]
  },
  {
   "cell_type": "code",
   "execution_count": null,
   "metadata": {
    "scrolled": true
   },
   "outputs": [],
   "source": [
    "np.random.seed(123)\n",
    "lamb = 3\n",
    "\n",
    "t_interval = stats.expon(scale=1/lamb).rvs(size=Num) # 到着時間の間隔\n",
    "t_arrival  = np.zeros(Num) # 到着時間\n",
    "\n",
    "t_arrival[0] = t_interval[0]\n",
    "for i in range(1, len(t_interval)):\n",
    "    t_arrival[i] = t_arrival[i-1] + t_interval[i]\n",
    "\n",
    "fig = plt.subplots(figsize=(6,3))\n",
    "plt.vlines(t_arrival, ymin=0, ymax=1)\n",
    "plt.xlim(0,10)\n",
    "plt.xlabel('time[k]')\n",
    "\n",
    "#plt.savefig('fig_MM_QueueingExponentArrival.png', bbox_inches='tight')\n",
    "plt.show()"
   ]
  },
  {
   "cell_type": "code",
   "execution_count": null,
   "metadata": {},
   "outputs": [],
   "source": []
  },
  {
   "cell_type": "code",
   "execution_count": null,
   "metadata": {},
   "outputs": [],
   "source": []
  }
 ],
 "metadata": {
  "kernelspec": {
   "display_name": "Python 3",
   "language": "python",
   "name": "python3"
  },
  "language_info": {
   "codemirror_mode": {
    "name": "ipython",
    "version": 3
   },
   "file_extension": ".py",
   "mimetype": "text/x-python",
   "name": "python",
   "nbconvert_exporter": "python",
   "pygments_lexer": "ipython3",
   "version": "3.7.4"
  }
 },
 "nbformat": 4,
 "nbformat_minor": 2
}
