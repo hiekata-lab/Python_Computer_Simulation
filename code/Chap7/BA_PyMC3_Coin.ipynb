{
 "cells": [
  {
   "cell_type": "markdown",
   "metadata": {},
   "source": [
    "# PyMC3，コイン投げ\n",
    "$\\theta$: 表のでる確率，$N$:試行数，$k$:表の出た回数，$y$:ベルヌーイ試行したときの結果（例：y=(0,1,1,0,1)）。<br>\n",
    "尤度関数は次である。<br>\n",
    "$$\n",
    " f\\left( {Y = y | \\theta } \\right)   =  {}_N C_k    \\, \\theta^k  \\left( {1 - \\theta} \\right)^{N - k}\n",
    "$$"
   ]
  },
  {
   "cell_type": "code",
   "execution_count": null,
   "metadata": {},
   "outputs": [],
   "source": [
    "# -*- coding: utf-8 -*-\n",
    "import numpy as np\n",
    "import scipy.stats as stats\n",
    "import pymc3 as pm\n",
    "import matplotlib.pyplot as plt\n",
    "\n",
    "%matplotlib inline"
   ]
  },
  {
   "cell_type": "code",
   "execution_count": null,
   "metadata": {},
   "outputs": [],
   "source": [
    "np.random.seed(123) # 再現性を得るため，数字123は任意\n",
    "num = 100 # 試行数\n",
    "theta_real = 0.35   # 表の出る確率\n",
    "y = stats.bernoulli.rvs(p=theta_real, size=num)\n",
    "total_front = y.sum() #　表の出た回数"
   ]
  },
  {
   "cell_type": "markdown",
   "metadata": {},
   "source": [
    "#### 確率モデルの作成\n",
    "with pm.Model() as model:で，\"model\"という名前でModelオブジェクトが作成される。これはコンテナとして，後続で宣言される確率変数を含む。\n",
    "参照：<br>\n",
    "・Model Specification: https://docs.pymc.io/notebooks/getting_started.html<br>\n",
    "・Model: https://docs.pymc.io/api/model.html<br>\n",
    "宣言される確率変数<br>\n",
    "$\\theta$，$y$は，それぞれ，ベータ分布，二項分布に従う確率変数と定義される。<br>\n",
    "参照：<br>\n",
    "・ベータ分布: https://docs.pymc.io/api/distributions/continuous.html<br>\n",
    "・二項分布: https://docs.pymc.io/api/distributions/discrete.html<br>\n",
    "モデルのコンパイルはwithブロックを抜けるときに行っている。"
   ]
  },
  {
   "cell_type": "code",
   "execution_count": null,
   "metadata": {},
   "outputs": [],
   "source": [
    "with pm.Model() as model:\n",
    "    theta = pm.Beta('theta', alpha=1, beta=1)\n",
    "    y_rv = pm.Binomial('y_rv', n=num, p=theta, observed=total_front) # rv:random variable\n",
    "#    y_rv = pm.Bernoulli('y_rv', p=theta, observed=data) # ベルヌーイ分布を用いる場合の使用法"
   ]
  },
  {
   "cell_type": "markdown",
   "metadata": {},
   "source": [
    "PyMC3のGraphing Models: https://docs.pymc.io/api/model_graph.html<br>\n",
    "このベースとなるgraphvizのUser Guide:https://graphviz.readthedocs.io/en/stable/manual.html<br>\n",
    "下記のg1.render()は，graphvizの文法となる。"
   ]
  },
  {
   "cell_type": "code",
   "execution_count": null,
   "metadata": {},
   "outputs": [],
   "source": [
    "tree_model = pm.model_to_graphviz(model)\n",
    "tree_model\n",
    "#木構造の図を保存したい場合には，次の行のコメントをはずす\n",
    "#tree_model.render(filename='fig_Bayes_PyMC3_Binomial_TreeModel', format='png') # DOT言語ファイルと画像ファイルの保存"
   ]
  },
  {
   "cell_type": "markdown",
   "metadata": {},
   "source": [
    "sample():https://docs.pymc.io/api/inference.html#pymc3.sampling.sample<br>\n",
    "draws:ステップ数<br>\n",
    "start:確率変数として定義したパラメータの初期値を設定する。MAPは設定法の1つ。設定しない場合には，自動的にランダムな値が設定される。<br>\n",
    "step:MCMCにおけるステップ法を設定する。設定しない場合には，自動的に適切な方法が設定される。<br>\n",
    "cores:CPUコア数，この数だけMCMCを並列的に実行する。"
   ]
  },
  {
   "cell_type": "code",
   "execution_count": null,
   "metadata": {
    "scrolled": true
   },
   "outputs": [],
   "source": [
    "with model:\n",
    "    start = pm.find_MAP()\n",
    "    step = pm.Metropolis() #離散型変数\n",
    "    trace = pm.sample(draws=1000, tune=100, start=start, step=step, cores=4)"
   ]
  },
  {
   "cell_type": "markdown",
   "metadata": {},
   "source": [
    "pymc3.plots.traceplot: https://docs.pymc.io/api/plots.html"
   ]
  },
  {
   "cell_type": "code",
   "execution_count": null,
   "metadata": {},
   "outputs": [],
   "source": [
    "pm.traceplot(trace, figsize=(10,4), legend=True)\n",
    "#plt.savefig('fig_Bayes_PyMC3_ex1.png', bbox_inches='tight') #xlabeの欠落を防ぐ方法2\n",
    "plt.show()"
   ]
  },
  {
   "cell_type": "code",
   "execution_count": null,
   "metadata": {
    "scrolled": true
   },
   "outputs": [],
   "source": [
    "print(trace['theta'])\n",
    "len(trace['theta'])"
   ]
  },
  {
   "cell_type": "markdown",
   "metadata": {},
   "source": [
    "https://docs.pymc.io/api/plots.html"
   ]
  },
  {
   "cell_type": "code",
   "execution_count": null,
   "metadata": {},
   "outputs": [],
   "source": [
    "#pm.plot_posterior(trace, ref_val=0.3)\n",
    "pm.plot_posterior(trace)\n",
    "#plt.savefig('fig_Bayes_PyMC3_ex1_posterior.png', bbox_inches='tight') #xlabeの欠落を防ぐ方法2"
   ]
  },
  {
   "cell_type": "markdown",
   "metadata": {},
   "source": [
    "HPD:https://docs.pymc.io/api/stats.html"
   ]
  },
  {
   "cell_type": "code",
   "execution_count": null,
   "metadata": {},
   "outputs": [],
   "source": [
    "pm.summary(trace)"
   ]
  },
  {
   "cell_type": "code",
   "execution_count": null,
   "metadata": {},
   "outputs": [],
   "source": []
  }
 ],
 "metadata": {
  "kernelspec": {
   "display_name": "Python 3",
   "language": "python",
   "name": "python3"
  },
  "language_info": {
   "codemirror_mode": {
    "name": "ipython",
    "version": 3
   },
   "file_extension": ".py",
   "mimetype": "text/x-python",
   "name": "python",
   "nbconvert_exporter": "python",
   "pygments_lexer": "ipython3",
   "version": "3.7.4"
  }
 },
 "nbformat": 4,
 "nbformat_minor": 4
}
