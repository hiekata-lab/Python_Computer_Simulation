{
 "cells": [
  {
   "cell_type": "markdown",
   "metadata": {},
   "source": [
    "# メトロポリス（Metropolis）アルゴリズム"
   ]
  },
  {
   "cell_type": "markdown",
   "metadata": {},
   "source": [
    "#### 目標分布，標準正規分布\n",
    "$$\n",
    "f(x) = \\frac{1}{\\sqrt{2 \\pi}} \\exp \\left( -\\frac{x^2}{2} \\right)\n",
    "$$"
   ]
  },
  {
   "cell_type": "code",
   "execution_count": null,
   "metadata": {},
   "outputs": [],
   "source": [
    "# -*- coding: utf-8 -*-\n",
    "import numpy as np\n",
    "import math\n",
    "import scipy.stats as stats\n",
    "import matplotlib.pyplot as plt\n",
    "%matplotlib inline"
   ]
  },
  {
   "cell_type": "code",
   "execution_count": null,
   "metadata": {},
   "outputs": [],
   "source": [
    "# 目標分布に比例する確率分布\n",
    "def f(x): \n",
    "    return 1/math.sqrt(2*math.pi)*math.exp(-x**2/2)"
   ]
  },
  {
   "cell_type": "code",
   "execution_count": null,
   "metadata": {},
   "outputs": [],
   "source": [
    "np.random.seed(123)\n",
    "ndata = 1000 # the number of data\n",
    "nskip = 10 # skip\n",
    "loopmax = ndata*nskip\n",
    "theta = -10 # 初期値\n",
    "sdata = np.zeros(ndata) # サンプルデータ格納用の配列\n",
    "cnt = 0  # カウンタ\n",
    "for k in range(loopmax):\n",
    "    # Proposal distribution\n",
    "    xi = stats.uniform.rvs(loc=-1, scale=2, size=1) # 提案分布 範囲[loc, loc+scale]\n",
    "    theta_new = theta + xi\n",
    "    alp = min(1, f(theta_new)/f(theta))\n",
    "    r = np.random.rand()\n",
    "    if r > alp:\n",
    "        theta_new = theta\n",
    "    theta = theta_new\n",
    "    if k%nskip==0:\n",
    "        sdata[cnt] = theta\n",
    "        cnt += 1"
   ]
  },
  {
   "cell_type": "code",
   "execution_count": null,
   "metadata": {},
   "outputs": [],
   "source": [
    "plt.plot(sdata[0:500], color='k')\n",
    "plt.title(\"Chain\")\n",
    "plt.xlabel('k')\n",
    "plt.ylabel('Posterior')\n",
    "#plt.savefig('fig_Bayes_Metropolis01.png')"
   ]
  },
  {
   "cell_type": "markdown",
   "metadata": {},
   "source": [
    "#### Pythonとカーネル密度推定(KDE)について調べたまとめ\n",
    "KDE関数を提供しているのは，SciPy, seaborn, pandas, statsmodels, sklearnなど幾つかある。<br>\n",
    "https://vaaaaaanquish.hatenablog.com/entry/2017/10/29/181949<br>\n",
    "https://docs.scipy.org/doc/scipy/reference/generated/scipy.stats.gaussian_kde.html<br>\n",
    "https://seaborn.pydata.org/generated/seaborn.kdeplot.html<br>\n",
    "https://ja.wikipedia.org/wiki/カーネル密度推定\n"
   ]
  },
  {
   "cell_type": "code",
   "execution_count": null,
   "metadata": {},
   "outputs": [],
   "source": [
    "kde = stats.gaussian_kde(sdata)"
   ]
  },
  {
   "cell_type": "markdown",
   "metadata": {},
   "source": [
    "ヒストグラムでdensity=Trueは，確率密度関数に合せて全面積を1に正規化する。<br>\n",
    "https://matplotlib.org/3.2.1/api/_as_gen/matplotlib.pyplot.hist.html"
   ]
  },
  {
   "cell_type": "code",
   "execution_count": null,
   "metadata": {},
   "outputs": [],
   "source": [
    "X = np.arange(-5.0, 5.0, 0.1)\n",
    "Y = stats.norm.pdf(X, 0.0, 1.0)\n",
    "plt.plot(X, Y, linewidth=2, color='k', label='target')\n",
    "plt.plot(X, kde(X), linestyle='dashed', color='b', label='kde')\n",
    "plt.hist(sdata, bins=50, density=True, color=(0.6, 0.6, 0.6), label='sdata')\n",
    "plt.title(\"Metropolis\")\n",
    "plt.xlabel('theta')\n",
    "plt.ylabel('f(theta)')\n",
    "plt.legend()\n",
    "plt.grid(True)\n",
    "#plt.savefig('fig_Bayes_Metropolis02.png')\n",
    "plt.show()"
   ]
  },
  {
   "cell_type": "code",
   "execution_count": null,
   "metadata": {},
   "outputs": [],
   "source": []
  }
 ],
 "metadata": {
  "kernelspec": {
   "display_name": "Python 3",
   "language": "python",
   "name": "python3"
  },
  "language_info": {
   "codemirror_mode": {
    "name": "ipython",
    "version": 3
   },
   "file_extension": ".py",
   "mimetype": "text/x-python",
   "name": "python",
   "nbconvert_exporter": "python",
   "pygments_lexer": "ipython3",
   "version": "3.7.4"
  }
 },
 "nbformat": 4,
 "nbformat_minor": 4
}
