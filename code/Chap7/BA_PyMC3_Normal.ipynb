{
 "cells": [
  {
   "cell_type": "markdown",
   "metadata": {},
   "source": [
    "# PyMC3、正規分布の推定"
   ]
  },
  {
   "cell_type": "code",
   "execution_count": null,
   "metadata": {},
   "outputs": [],
   "source": [
    "# -*- coding: utf-8 -*-\n",
    "import numpy as np\n",
    "import pymc3 as pm\n",
    "import scipy.stats as stats\n",
    "import matplotlib.pyplot as plt\n",
    "\n",
    "%matplotlib inline"
   ]
  },
  {
   "cell_type": "markdown",
   "metadata": {},
   "source": [
    "#### 観測データは2つの正規分布の連結とする\n",
    "この事実は，まだ，知らないものとする"
   ]
  },
  {
   "cell_type": "code",
   "execution_count": null,
   "metadata": {},
   "outputs": [],
   "source": [
    "np.random.seed(123)\n",
    "n1, n2 = 100, 100\n",
    "y1 = np.random.normal(loc=5, scale=10, size=n1)\n",
    "y2 = np.random.normal(loc=8, scale= 6, size=n2)\n",
    "y = np.concatenate([y1, y2])"
   ]
  },
  {
   "cell_type": "code",
   "execution_count": null,
   "metadata": {
    "scrolled": true
   },
   "outputs": [],
   "source": [
    "print(y1.min(), y2.min(), y.min())\n",
    "print(y1.max(), y2.max(), y.max())"
   ]
  },
  {
   "cell_type": "code",
   "execution_count": null,
   "metadata": {},
   "outputs": [],
   "source": [
    "bins=20\n",
    "range = (-30, 30)\n",
    "plt.hist(y1, bins=bins, range=range, histtype='step')\n",
    "plt.hist(y2, bins=bins, range=range, histtype='step', alpha=0.5)"
   ]
  },
  {
   "cell_type": "markdown",
   "metadata": {},
   "source": [
    "#### 観測データの情報"
   ]
  },
  {
   "cell_type": "code",
   "execution_count": null,
   "metadata": {},
   "outputs": [],
   "source": [
    "num = len(y)\n",
    "print(num, y.mean(), y.std())"
   ]
  },
  {
   "cell_type": "code",
   "execution_count": null,
   "metadata": {},
   "outputs": [],
   "source": [
    "fig, axs = plt.subplots(nrows=1, ncols=2, figsize=(12,4))\n",
    "axs[0].plot(y)\n",
    "axs[1].hist(y, bins=30, range=(-30, 30))\n",
    "\n",
    "axs[0].set_xlabel('k')\n",
    "axs[0].set_ylabel('y')\n",
    "axs[1].set_xlabel('y')\n",
    "axs[1].set_ylabel('frequency')\n",
    "\n",
    "#plt.savefig('fig_Bayes_PyMC3_Normal_01.png', bbox_inches='tight') #xlabeの欠落を防ぐ方法2"
   ]
  },
  {
   "cell_type": "code",
   "execution_count": null,
   "metadata": {},
   "outputs": [],
   "source": [
    "with pm.Model() as model_norm:\n",
    "    mu = pm.Uniform('mu', 2, 10)\n",
    "    sigma = pm.HalfNormal('sigma', sd=20)\n",
    "    y_rv = pm.Normal('y_rv', mu=mu, sd=sigma, observed=y)"
   ]
  },
  {
   "cell_type": "code",
   "execution_count": null,
   "metadata": {},
   "outputs": [],
   "source": [
    "tree_model = pm.model_to_graphviz(model_norm)\n",
    "tree_model\n",
    "#木構造の図をPNGで保存したい場合には，次の行のコメントをはずす\n",
    "#tree_model.render(filename='fig_Bayes_PyMC3_Normal_TreeModel', format='png') # DOT言語ファイルと画像ファイルの保存"
   ]
  },
  {
   "cell_type": "code",
   "execution_count": null,
   "metadata": {},
   "outputs": [],
   "source": [
    "burnin = 100\n",
    "with model_norm:\n",
    "#    start = pm.find_MAP()\n",
    "#    step = pm.Metropolis() #離散型変数\n",
    "    trace = pm.sample(draws=1000+burnin, tune=100, cores=2)"
   ]
  },
  {
   "cell_type": "code",
   "execution_count": null,
   "metadata": {
    "scrolled": true
   },
   "outputs": [],
   "source": [
    "trace_burned = trace[burnin:]\n",
    "pm.traceplot(trace_burned, legend=True)\n",
    "#plt.savefig('fig_Bayes_PyMC3_Normal_02.png', bbox_inches='tight') #xlabeの欠落を防ぐ方法2"
   ]
  },
  {
   "cell_type": "code",
   "execution_count": null,
   "metadata": {},
   "outputs": [],
   "source": [
    "print(len(trace_burned['mu']), len(trace_burned['sigma']))"
   ]
  },
  {
   "cell_type": "code",
   "execution_count": null,
   "metadata": {},
   "outputs": [],
   "source": [
    "pm.plot_posterior(trace_burned)\n",
    "#plt.savefig('fig_Bayes_PyMC3_Normal_posterior.png', bbox_inches='tight') #xlabeの欠落を防ぐ方法2"
   ]
  },
  {
   "cell_type": "code",
   "execution_count": null,
   "metadata": {},
   "outputs": [],
   "source": [
    "pm.summary(trace_burned)"
   ]
  },
  {
   "cell_type": "markdown",
   "metadata": {},
   "source": [
    "#### posterior predictive checks\n",
    "https://docs.pymc.io/api/inference.html<br>\n",
    "https://docs.pymc.io/notebooks/posterior_predictive.html"
   ]
  },
  {
   "cell_type": "code",
   "execution_count": null,
   "metadata": {
    "scrolled": true
   },
   "outputs": [],
   "source": [
    "ppc = pm.sample_posterior_predictive(trace_burned, samples=20, model=model_norm)"
   ]
  },
  {
   "cell_type": "code",
   "execution_count": null,
   "metadata": {},
   "outputs": [],
   "source": [
    "np.array(ppc['y_rv']).shape"
   ]
  },
  {
   "cell_type": "markdown",
   "metadata": {},
   "source": [
    "https://docs.scipy.org/doc/scipy/reference/generated/scipy.stats.gaussian_kde.html"
   ]
  },
  {
   "cell_type": "code",
   "execution_count": null,
   "metadata": {},
   "outputs": [],
   "source": [
    "Xlow, Xhigh = -30,50\n",
    "X = np.arange(Xlow, Xhigh, 0.1)\n",
    "plt.xlim(Xlow, Xhigh)\n",
    "kde = stats.gaussian_kde(y) # yのKDE\n",
    "plt.plot(X, kde(X), linestyle='solid', color='k', label='kde of data')\n",
    "\n",
    "for yy in ppc['y_rv']:\n",
    "    kde_ppt = stats.gaussian_kde(yy)\n",
    "    plt.plot(X, kde_ppt(X), color='r', alpha=0.2)\n",
    "\n",
    "plt.title(\"Posterior predictive of Normal model\")\n",
    "plt.legend()\n",
    "plt.grid(True)\n",
    "\n",
    "#plt.savefig('fig_Bayes_PyMC3_Normal_ppc.png')\n",
    "plt.show()"
   ]
  },
  {
   "cell_type": "code",
   "execution_count": null,
   "metadata": {},
   "outputs": [],
   "source": []
  }
 ],
 "metadata": {
  "kernelspec": {
   "display_name": "Python 3",
   "language": "python",
   "name": "python3"
  },
  "language_info": {
   "codemirror_mode": {
    "name": "ipython",
    "version": 3
   },
   "file_extension": ".py",
   "mimetype": "text/x-python",
   "name": "python",
   "nbconvert_exporter": "python",
   "pygments_lexer": "ipython3",
   "version": "3.7.4"
  }
 },
 "nbformat": 4,
 "nbformat_minor": 4
}
