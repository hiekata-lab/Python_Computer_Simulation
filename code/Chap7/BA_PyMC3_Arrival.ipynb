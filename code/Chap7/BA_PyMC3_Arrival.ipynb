{
 "cells": [
  {
   "cell_type": "markdown",
   "metadata": {},
   "source": [
    "# PyMC3, 到着数の変化検出\n",
    "本例題は，C.D.Pilon;Pythonで体験するベイズ推論，森北出版，1.4節にヒントを得ている。<br>\n",
    "到着数は，メールの受信数，待ち行列（銀行のATMなど），交通事故数などを表す。"
   ]
  },
  {
   "cell_type": "code",
   "execution_count": null,
   "metadata": {},
   "outputs": [],
   "source": [
    "# -*- coding: utf-8 -*-\n",
    "import numpy as np\n",
    "import pymc3 as pm\n",
    "import scipy.stats as stats\n",
    "import matplotlib.pyplot as plt\n",
    "\n",
    "%matplotlib inline"
   ]
  },
  {
   "cell_type": "markdown",
   "metadata": {},
   "source": [
    "#### 到着数の人工データの生成"
   ]
  },
  {
   "cell_type": "code",
   "execution_count": null,
   "metadata": {},
   "outputs": [],
   "source": [
    "np.random.seed(123)\n",
    "n1, n2 = 50, 50\n",
    "lambda_1_real, lambda_2_real = 10, 20\n",
    "y1 = np.random.poisson(lambda_1_real, n1)\n",
    "y2 = np.random.poisson(lambda_2_real, n2)\n",
    "y  = np.concatenate([y1, y2])"
   ]
  },
  {
   "cell_type": "markdown",
   "metadata": {},
   "source": [
    "#### 本文は，観測データ yを得たところから話が始まる"
   ]
  },
  {
   "cell_type": "code",
   "execution_count": null,
   "metadata": {},
   "outputs": [],
   "source": [
    "num = len(y)\n",
    "days = np.arange(num)"
   ]
  },
  {
   "cell_type": "code",
   "execution_count": null,
   "metadata": {
    "scrolled": true
   },
   "outputs": [],
   "source": [
    "fig = plt.subplots(figsize=(12,4))\n",
    "plt.bar(days, y)\n",
    "plt.xlabel('day (k)')\n",
    "plt.ylabel('the number of arrival y')\n",
    "#plt.savefig('fig_Bayes_PyMC3_Arrival_01.png')\n",
    "plt.show()"
   ]
  },
  {
   "cell_type": "markdown",
   "metadata": {},
   "source": [
    "#### 確率モデルの作成\n",
    "Continuous<br>\n",
    "pm.Exponential(): https://docs.pymc.io/api/distributions/continuous.html<br>\n",
    "Discrete<br>\n",
    "pm.DiscreteUniform(), pm.Poisson():https://docs.pymc.io/api/distributions/discrete.html"
   ]
  },
  {
   "cell_type": "markdown",
   "metadata": {},
   "source": [
    "#### pymc3でのモデル関数が条件分岐を含む場合の書き方\n",
    "switch: https://docs.pymc.io/api/math.html<br>"
   ]
  },
  {
   "cell_type": "code",
   "execution_count": null,
   "metadata": {},
   "outputs": [],
   "source": [
    "alpha = 1/y.mean() # 初期値\n",
    "with pm.Model() as model:\n",
    "    tau  = pm.DiscreteUniform('tau', lower=0, upper=num)\n",
    "    lambda_1 = pm.Exponential('lambda_1', alpha)\n",
    "    lambda_2 = pm.Exponential('lambda_2', alpha)\n",
    "    # days<tau未満:lambda_1, >=tau以上:lambda_2を返す、lambda_を確定変数として扱う\n",
    "    lambda_ = pm.math.switch(days < tau, lambda_1, lambda_2)\n",
    "\n",
    "    y_rv = pm.Poisson('y_rv', lambda_, observed=y)"
   ]
  },
  {
   "cell_type": "code",
   "execution_count": null,
   "metadata": {},
   "outputs": [],
   "source": [
    "tree_model = pm.model_to_graphviz(model)\n",
    "tree_model\n",
    "#木構造の図をPNGで保存したい場合には，次の行のコメントをはずす\n",
    "#tree_model.render(filename='fig_Bayes_PyMC3_Arrival_tree', format='png') # DOT言語ファイルと画像ファイルの保存"
   ]
  },
  {
   "cell_type": "code",
   "execution_count": null,
   "metadata": {},
   "outputs": [],
   "source": [
    "burnin = 1000\n",
    "with model:\n",
    "    trace = pm.sample(draws=5000+burnin, tune=1000, cores=2)"
   ]
  },
  {
   "cell_type": "code",
   "execution_count": null,
   "metadata": {
    "scrolled": true
   },
   "outputs": [],
   "source": [
    "trace_burned = trace[burnin:]\n",
    "pm.traceplot(trace_burned, legend=True)\n",
    "#plt.savefig('fig_Bayes_PyMC3_Arrival_traceplot.png', bbox_inches='tight') #xlabeの欠落を防ぐ方法2"
   ]
  },
  {
   "cell_type": "code",
   "execution_count": null,
   "metadata": {
    "scrolled": true
   },
   "outputs": [],
   "source": [
    "pm.summary(trace_burned)"
   ]
  },
  {
   "cell_type": "code",
   "execution_count": null,
   "metadata": {},
   "outputs": [],
   "source": [
    "pm.plot_posterior(trace_burned, var_names=('lambda_1','lambda_2'))\n",
    "#plt.savefig('fig_Bayes_PyMC3_Arrival_posterior_lambda.png', bbox_inches='tight')"
   ]
  },
  {
   "cell_type": "code",
   "execution_count": null,
   "metadata": {
    "scrolled": true
   },
   "outputs": [],
   "source": [
    "pm.plot_posterior(trace_burned['tau'])\n",
    "#plt.savefig('fig_Bayes_PyMC3_Arrival_posterior_tau.png', bbox_inches='tight')"
   ]
  },
  {
   "cell_type": "markdown",
   "metadata": {},
   "source": [
    "#### posterior predictive samples\n",
    "https://docs.pymc.io/api/inference.html<br>\n",
    "https://docs.pymc.io/notebooks/posterior_predictive.html"
   ]
  },
  {
   "cell_type": "code",
   "execution_count": null,
   "metadata": {},
   "outputs": [],
   "source": [
    "ppc = pm.sample_posterior_predictive(trace_burned, samples=20, model=model)"
   ]
  },
  {
   "cell_type": "code",
   "execution_count": null,
   "metadata": {
    "scrolled": true
   },
   "outputs": [],
   "source": [
    "Xlow, Xhigh = -10,50\n",
    "X = np.arange(Xlow, Xhigh, 0.1)\n",
    "plt.xlim(Xlow, Xhigh)\n",
    "kde = stats.gaussian_kde(y) # DataのKDE\n",
    "plt.plot(X, kde(X), linestyle='solid', color='k', label='kde of data')\n",
    "\n",
    "for yy in ppc['y_rv']:\n",
    "#    plt.hist(yy, bins=60, range=(Xlow, Xhigh), histtype='step', density=True, alpha=0.5)\n",
    "    kde_ppt = stats.gaussian_kde(yy)\n",
    "    plt.plot(X, kde_ppt(X), color='r', alpha=0.2)\n",
    "\n",
    "# Poissonのpmf（確率質量関数）をプロット，平均値は上記の結果を使用する\n",
    "# 本来は離散確率であるが，実線でプロットしている\n",
    "XX = np.arange(0, Xhigh) \n",
    "plt.plot(XX, stats.poisson.pmf(XX, 9.8), c='b')\n",
    "plt.plot(XX, stats.poisson.pmf(XX, 20.0), c='b')\n",
    "\n",
    "plt.ylabel('Probability')\n",
    "plt.title(\"Posterior predictive\")\n",
    "plt.legend()\n",
    "plt.grid(True)\n",
    "\n",
    "#plt.savefig('fig_Bayes_PyMC3_Arrive_ppc.png')\n",
    "plt.show()"
   ]
  },
  {
   "cell_type": "code",
   "execution_count": null,
   "metadata": {},
   "outputs": [],
   "source": []
  },
  {
   "cell_type": "code",
   "execution_count": null,
   "metadata": {},
   "outputs": [],
   "source": [
    "# サンプリング結果の分離\n",
    "lambda_1_samples = trace_burned.lambda_1\n",
    "lambda_2_samples = trace_burned.lambda_2\n",
    "tau_samples = trace_burned.tau"
   ]
  },
  {
   "cell_type": "code",
   "execution_count": null,
   "metadata": {},
   "outputs": [],
   "source": [
    "#lambdaのヒストグラム\n",
    "fig= plt.subplots(figsize=(18, 4))\n",
    "plt.hist(lambda_1_samples, density=True, bins=50, label='lambda_1')\n",
    "plt.hist(lambda_2_samples, density=True, bins=50, label='lambda_2')\n",
    "plt.xlim(7, 24)\n",
    "plt.legend()\n",
    "\n",
    "#plt.savefig('fig_Bayes_PyMC3_Arrival_lambda.png', bbox_inches='tight') #\n",
    "plt.show()"
   ]
  },
  {
   "cell_type": "code",
   "execution_count": null,
   "metadata": {},
   "outputs": [],
   "source": [
    "# tau\n",
    "fig = plt.subplots(figsize=(18, 4))\n",
    "plt.hist(tau_samples, bins=np.arange(44, 56, 1), rwidth=0.9, density=True, align='left', label='tau')\n",
    "plt.xticks(np.arange(44, 56, 1))\n",
    "plt.legend()\n",
    "\n",
    "#plt.savefig('fig_Bayes_PyMC3_Arrival_tau.png', bbox_inches='tight') #\n",
    "plt.show()"
   ]
  },
  {
   "cell_type": "code",
   "execution_count": null,
   "metadata": {},
   "outputs": [],
   "source": []
  }
 ],
 "metadata": {
  "kernelspec": {
   "display_name": "Python 3",
   "language": "python",
   "name": "python3"
  },
  "language_info": {
   "codemirror_mode": {
    "name": "ipython",
    "version": 3
   },
   "file_extension": ".py",
   "mimetype": "text/x-python",
   "name": "python",
   "nbconvert_exporter": "python",
   "pygments_lexer": "ipython3",
   "version": "3.7.4"
  }
 },
 "nbformat": 4,
 "nbformat_minor": 2
}
