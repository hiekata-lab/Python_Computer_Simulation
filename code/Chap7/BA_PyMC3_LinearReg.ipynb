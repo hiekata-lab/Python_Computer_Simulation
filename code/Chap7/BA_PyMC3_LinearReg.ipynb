{
 "cells": [
  {
   "cell_type": "markdown",
   "metadata": {},
   "source": [
    "# PyMC3による線形回帰モデルの推定"
   ]
  },
  {
   "cell_type": "markdown",
   "metadata": {},
   "source": [
    "$$\n",
    "y_i = \\alpha + \\beta x_i \\\\\n",
    "y \\sim N(\\mu = \\alpha + \\beta x, \\sigma = \\varepsilon ) \\\\\n",
    "\\alpha \\sim N (\\mu_{\\alpha}, \\sigma_{\\alpha} ) \\\\\n",
    "\\beta \\sim N(\\mu_{\\beta}, \\sigma_{\\beta}) \\\\\n",
    "\\varepsilon \\sim U(0, h_s)\n",
    "$$"
   ]
  },
  {
   "cell_type": "code",
   "execution_count": null,
   "metadata": {},
   "outputs": [],
   "source": [
    "# -*- coding: utf-8 -*-\n",
    "import pymc3 as pm\n",
    "import numpy as np\n",
    "import scipy.stats as stats\n",
    "import seaborn as sns\n",
    "import matplotlib.pyplot as plt\n",
    "\n",
    "%matplotlib inline"
   ]
  },
  {
   "cell_type": "markdown",
   "metadata": {},
   "source": [
    "#### 単回帰モデルを用いたデータ生成"
   ]
  },
  {
   "cell_type": "code",
   "execution_count": null,
   "metadata": {},
   "outputs": [],
   "source": [
    "np.random.seed(123)\n",
    "num = 100\n",
    "alpha_real = 2.5\n",
    "beta_real  = 0.9\n",
    "x = np.random.normal(10, 1, num)\n",
    "y_real = alpha_real + beta_real*x\n",
    "eps_real = np.random.normal(0, 0.5, size=num)\n",
    "y = y_real + eps_real"
   ]
  },
  {
   "cell_type": "code",
   "execution_count": null,
   "metadata": {},
   "outputs": [],
   "source": [
    "print(x.mean(), x.std(), x.min(), x.max(), x.shape)\n",
    "print(y.mean(), y.std(), y.min(), y.max(), y.shape)"
   ]
  },
  {
   "cell_type": "code",
   "execution_count": null,
   "metadata": {
    "scrolled": true
   },
   "outputs": [],
   "source": [
    "fig, axs = plt.subplots(nrows=1, ncols=2, figsize=(12,4))\n",
    "#axs[0].plot(x, y_real, c='k')\n",
    "axs[0].scatter(x, y, c='k')\n",
    "axs[0].grid()\n",
    "axs[0].set_xlabel('x')\n",
    "axs[0].set_ylabel('y')\n",
    "\n",
    "sns.kdeplot(data=y, ax=axs[1], color='k')\n",
    "axs[1].set_xlabel('y')\n",
    "axs[1].set_ylabel('density')\n",
    "\n",
    "#plt.savefig('fig_Bayes_PyMC3_Regre_01.png')"
   ]
  },
  {
   "cell_type": "markdown",
   "metadata": {},
   "source": [
    "#### Bounded Variables\n",
    "https://docs.pymc.io/api/bounds.html <br>\n",
    "HalfCauchy: https://docs.pymc.io/api/distributions/continuous.html"
   ]
  },
  {
   "cell_type": "markdown",
   "metadata": {},
   "source": [
    "#### deterministic変数\n",
    "Deterministic transforms: https://docs.pymc.io/notebooks/api_quickstart.html<br>\n",
    "Model: https://docs.pymc.io/api/model.html"
   ]
  },
  {
   "cell_type": "markdown",
   "metadata": {},
   "source": [
    "#### Half Cauchy分布\n",
    "PyMC3 API: https://docs.pymc.io/api/distributions/continuous.html#pymc3.distributions.continuous.HalfCauchy<br>\n",
    "Wikipedia: https://ja.wikipedia.org/wiki/コーシー分布<br>\n",
    "Wolfram Mathworld – Cauchy distribution: https://mathworld.wolfram.com/CauchyDistribution.html\n"
   ]
  },
  {
   "cell_type": "markdown",
   "metadata": {},
   "source": [
    "### パラメータのmuを確率にする"
   ]
  },
  {
   "cell_type": "code",
   "execution_count": null,
   "metadata": {},
   "outputs": [],
   "source": [
    "# 線形回帰モデル\n",
    "with pm.Model() as model_linear:\n",
    "    alpha = pm.Normal('alpha', mu=0.0, sd=10.0)\n",
    "    beta  = pm.Normal('beta',  mu=1.0, sd=1.0)\n",
    "    epsilon = pm.HalfCauchy('epsilon', 5)\n",
    "#    mu = pm.Deterministic('mu', alpha+beta*x)\n",
    "    y_rv = pm.Normal('y_rv', mu=alpha+beta*x, sd=epsilon, observed=y)"
   ]
  },
  {
   "cell_type": "code",
   "execution_count": null,
   "metadata": {},
   "outputs": [],
   "source": [
    "tree_model = pm.model_to_graphviz(model_linear)\n",
    "tree_model\n",
    "#木構造の図をPNGで保存したい場合には，次の行のコメントをはずす\n",
    "#tree_model.render(filename='fig_Bayes_PyMC3_Regre_TreeModel', format='png') # DOT言語ファイルと画像ファイルの保存"
   ]
  },
  {
   "cell_type": "code",
   "execution_count": null,
   "metadata": {},
   "outputs": [],
   "source": [
    "burnin = 1000\n",
    "with model_linear:\n",
    "    start = pm.find_MAP()\n",
    "    step  = pm.NUTS()\n",
    "    trace = pm.sample(draws=5000+burnin, tune=1000, start=start, step=step, cores=2)"
   ]
  },
  {
   "cell_type": "code",
   "execution_count": null,
   "metadata": {
    "scrolled": true
   },
   "outputs": [],
   "source": [
    "trace_burned = trace[burnin:]\n",
    "pm.traceplot(trace_burned, legend=True)\n",
    "#plt.savefig('fig_Bayes_PyMC3_Regre_traceplot.png')"
   ]
  },
  {
   "cell_type": "code",
   "execution_count": null,
   "metadata": {},
   "outputs": [],
   "source": [
    "pm.summary(trace_burned)"
   ]
  },
  {
   "cell_type": "markdown",
   "metadata": {},
   "source": [
    "#### autocorrplot()\n",
    "https://docs.pymc.io/api/plots.html"
   ]
  },
  {
   "cell_type": "code",
   "execution_count": null,
   "metadata": {
    "scrolled": true
   },
   "outputs": [],
   "source": [
    "varnames = ['alpha', 'beta', 'epsilon']\n",
    "pm.autocorrplot(trace_burned, varnames)\n",
    "\n",
    "#plt.savefig('fig_Bayes_PyMC3_Regre_autocorr.png')"
   ]
  },
  {
   "cell_type": "markdown",
   "metadata": {},
   "source": [
    "#### $\\alpha$と$\\beta$の相関を見るために位相平面を描く。ここに，等高線で表す"
   ]
  },
  {
   "cell_type": "code",
   "execution_count": null,
   "metadata": {},
   "outputs": [],
   "source": [
    "sns.kdeplot(data=trace_burned['alpha'], data2=trace_burned['beta'])\n",
    "plt.xlabel('alpha')\n",
    "plt.ylabel('beta')\n",
    "\n",
    "#plt.savefig('fig_Bayes_PyMC3_Regre_phaseplane.png')"
   ]
  },
  {
   "cell_type": "markdown",
   "metadata": {},
   "source": [
    "### 事後分布の考察と視覚化"
   ]
  },
  {
   "cell_type": "code",
   "execution_count": null,
   "metadata": {},
   "outputs": [],
   "source": [
    "alpha_mean = trace_burned['alpha'].mean()\n",
    "beta_mean  = trace_burned['beta'].mean()\n",
    "print(alpha_mean, beta_mean)\n",
    "y_rv_mean = alpha_mean + beta_mean*x"
   ]
  },
  {
   "cell_type": "code",
   "execution_count": null,
   "metadata": {},
   "outputs": [],
   "source": [
    "plt.plot(x,y_rv_mean, c='k')\n",
    "#plt.plot(x,y_real, c='r')\n",
    "plt.scatter(x,y, s=10)\n",
    "\n",
    "plt.xlabel('x')\n",
    "plt.ylabel('y')\n",
    "\n",
    "#plt.savefig('fig_Bayes_PyMC3_Regre_mean.png')"
   ]
  },
  {
   "cell_type": "markdown",
   "metadata": {},
   "source": [
    "#### 回帰直線の不確実性を表す"
   ]
  },
  {
   "cell_type": "code",
   "execution_count": null,
   "metadata": {},
   "outputs": [],
   "source": [
    "for i in range(100):\n",
    "    y_rv_pred = trace_burned['alpha'][i] + trace_burned['beta'][i]*x\n",
    "    plt.plot(x, y_rv_pred, c='g', alpha=0.1)\n",
    "plt.scatter(x,y, s=10, c='k')\n",
    "\n",
    "plt.xlabel('x')\n",
    "plt.ylabel('y')\n",
    "\n",
    "#plt.savefig('fig_Bayes_PyMC3_Regre_uncertainty.png')"
   ]
  },
  {
   "cell_type": "code",
   "execution_count": null,
   "metadata": {},
   "outputs": [],
   "source": [
    "print(x.min(), x.max())"
   ]
  },
  {
   "cell_type": "markdown",
   "metadata": {},
   "source": [
    "### numpy.argsortの使い方を知る\n",
    "配列の要素に対するソートを行うとき，値そのものをソートするのではなく，ソートされたときの要素番号（インデックス）を返す。"
   ]
  },
  {
   "cell_type": "code",
   "execution_count": null,
   "metadata": {},
   "outputs": [],
   "source": [
    "xxx = np.random.randint(0,100,5)\n",
    "xxx"
   ]
  },
  {
   "cell_type": "code",
   "execution_count": null,
   "metadata": {
    "scrolled": true
   },
   "outputs": [],
   "source": [
    "np.argsort(xxx)"
   ]
  },
  {
   "cell_type": "markdown",
   "metadata": {},
   "source": [
    "#### sample_posterior_predictive()\n",
    "https://docs.pymc.io/api/inference.html"
   ]
  },
  {
   "cell_type": "code",
   "execution_count": null,
   "metadata": {
    "scrolled": false
   },
   "outputs": [],
   "source": [
    "ppc = pm.sample_posterior_predictive(trace_burned, samples=1000, model=model_linear)"
   ]
  },
  {
   "cell_type": "markdown",
   "metadata": {},
   "source": [
    "#### 関数の使い方\n",
    "統計と診断に関する関数はArviZライブラリに任されているため，pymc3の関数はArviZ関数のエイリアスとなっている。<br>このため，使い方はAriviZ関数のドキュメントを見ることとなる。<br>\n",
    "pymc3.stats.hpd(): https://docs.pymc.io/api/stats.html <br>\n",
    "\n",
    "次はmaplotlibの関数である。<br>\n",
    "plt.fill_between(): https://matplotlib.org/api/_as_gen/matplotlib.pyplot.fill_between.html"
   ]
  },
  {
   "cell_type": "code",
   "execution_count": null,
   "metadata": {},
   "outputs": [],
   "source": [
    "idx = np.argsort(x)\n",
    "x_ord = x[idx]\n",
    "hpd50 = pm.hpd(ppc['y_rv'], hdi_prob=0.5)[idx]  # 50%HPD\n",
    "hpd95 = pm.hpd(ppc['y_rv'], hdi_prob=0.95)[idx] # 95%HPD\n",
    "plt.fill_between(x_ord, hpd50[:,0], hpd50[:,1], color='gray', alpha=0.8)\n",
    "plt.fill_between(x_ord, hpd95[:,0], hpd95[:,1], color='gray', alpha=0.3)\n",
    "plt.scatter(x,y, s=10, c='k')\n",
    "plt.plot(x,y_rv_mean, c='k')\n",
    "\n",
    "plt.xlabel('x')\n",
    "plt.ylabel('y')\n",
    "\n",
    "#plt.savefig('fig_Bayes_PyMC3_Regre_HPD.png')"
   ]
  },
  {
   "cell_type": "code",
   "execution_count": null,
   "metadata": {},
   "outputs": [],
   "source": []
  }
 ],
 "metadata": {
  "kernelspec": {
   "display_name": "Python 3",
   "language": "python",
   "name": "python3"
  },
  "language_info": {
   "codemirror_mode": {
    "name": "ipython",
    "version": 3
   },
   "file_extension": ".py",
   "mimetype": "text/x-python",
   "name": "python",
   "nbconvert_exporter": "python",
   "pygments_lexer": "ipython3",
   "version": "3.7.4"
  }
 },
 "nbformat": 4,
 "nbformat_minor": 2
}
