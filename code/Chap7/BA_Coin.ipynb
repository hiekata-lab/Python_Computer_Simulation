{
 "cells": [
  {
   "cell_type": "markdown",
   "metadata": {},
   "source": [
    "# ベイズ統計、確率密度関数の推定\n",
    "コイン投げの例<br>\n",
    "第1回目の観測：$N=5, k=3$"
   ]
  },
  {
   "cell_type": "code",
   "execution_count": null,
   "metadata": {},
   "outputs": [],
   "source": [
    "# -*- coding: utf-8 -*-\n",
    "import numpy as np\n",
    "import sympy  # 数式処理パッケージ　https://www.sympy.org/en/index.html\n",
    "import matplotlib.pyplot as plt\n",
    "\n",
    "%matplotlib inline"
   ]
  },
  {
   "cell_type": "code",
   "execution_count": null,
   "metadata": {},
   "outputs": [],
   "source": [
    "# 推定する確率変数pの変数定義\n",
    "p = sympy.Symbol('p')\n",
    "likelihood = p**3 * (1-p)**2"
   ]
  },
  {
   "cell_type": "code",
   "execution_count": null,
   "metadata": {},
   "outputs": [],
   "source": [
    "# 正規化定数を求めるための積分\n",
    "const = sympy.integrate(likelihood, (p, 0, 1))\n",
    "const"
   ]
  },
  {
   "cell_type": "code",
   "execution_count": null,
   "metadata": {
    "scrolled": true
   },
   "outputs": [],
   "source": [
    "#事後分布を求め，区間[0,1]での面積（＝全確率）を求める\n",
    "pos_1 = likelihood/const\n",
    "print(pos_1)\n",
    "all_prob = sympy.integrate(pos_1, (p,0,1))\n",
    "print(all_prob)"
   ]
  },
  {
   "cell_type": "code",
   "execution_count": null,
   "metadata": {},
   "outputs": [],
   "source": [
    "fig, axs = plt.subplots(figsize=(10, 3))\n",
    "prob = np.linspace(0, 1, 100)\n",
    "# SymPyのsubs()メソッド、変数に値を代入 https://note.nkmk.me/python-sympy-factorization-solve-equation/\n",
    "plt.plot(prob, [pos_1.subs(p, i) for i in prob])\n",
    "plt.xlabel('p')\n",
    "plt.ylabel('posterior')\n",
    "#ax.set_xticks([0, 0.1, 0.2, 0.3, 0.4, 0.5, 0.6, 0.7, 0.8, 0.9, 1.0])\n",
    "axs.set_xticks(np.arange(0,1.1,0.1).tolist())\n",
    "plt.minorticks_on()\n",
    "plt.grid(which='both') # both be major or minor, see matplotlib.pyplot.grid\n",
    "#splt.savefig('fig_Bayes_Coin_Distribution.png', bbox_inches='tight')\n",
    "plt.show()"
   ]
  },
  {
   "cell_type": "code",
   "execution_count": null,
   "metadata": {},
   "outputs": [],
   "source": [
    "# MAP(Maximum a posterior)を求める\n",
    "eq2 = sympy.diff(likelihood)\n",
    "print(eq2)\n",
    "eq3 = sympy.factor(eq2)\n",
    "print(eq3)\n",
    "sol = sympy.solve(eq3, p)\n",
    "print(sol)"
   ]
  },
  {
   "cell_type": "code",
   "execution_count": null,
   "metadata": {},
   "outputs": [],
   "source": [
    "#事後分布の平均値を求める\n",
    "mean_val = sympy.integrate(p * pos_1, (p,0,1))\n",
    "print(mean_val,'=', float(mean_val))"
   ]
  },
  {
   "cell_type": "code",
   "execution_count": null,
   "metadata": {},
   "outputs": [],
   "source": [
    "# 0.5 <= p <= 0.7　の確率を求める\n",
    "sympy.integrate(pos_1, (p,0.5,0.7))"
   ]
  },
  {
   "cell_type": "markdown",
   "metadata": {},
   "source": [
    "### 次の観測\n",
    "$N=9, k=5$　とする。次の事後分布を表す関数pos_2(p)は正規化されていないことに注意されたい。"
   ]
  },
  {
   "cell_type": "code",
   "execution_count": null,
   "metadata": {
    "scrolled": true
   },
   "outputs": [],
   "source": [
    "def pos_2(p):\n",
    "    return p**(3+5) * (1-p)**(2+4)\n",
    "\n",
    "fig, axs = plt.subplots(figsize=(10, 3))\n",
    "prob = np.linspace(0, 1, 100)\n",
    "plt.plot(prob, pos_2(prob))\n",
    "plt.xlabel('p')\n",
    "plt.ylabel('posterior')\n",
    "axs.set_xticks(np.arange(0,1.1,0.1).tolist())\n",
    "plt.minorticks_on()\n",
    "plt.grid(which='both') # both be major or minor, see matplotlib.pyplot.grid\n",
    "#splt.savefig('fig_Bayes_Coin_Distribution.png', bbox_inches='tight')\n",
    "plt.show()"
   ]
  },
  {
   "cell_type": "markdown",
   "metadata": {},
   "source": [
    "#### 事後分布が正規化されていなくても，平均値と最頻値には影響しない。"
   ]
  },
  {
   "cell_type": "code",
   "execution_count": null,
   "metadata": {},
   "outputs": [],
   "source": [
    "mean_val = 9/(9+7)\n",
    "mode_val = (9-1)/((9-1)+(7-1))\n",
    "print(mean_val, mode_val)"
   ]
  },
  {
   "cell_type": "code",
   "execution_count": null,
   "metadata": {},
   "outputs": [],
   "source": []
  }
 ],
 "metadata": {
  "kernelspec": {
   "display_name": "Python 3",
   "language": "python",
   "name": "python3"
  },
  "language_info": {
   "codemirror_mode": {
    "name": "ipython",
    "version": 3
   },
   "file_extension": ".py",
   "mimetype": "text/x-python",
   "name": "python",
   "nbconvert_exporter": "python",
   "pygments_lexer": "ipython3",
   "version": "3.7.4"
  }
 },
 "nbformat": 4,
 "nbformat_minor": 4
}
