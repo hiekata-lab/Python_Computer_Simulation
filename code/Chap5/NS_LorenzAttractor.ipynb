{
 "cells": [
  {
   "cell_type": "markdown",
   "metadata": {},
   "source": [
    "# Lorenz Attractor\n",
    "https://en.wikipedia.org/wiki/Lorenz_system<br>\n",
    "\n",
    "\n",
    "差分方程式を用いたプログラムは次を参照：https://matplotlib.org/3.1.0/gallery/mplot3d/lorenz_attractor.html<br>\n",
    "This is an example of plotting Edward Lorenz's 1963 \"Deterministic Nonperiodic Flow\" in a 3-dimensional space using mplot3d.<br>\n",
    "https://journals.ametsoc.org/jas/article/20/2/130/16956/Deterministic-Nonperiodic-Flow"
   ]
  },
  {
   "cell_type": "markdown",
   "metadata": {},
   "source": [
    "## 注意：\n",
    "グラフの描画の都合上，1セル毎に実行してください。"
   ]
  },
  {
   "cell_type": "code",
   "execution_count": null,
   "metadata": {},
   "outputs": [],
   "source": [
    "# -*- coding: utf-8 -*-\n",
    "import numpy as np\n",
    "import matplotlib.pyplot as plt"
   ]
  },
  {
   "cell_type": "code",
   "execution_count": null,
   "metadata": {},
   "outputs": [],
   "source": [
    "def lorenz(x, y, z, s=10, r=28, b=8/3):\n",
    "    '''\n",
    "    Given:\n",
    "       x, y, z: a point of interest in three dimensional space\n",
    "       s, r, b: parameters defining the lorenz attractor\n",
    "    Returns:\n",
    "       x_dot, y_dot, z_dot: values of the lorenz attractor's partial\n",
    "           derivatives at the point x, y, z\n",
    "    '''\n",
    "    x_dot = s*(y - x)\n",
    "    y_dot = r*x - y - x*z\n",
    "    z_dot = x*y - b*z\n",
    "    return [x_dot, y_dot, z_dot]"
   ]
  },
  {
   "cell_type": "markdown",
   "metadata": {},
   "source": [
    "#### 差分方程式で解く"
   ]
  },
  {
   "cell_type": "code",
   "execution_count": null,
   "metadata": {},
   "outputs": [],
   "source": [
    "dt = 0.01\n",
    "xyz_ini = [0.0, 1.0, 1.05]\n",
    "#xyz_ini = [0.0001, 1.0, 1.05]\n",
    "num_steps = 10000\n",
    "\n",
    "xs = np.empty(num_steps)\n",
    "ys = np.empty(num_steps)\n",
    "zs = np.empty(num_steps)\n",
    "xs[0], ys[0], zs[0] = xyz_ini # initial values\n",
    "\n",
    "for i in range(1, num_steps):\n",
    "    x_dot, y_dot, z_dot = lorenz(xs[i-1], ys[i-1], zs[i-1])\n",
    "    xs[i] = xs[i-1] + (x_dot * dt)\n",
    "    ys[i] = ys[i-1] + (y_dot * dt)\n",
    "    zs[i] = zs[i-1] + (z_dot * dt)"
   ]
  },
  {
   "cell_type": "markdown",
   "metadata": {},
   "source": [
    "### マジックコマンド notebookの説明\n",
    "Interactivityを有効にするには，matplotlibのnotebookバックエンドを使用する必要があります。<br>\n",
    "%matplotlib notebookを実行することでこれを行うことができます。<br>\n",
    "https://ipython.readthedocs.io/en/stable/interactive/magics.html"
   ]
  },
  {
   "cell_type": "code",
   "execution_count": null,
   "metadata": {},
   "outputs": [],
   "source": [
    "%matplotlib notebook\n",
    "# Plot\n",
    "fig = plt.figure()\n",
    "ax = fig.gca(projection='3d')\n",
    "\n",
    "ax.plot(xs, ys, zs, lw=0.5)\n",
    "ax.set_xlabel(\"X Axis\")\n",
    "ax.set_ylabel(\"Y Axis\")\n",
    "ax.set_zlabel(\"Z Axis\")\n",
    "ax.set_title(\"Lorenz Attractor\")\n",
    "\n",
    "plt.show()"
   ]
  },
  {
   "cell_type": "code",
   "execution_count": null,
   "metadata": {},
   "outputs": [],
   "source": [
    "#plt.savefig('fig_NS_LorenzAttractor_Init00.png', bbox_inches='tight')"
   ]
  },
  {
   "cell_type": "code",
   "execution_count": null,
   "metadata": {
    "scrolled": true
   },
   "outputs": [],
   "source": []
  },
  {
   "cell_type": "code",
   "execution_count": null,
   "metadata": {},
   "outputs": [],
   "source": [
    "fig = plt.subplots(figsize=(6,3))\n",
    "plt.plot(xs, c='k')\n",
    "plt.title('Initial value ='+str(xyz_ini))\n",
    "#plt.savefig('fig_NS_LorenzAttractor_xInit00.png', bbox_inches='tight')\n",
    "plt.show()"
   ]
  },
  {
   "cell_type": "markdown",
   "metadata": {},
   "source": [
    "#### ODE法を用いて解く"
   ]
  },
  {
   "cell_type": "code",
   "execution_count": null,
   "metadata": {},
   "outputs": [],
   "source": [
    "from scipy.integrate import solve_ivp"
   ]
  },
  {
   "cell_type": "code",
   "execution_count": null,
   "metadata": {},
   "outputs": [],
   "source": [
    "def lorenz2(t, x, s, r, b):\n",
    "    x_dot = s*(x[1] - x[0])\n",
    "    y_dot = r*x[0] - x[1] - x[0]*x[2]\n",
    "    z_dot = x[0]*x[1] - b*x[2]\n",
    "    return [x_dot, y_dot, z_dot]"
   ]
  },
  {
   "cell_type": "code",
   "execution_count": null,
   "metadata": {},
   "outputs": [],
   "source": [
    "xyz0 = xyz_ini # initial values\n",
    "s, r, b =10, 28, 8/3\n",
    "T_END = 100\n",
    "sol = solve_ivp(fun=lorenz2, t_span=[0, T_END], y0=xyz0, method='RK45', args=(10, 28, 8/3,), dense_output=True)\n",
    "t = np.linspace(0, T_END, 10000)  \n",
    "xyz = sol.sol(t)\n",
    "print(len(t), len(xyz))"
   ]
  },
  {
   "cell_type": "code",
   "execution_count": null,
   "metadata": {
    "scrolled": true
   },
   "outputs": [],
   "source": [
    "%matplotlib notebook\n",
    "# Plot\n",
    "fig = plt.figure()\n",
    "ax = fig.gca(projection='3d')\n",
    "\n",
    "ax.plot(xyz[0], xyz[1], xyz[2], lw=0.5)\n",
    "ax.set_xlabel(\"X Axis\")\n",
    "ax.set_ylabel(\"Y Axis\")\n",
    "ax.set_zlabel(\"Z Axis\")\n",
    "ax.set_title(\"Lorenz Attractor\")\n",
    "\n",
    "plt.show()"
   ]
  },
  {
   "cell_type": "code",
   "execution_count": null,
   "metadata": {},
   "outputs": [],
   "source": []
  },
  {
   "cell_type": "markdown",
   "metadata": {},
   "source": [
    "### x成分だけの時系列をプロットする\n",
    "1番目は差分方程式の結果"
   ]
  },
  {
   "cell_type": "code",
   "execution_count": null,
   "metadata": {},
   "outputs": [],
   "source": [
    "%matplotlib inline\n",
    "\n",
    "fig = plt.subplots(figsize=(6,3))\n",
    "plt.plot(xs, c='k')\n",
    "plt.title('Initial values='+str(xyz_ini))\n",
    "#plt.savefig('fig_NS_LorenzAttractor_x.png', bbox_inches='tight')\n",
    "plt.show()"
   ]
  },
  {
   "cell_type": "markdown",
   "metadata": {},
   "source": [
    "2番目はsolve_ivpの結果"
   ]
  },
  {
   "cell_type": "code",
   "execution_count": null,
   "metadata": {},
   "outputs": [],
   "source": [
    "fig = plt.subplots(figsize=(6,3))\n",
    "plt.plot(xyz[0], c='k')\n",
    "plt.title('Initial values='+str(xyz_ini))\n",
    "plt.show()"
   ]
  },
  {
   "cell_type": "code",
   "execution_count": null,
   "metadata": {},
   "outputs": [],
   "source": []
  }
 ],
 "metadata": {
  "kernelspec": {
   "display_name": "Python 3",
   "language": "python",
   "name": "python3"
  },
  "language_info": {
   "codemirror_mode": {
    "name": "ipython",
    "version": 3
   },
   "file_extension": ".py",
   "mimetype": "text/x-python",
   "name": "python",
   "nbconvert_exporter": "python",
   "pygments_lexer": "ipython3",
   "version": "3.7.4"
  }
 },
 "nbformat": 4,
 "nbformat_minor": 2
}
