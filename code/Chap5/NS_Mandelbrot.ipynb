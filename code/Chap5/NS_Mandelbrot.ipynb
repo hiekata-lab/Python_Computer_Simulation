{
 "cells": [
  {
   "cell_type": "markdown",
   "metadata": {},
   "source": [
    "# マンデルブロ集合\n"
   ]
  },
  {
   "cell_type": "code",
   "execution_count": null,
   "metadata": {},
   "outputs": [],
   "source": [
    "# -*- coding: utf-8 -*-\n",
    "import numpy as np\n",
    "import matplotlib.pyplot as plt\n",
    "\n",
    "%matplotlib inline"
   ]
  },
  {
   "cell_type": "code",
   "execution_count": null,
   "metadata": {},
   "outputs": [],
   "source": [
    "def mandelbrot(arr, width, height, xmin, ymin, xcoef, ycoef, maxIt):\n",
    "    for ky in range(height):\n",
    "        cy = ycoef*(height-ky) + ymin\n",
    "        for kx in range(width):\n",
    "            cx = xcoef*kx + xmin\n",
    "            c = complex(cx, cy)\n",
    "            z = complex(0.0, 0.0)\n",
    "            flag = True\n",
    "            for i in range(maxIt):\n",
    "                count = i\n",
    "                z = z * z + c\n",
    "                if abs(z) >= 2.0:\n",
    "                    flag = False\n",
    "                    break\n",
    "            if flag:\n",
    "                arr[ky, kx] = ( int(255), int(255), int(255) )\n",
    "            else:\n",
    "                if count <= 1:\n",
    "                    b_color = 0\n",
    "                elif count <= 3:\n",
    "                    b_color = 60\n",
    "                elif count <= 5:\n",
    "                    b_color = 150\n",
    "                else:\n",
    "                    b_color = 255\n",
    "                arr[ky, kx] = ( int(0), int(0), int(b_color) )"
   ]
  },
  {
   "cell_type": "code",
   "execution_count": null,
   "metadata": {},
   "outputs": [],
   "source": [
    "#全体を見るには次の2行を活かし，下の2行をコメントアウト\n",
    "xmin, xmax, ymin, ymax = -3.0, 1.0, -1.5, 1.5\n",
    "WIDTH  = 800 ; HEIGHT = 600 # propotional to (x,y) range\n",
    "\n",
    "#一部を見るには次の2行を活かし，上の2行をコメントアウト\n",
    "#xmin, xmax, ymin, ymax = 0.1, 0.5, 0.4, 0.8\n",
    "#WIDTH  = 800 ; HEIGHT = 800 # propotional to (x,y) range\n",
    "\n",
    "xwidth = xmax - xmin\n",
    "ywidth = ymax - ymin\n",
    "maxIt = 256\n",
    "\n",
    "x_coeff = xwidth/np.float64(WIDTH)\n",
    "y_coeff = ywidth/np.float64(HEIGHT)\n",
    "array = np.zeros((HEIGHT, WIDTH, 3), dtype='int32')  # 3 => RGB array\n",
    "mandelbrot( array, WIDTH, HEIGHT, xmin, ymin, x_coeff, y_coeff, maxIt )"
   ]
  },
  {
   "cell_type": "code",
   "execution_count": null,
   "metadata": {},
   "outputs": [],
   "source": [
    "plt.imshow(array, vmin=0, vmax=255, interpolation='none')\n",
    "plt.title('Mandelbrot Set')\n",
    "plt.xlabel('Re(z)')\n",
    "plt.ylabel('Im(z)')\n",
    "\n",
    "X0 = (np.abs(xmin)/xwidth)*WIDTH\n",
    "plt.xticks([0, X0, WIDTH], [xmin, 0, xmax])\n",
    "\n",
    "Y0 = (np.abs(ymin)/ywidth)*HEIGHT\n",
    "plt.yticks([0, Y0, HEIGHT], [ymax, 0, ymin])\n",
    "\n",
    "#plt.savefig('fig_NS_Mandelbrot_2.png', bbox_inches='tight')\n",
    "plt.show()"
   ]
  },
  {
   "cell_type": "code",
   "execution_count": null,
   "metadata": {},
   "outputs": [],
   "source": []
  }
 ],
 "metadata": {
  "kernelspec": {
   "display_name": "Python 3",
   "language": "python",
   "name": "python3"
  },
  "language_info": {
   "codemirror_mode": {
    "name": "ipython",
    "version": 3
   },
   "file_extension": ".py",
   "mimetype": "text/x-python",
   "name": "python",
   "nbconvert_exporter": "python",
   "pygments_lexer": "ipython3",
   "version": "3.7.4"
  }
 },
 "nbformat": 4,
 "nbformat_minor": 4
}
