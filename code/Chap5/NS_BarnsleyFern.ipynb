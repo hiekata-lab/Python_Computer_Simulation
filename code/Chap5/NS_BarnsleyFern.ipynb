{
 "cells": [
  {
   "cell_type": "markdown",
   "metadata": {},
   "source": [
    "# バーンスレイのシダ，The Barnsley fern\n",
    "\n",
    "Wiki\n",
    "https://en.wikipedia.org/wiki/Barnsley_fern<br>"
   ]
  },
  {
   "cell_type": "code",
   "execution_count": null,
   "metadata": {},
   "outputs": [],
   "source": [
    "# -*- coding: utf-8 -*-\n",
    "import numpy as np\n",
    "import matplotlib.pyplot as plt\n",
    "import matplotlib.cm as cm\n",
    "import matplotlib.transforms as trans\n",
    "\n",
    "from IPython.display import Image\n",
    "%matplotlib inline"
   ]
  },
  {
   "cell_type": "markdown",
   "metadata": {},
   "source": [
    "### シダの写真\n",
    "Wikimedia Commons, https://commons.wikimedia.org/wiki/Main_Page　からキーワード\"Fern\"で検索したURLを下記で用いている。<br>\n",
    "この作品は次にある。<br>\n",
    "https://commons.wikimedia.org/wiki/File:Ostrich_fern_at_Myrstigen_trail_1.jpg"
   ]
  },
  {
   "cell_type": "code",
   "execution_count": null,
   "metadata": {},
   "outputs": [],
   "source": [
    "url = 'https://upload.wikimedia.org/wikipedia/commons/d/db/Ostrich_fern_at_Myrstigen_trail_1.jpg'\n",
    "Image(url, width=300, height=300)"
   ]
  },
  {
   "cell_type": "code",
   "execution_count": null,
   "metadata": {},
   "outputs": [],
   "source": [
    "f1 = lambda x,y: (0., 0.16*y)\n",
    "f2 = lambda x,y: (0.85*x + 0.04*y, -0.04*x + 0.85*y + 1.6)\n",
    "f3 = lambda x,y: (0.2*x - 0.26*y, 0.23*x + 0.22*y + 1.6)\n",
    "f4 = lambda x,y: (-0.15*x + 0.28*y, 0.26*x + 0.24*y + 0.44)\n",
    "fs = [f1, f2, f3, f4]"
   ]
  },
  {
   "cell_type": "markdown",
   "metadata": {},
   "source": [
    "numpy.random.choice: https://docs.scipy.org/doc//numpy-1.10.4/reference/generated/numpy.random.choice.html"
   ]
  },
  {
   "cell_type": "code",
   "execution_count": null,
   "metadata": {},
   "outputs": [],
   "source": [
    "num = 50000\n",
    "# Canvas size (pixels)\n",
    "width, height = 300, 300\n",
    "image = np.zeros((width, height))\n",
    "image2 = np.zeros((width, height))\n",
    "\n",
    "x, y = 0, 0\n",
    "for i in range(num):\n",
    "    # Pick a random transformation and apply it\n",
    "    f = np.random.choice(fs, p=[0.01, 0.85, 0.07, 0.07])\n",
    "    x, y = f(x,y)\n",
    "    # Map (x,y) to pixel coordinates.\n",
    "    # NB we \"know\" that -2.2 < x < 2.7 and 0 <= y < 10\n",
    "    if abs(x) >= 2.7:\n",
    "        print('over x')\n",
    "    if abs(y) >= 10.0:\n",
    "        print('over y')\n",
    "    ix, iy = int(width / 2 + x * width / 10), int(y * height / 12)\n",
    "    # Set this point of the array to 1 to mark a point in the fern\n",
    "    image[iy, ix] = 1\n",
    "    image2[ix, iy] = 1   "
   ]
  },
  {
   "cell_type": "markdown",
   "metadata": {},
   "source": [
    "#### 緑色を使用するためmatplotlib.cmを使用\n",
    "https://matplotlib.org/3.2.2/api/cm_api.html"
   ]
  },
  {
   "cell_type": "markdown",
   "metadata": {},
   "source": [
    "#### スライスシング start, end, step\n",
    "https://qiita.com/okkn/items/54e81346d8f35733ab5e<br>\n",
    "https://deepage.net/features/numpy-slicing.html"
   ]
  },
  {
   "cell_type": "markdown",
   "metadata": {},
   "source": [
    "絵の天地を逆向きにするためにマイナスstepのスライシングを用いている"
   ]
  },
  {
   "cell_type": "code",
   "execution_count": null,
   "metadata": {},
   "outputs": [],
   "source": [
    "fig = plt.subplots(figsize=(6,6))\n",
    "plt.imshow(image[::-1,:], cmap=cm.Greens)\n",
    "#plt.savefig('fig_NS_BarnsleyFern_01.png', bbox_inches='tight')\n",
    "plt.show()"
   ]
  },
  {
   "cell_type": "code",
   "execution_count": null,
   "metadata": {},
   "outputs": [],
   "source": [
    "fig = plt.subplots(figsize=(6,6))\n",
    "plt.imshow(image2, cmap=cm.Greens)\n",
    "plt.show()"
   ]
  },
  {
   "cell_type": "code",
   "execution_count": null,
   "metadata": {
    "scrolled": true
   },
   "outputs": [],
   "source": [
    "fig = plt.subplots(figsize=(6,6))\n",
    "plt.imshow(image, cmap=cm.Greens)\n",
    "plt.show()"
   ]
  },
  {
   "cell_type": "code",
   "execution_count": null,
   "metadata": {
    "scrolled": true
   },
   "outputs": [],
   "source": [
    "plt.imshow(image[0:60,130:190], cmap=cm.Greens)"
   ]
  },
  {
   "cell_type": "code",
   "execution_count": null,
   "metadata": {},
   "outputs": [],
   "source": [
    "from scipy import ndimage\n",
    "\n",
    "rotated_img = ndimage.rotate(image[0:60,130:190], 180)\n",
    "plt.imshow(rotated_img[:,::-1], cmap=cm.Greens)\n",
    "#plt.savefig('fig_NS_BarnsleyFern_02.png', bbox_inches='tight')\n",
    "plt.show()"
   ]
  },
  {
   "cell_type": "code",
   "execution_count": null,
   "metadata": {},
   "outputs": [],
   "source": []
  }
 ],
 "metadata": {
  "kernelspec": {
   "display_name": "Python 3",
   "language": "python",
   "name": "python3"
  },
  "language_info": {
   "codemirror_mode": {
    "name": "ipython",
    "version": 3
   },
   "file_extension": ".py",
   "mimetype": "text/x-python",
   "name": "python",
   "nbconvert_exporter": "python",
   "pygments_lexer": "ipython3",
   "version": "3.7.4"
  }
 },
 "nbformat": 4,
 "nbformat_minor": 4
}
