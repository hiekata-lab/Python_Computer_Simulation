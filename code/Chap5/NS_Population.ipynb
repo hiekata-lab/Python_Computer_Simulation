{
 "cells": [
  {
   "cell_type": "markdown",
   "metadata": {},
   "source": [
    "# 人口成長，Population growth"
   ]
  },
  {
   "cell_type": "markdown",
   "metadata": {},
   "source": [
    "### 非線形関数のカーブフィッティング（パラメータ推定）\n",
    "https://docs.scipy.org/doc/scipy/reference/generated/scipy.optimize.curve_fit.html"
   ]
  },
  {
   "cell_type": "code",
   "execution_count": null,
   "metadata": {},
   "outputs": [],
   "source": [
    "# -*- coding: utf-8 -*-\n",
    "import numpy as np  \n",
    "import scipy.optimize as opt\n",
    "import matplotlib.pyplot as plt  \n",
    "\n",
    "%matplotlib inline"
   ]
  },
  {
   "cell_type": "markdown",
   "metadata": {},
   "source": [
    "#### 計算の簡略化のため，xのデータは西暦でなく，0から始まる整数とする。"
   ]
  },
  {
   "cell_type": "code",
   "execution_count": null,
   "metadata": {},
   "outputs": [],
   "source": [
    "#1980 -  2010, 5年毎の日本の総人口，単位：千人\n",
    "y = np.array([117060, 121049, 123611, 125570, 126926, 127768, 128057])\n",
    "x = np.arange(0,len(y))\n",
    "# 2012年から総人口は減少に転じている"
   ]
  },
  {
   "cell_type": "code",
   "execution_count": null,
   "metadata": {},
   "outputs": [],
   "source": [
    "def func(t, p0, pinf, gamma):\n",
    "    p = pinf/( 1.0 + (pinf/p0 - 1.0)*np.exp(-gamma*t))\n",
    "    return p"
   ]
  },
  {
   "cell_type": "code",
   "execution_count": null,
   "metadata": {},
   "outputs": [],
   "source": [
    "popt, pcov = opt.curve_fit(func, x, y, p0=[110000, 130000, 0.6])\n",
    "popt"
   ]
  },
  {
   "cell_type": "code",
   "execution_count": null,
   "metadata": {
    "scrolled": true
   },
   "outputs": [],
   "source": [
    "pest= popt[1]/( 1.0 + (popt[1]/popt[0] - 1.0)*np.exp(-popt[2]*x))\n",
    "\n",
    "x2 = np.arange(-10, 20, 1)\n",
    "pest2= popt[1]/( 1.0 + (popt[1]/popt[0] - 1.0)*np.exp(-popt[2]*x2))"
   ]
  },
  {
   "cell_type": "code",
   "execution_count": null,
   "metadata": {},
   "outputs": [],
   "source": [
    "fig, axs = plt.subplots(ncols=2, figsize=(14,4))\n",
    "\n",
    "axs[0].plot(x, pest)\n",
    "axs[0].scatter(x, y)\n",
    "axs[0].set_xlabel('Year')\n",
    "axs[0].set_ylabel('P')\n",
    "axs[0].grid()\n",
    "\n",
    "axs[1].plot(x2, pest2)\n",
    "axs[1].set_xlabel('Year')\n",
    "axs[1].set_ylabel('P')\n",
    "axs[1].grid()\n",
    "\n",
    "#plt.savefig('fig_NS_Population_01.png', bbox_inches='tight')\n",
    "plt.show()"
   ]
  },
  {
   "cell_type": "code",
   "execution_count": null,
   "metadata": {},
   "outputs": [],
   "source": []
  }
 ],
 "metadata": {
  "kernelspec": {
   "display_name": "Python 3",
   "language": "python",
   "name": "python3"
  },
  "language_info": {
   "codemirror_mode": {
    "name": "ipython",
    "version": 3
   },
   "file_extension": ".py",
   "mimetype": "text/x-python",
   "name": "python",
   "nbconvert_exporter": "python",
   "pygments_lexer": "ipython3",
   "version": "3.7.4"
  }
 },
 "nbformat": 4,
 "nbformat_minor": 4
}
