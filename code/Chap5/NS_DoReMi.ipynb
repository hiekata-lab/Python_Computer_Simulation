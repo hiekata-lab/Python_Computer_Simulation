{
 "cells": [
  {
   "cell_type": "markdown",
   "metadata": {},
   "source": [
    "# ドレミファソラシドを鳴らす\n",
    "音を鳴らすためには次のパッケージを用いる。   \n",
    "PyAudio https://people.csail.mit.edu/hubert/pyaudio/ \n",
    "\n",
    "備考：国によって「音名」と「階名」の呼び方は異なる。  \n",
    "日本人が良く知っているのは音名であり，これはイタリア語が由来である。<br>\n",
    "イタリア語の呼び方は，ドレミファソラシド（Do, Re, Mi, Fa, Sol, La, Si）<br>\n",
    "ドイツ語では　C（ツェー），D（デー），E（エー），F（エフ），G（ゲー），A（アー），H（ハー）<br>\n",
    "英語では，C,D,E,F,G,A,Bである。<br>\n",
    "Wikipedia https://en.wikipedia.org/wiki/Key_signature_names_and_translations <br>\n",
    "YAMAHA コードについて学ぶ https://jp.yamaha.com/services/music_pal/study/chord/index.html<br>\n",
    "YAMAHA 楽譜について学ぶ  https://jp.yamaha.com/services/music_pal/study/score/index.html"
   ]
  },
  {
   "cell_type": "code",
   "execution_count": null,
   "metadata": {},
   "outputs": [],
   "source": [
    "# -*- coding: utf-8 -*-\n",
    "import numpy as np\n",
    "import pyaudio"
   ]
  },
  {
   "cell_type": "markdown",
   "metadata": {},
   "source": [
    "#### 十二平均律　 twelve-tone equal temperament\n",
    "http://stby.jp/heikinritu.html<br>\n",
    "https://en.wikipedia.org/wiki/Equal_temperament"
   ]
  },
  {
   "cell_type": "code",
   "execution_count": null,
   "metadata": {},
   "outputs": [],
   "source": [
    "base = 440 # A\n",
    "r12 = 2**(1/12) # rate of twelve-tone equal temperament\n",
    "# Pitch Names: C, D, E, F, G, A(base), B, C (English Form)\n",
    "Pname = [base/(r12**9), base/(r12**7), base/(r12**5), base/(r12**4), base/(r12**2), \\\n",
    "                base, base*(r12**2), base*(r12**3)]\n",
    "Pname"
   ]
  },
  {
   "cell_type": "code",
   "execution_count": null,
   "metadata": {},
   "outputs": [],
   "source": [
    "SRATE = 44100  # Sampling rate\n",
    "BPM  = 100    # Beats Per Minute\n",
    "N4   = 60/BPM # 4分音符, Quarter note\n",
    "N1, N2, N8 = 4*N4, 2*N4, N4/2\n",
    "print(N1, N2, N4, N8)"
   ]
  },
  {
   "cell_type": "code",
   "execution_count": null,
   "metadata": {},
   "outputs": [],
   "source": [
    "# Make a sine wave\n",
    "def makeSineWave(freq, length, amp):\n",
    "#    slen = int(length * SRATE)\n",
    "#    t = float(freq) * np.pi * 2 / SRATE\n",
    "#    return np.sin(np.arange(slen) * t) * amp\n",
    "    nsample = np.arange(int(length*SRATE)) # the number of sampling\n",
    "    return amp*np.sin((2*np.pi*float(freq)/SRATE)*nsample)\n",
    "\n",
    "\n",
    "# Play\n",
    "def play_wave(stream, samples):\n",
    "    stream.write(samples.astype(np.float32).tostring())\n",
    "    \n",
    "# PyAudioのストリームを開く\n",
    "p = pyaudio.PyAudio()\n",
    "stream = p.open(format=pyaudio.paFloat32, channels=1, rate=SRATE,\n",
    "                frames_per_buffer=1024, output=True)"
   ]
  },
  {
   "cell_type": "markdown",
   "metadata": {},
   "source": [
    "#### 1音ずつ鳴らす"
   ]
  },
  {
   "cell_type": "code",
   "execution_count": null,
   "metadata": {},
   "outputs": [],
   "source": [
    "play_wave(stream, makeSineWave(Pname[0], N4, 1.0))\n",
    "play_wave(stream, makeSineWave(Pname[2], N4, 1.0))\n",
    "play_wave(stream, makeSineWave(Pname[1], N4, 1.0))\n",
    "play_wave(stream, makeSineWave(Pname[4], N4*3, 1.0))\n",
    "play_wave(stream, makeSineWave(Pname[4], N4, 1.0))\n",
    "play_wave(stream, makeSineWave(Pname[1], N4, 1.0))\n",
    "play_wave(stream, makeSineWave(Pname[2], N4, 1.0))\n",
    "play_wave(stream, makeSineWave(Pname[0], N4*3, 1.0))"
   ]
  },
  {
   "cell_type": "code",
   "execution_count": null,
   "metadata": {},
   "outputs": [],
   "source": []
  },
  {
   "cell_type": "code",
   "execution_count": null,
   "metadata": {},
   "outputs": [],
   "source": []
  },
  {
   "cell_type": "markdown",
   "metadata": {},
   "source": [
    "#### 和音（ドミソ）を鳴らす"
   ]
  },
  {
   "cell_type": "code",
   "execution_count": null,
   "metadata": {},
   "outputs": [],
   "source": [
    "def makeChord(t):\n",
    "    nsample = np.arange(int(t*SRATE))\n",
    "#    chd = np.zeros(int(t*SRATE))\n",
    "    c = np.sin( (2*np.pi*Pname[0]/SRATE)*nsample)\n",
    "    e = np.sin( (2*np.pi*Pname[2]/SRATE)*nsample)\n",
    "    g = np.sin( (2*np.pi*Pname[4]/SRATE)*nsample)\n",
    "    chd = (c+e+g)/np.max(c+e+g) # Normalization\n",
    "    return chd"
   ]
  },
  {
   "cell_type": "code",
   "execution_count": null,
   "metadata": {},
   "outputs": [],
   "source": [
    "play_wave(stream, makeChord(2))"
   ]
  },
  {
   "cell_type": "code",
   "execution_count": null,
   "metadata": {},
   "outputs": [],
   "source": []
  }
 ],
 "metadata": {
  "kernelspec": {
   "display_name": "Python 3",
   "language": "python",
   "name": "python3"
  },
  "language_info": {
   "codemirror_mode": {
    "name": "ipython",
    "version": 3
   },
   "file_extension": ".py",
   "mimetype": "text/x-python",
   "name": "python",
   "nbconvert_exporter": "python",
   "pygments_lexer": "ipython3",
   "version": "3.7.4"
  }
 },
 "nbformat": 4,
 "nbformat_minor": 2
}
