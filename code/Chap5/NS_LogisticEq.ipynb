{
 "cells": [
  {
   "cell_type": "markdown",
   "metadata": {},
   "source": [
    "# ロジスティック方程式のカオス性\n",
    "https://ja.wikipedia.org/wiki/ロジスティック写像"
   ]
  },
  {
   "cell_type": "code",
   "execution_count": null,
   "metadata": {},
   "outputs": [],
   "source": [
    "# -*- coding: utf-8 -*-\n",
    "import numpy as np\n",
    "import matplotlib.pyplot as plt\n",
    "\n",
    "%matplotlib inline"
   ]
  },
  {
   "cell_type": "code",
   "execution_count": null,
   "metadata": {},
   "outputs": [],
   "source": [
    "a_list = [1.25, 2.85, 3.1, 3.5, 3.7, 4]\n",
    "num = 60\n",
    "x0 = 0.01\n",
    "xarr = np.zeros((6,num))\n",
    "\n",
    "for i in range(6):\n",
    "    xarr[i,0] = x0\n",
    "    a = a_list[i]\n",
    "    for k in range(1,num):\n",
    "        xarr[i,k] = a*xarr[i,k-1]*(1-xarr[i,k-1])"
   ]
  },
  {
   "cell_type": "code",
   "execution_count": null,
   "metadata": {},
   "outputs": [],
   "source": [
    "fig, ax = plt.subplots(nrows=3, ncols=2, figsize=(14,12))\n",
    "#titles=['a='+str(a[0]),'Norm(2,1)','Binom(10,0.3)','Poisson(4)']\n",
    "\n",
    "for i in range(6):\n",
    "    ncol=i//2; nrow=i%2 # 切捨て除算，剰余\n",
    "    ax[ncol, nrow].plot(xarr[i,1:], color='k')\n",
    "    ax[ncol, nrow].set_title('a='+str(a_list[i]))\n",
    "\n",
    "#plt.savefig('fig_NS_Chaos_LogisticBehavior.png', bbox_inches='tight')\n",
    "plt.show()"
   ]
  },
  {
   "cell_type": "markdown",
   "metadata": {},
   "source": [
    "## 初期値への敏感性"
   ]
  },
  {
   "cell_type": "code",
   "execution_count": null,
   "metadata": {},
   "outputs": [],
   "source": [
    "a = 4.0\n",
    "xarr2 = np.zeros((2,num))\n",
    "x0_list = [0.01, 0.010001]\n",
    "for i in range(2):\n",
    "    xarr2[i,0] = x0_list[i]\n",
    "    for k in range(1,num):\n",
    "        xarr2[i,k] = a*xarr2[i,k-1]*(1-xarr2[i,k-1])\n",
    "\n",
    "fig, ax = plt.subplots(ncols=2, figsize=(14,4))\n",
    "for i in range(2):\n",
    "    ax[i].plot(xarr2[i,1:], color='k')\n",
    "    ax[i].set_title('x0='+str(x0_list[i]))\n",
    "\n",
    "    \n",
    "#plt.savefig('fig_NS_LogisticInitVal.png', bbox_inches='tight')\n",
    "plt.show()"
   ]
  },
  {
   "cell_type": "markdown",
   "metadata": {},
   "source": [
    "## ロジスティック写像（Logistic map）\n",
    "https://qiita.com/jabberwocky0139/items/33add5b3725204ad377f\n",
    "\n",
    "http://nworks.hateblo.jp/entry/2016/12/04/152143\n",
    "https://ja.wikipedia.org/wiki/ロジスティック写像"
   ]
  },
  {
   "cell_type": "code",
   "execution_count": null,
   "metadata": {
    "scrolled": false
   },
   "outputs": [],
   "source": [
    "fig = plt.subplots(figsize=(7,4))\n",
    "\n",
    "n = 200\n",
    "npick = 50\n",
    "for a in np.linspace(1, 4, 1000):\n",
    "    x = [0.01]\n",
    "    for i in range(n):\n",
    "        x.append(a * x[i] * (1-x[i]))\n",
    "    plt.plot([a]*npick, x[-npick:], 'b.', markersize=0.5)\n",
    "\n",
    "plt.xlabel('a')\n",
    "plt.ylabel('x[npick]')\n",
    "plt.title('n='+str(n)+'  npick='+str(npick))\n",
    "\n",
    "#plt.savefig('fig_NS_LogisticMap.png', bbox_inches='tight')\n",
    "plt.show()"
   ]
  },
  {
   "cell_type": "code",
   "execution_count": null,
   "metadata": {},
   "outputs": [],
   "source": [
    "fig = plt.subplots(figsize=(7,6))\n",
    "\n",
    "n = 800\n",
    "npick = 200\n",
    "for a in np.linspace(3.5, 4, 1000):\n",
    "    x = [0.01]\n",
    "    for i in range(n):\n",
    "        x.append(a * x[i] * (1-x[i]))\n",
    "    plt.plot([a]*npick, x[-npick:], 'c.', markersize=0.2, alpha=0.5)\n",
    "\n",
    "plt.xlabel('a')\n",
    "plt.ylabel('x[npick]')\n",
    "plt.title('n='+str(n)+'  npick='+str(npick))\n",
    "\n",
    "#plt.savefig('fig_NS_LogisticMap2.png', bbox_inches='tight')\n",
    "plt.show()"
   ]
  },
  {
   "cell_type": "code",
   "execution_count": null,
   "metadata": {},
   "outputs": [],
   "source": []
  }
 ],
 "metadata": {
  "kernelspec": {
   "display_name": "Python 3",
   "language": "python",
   "name": "python3"
  },
  "language_info": {
   "codemirror_mode": {
    "name": "ipython",
    "version": 3
   },
   "file_extension": ".py",
   "mimetype": "text/x-python",
   "name": "python",
   "nbconvert_exporter": "python",
   "pygments_lexer": "ipython3",
   "version": "3.7.4"
  }
 },
 "nbformat": 4,
 "nbformat_minor": 2
}
