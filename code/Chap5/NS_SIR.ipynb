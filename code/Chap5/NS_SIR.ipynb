{
 "cells": [
  {
   "cell_type": "markdown",
   "metadata": {},
   "source": [
    "# SIRモデル\n",
    "https://ja.wikipedia.org/wiki/SIRモデル<br>\n",
    "https://www.ms.u-tokyo.ac.jp/~inaba/inaba_science_2008.pdf"
   ]
  },
  {
   "cell_type": "code",
   "execution_count": null,
   "metadata": {},
   "outputs": [],
   "source": [
    "# -*- coding: utf-8 -*-\n",
    "import numpy as np  \n",
    "from scipy.integrate import solve_ivp  \n",
    "\n",
    "import matplotlib.pyplot as plt  \n",
    "%matplotlib inline"
   ]
  },
  {
   "cell_type": "code",
   "execution_count": null,
   "metadata": {},
   "outputs": [],
   "source": [
    "def odeSIR(t, y, beta, gamma):\n",
    "    dS = -beta*y[0]*y[1]\n",
    "    dI =  beta*y[0]*y[1] - gamma*y[1]\n",
    "    dR =  gamma*y[1]\n",
    "    return [dS, dI, dR]"
   ]
  },
  {
   "cell_type": "code",
   "execution_count": null,
   "metadata": {},
   "outputs": [],
   "source": [
    "beta, gamma = 0.01, 0.5\n",
    "Tend = 10.0\n",
    "coef = 1 # 1, 3, 5\n",
    "S0 = coef*gamma/beta\n",
    "I0 = 10\n",
    "R0 = 0\n",
    "\n",
    "sol = solve_ivp(fun=odeSIR, t_span=[0, Tend], y0=[S0, I0, R0], args=[beta, gamma], dense_output=True) "
   ]
  },
  {
   "cell_type": "code",
   "execution_count": null,
   "metadata": {
    "scrolled": false
   },
   "outputs": [],
   "source": [
    "#print(sol)\n",
    "#print(sol.t.size)"
   ]
  },
  {
   "cell_type": "code",
   "execution_count": null,
   "metadata": {},
   "outputs": [],
   "source": [
    "#yの出力\n",
    "print(sol.y[0].size, sol.y[1].size)\n",
    "print(sol.y)"
   ]
  },
  {
   "cell_type": "code",
   "execution_count": null,
   "metadata": {},
   "outputs": [],
   "source": [
    "# 連続値を取得する　今回は区間を100分割してる  \n",
    "tc = np.linspace(0, Tend, 100)  \n",
    "yc = sol.sol(tc)"
   ]
  },
  {
   "cell_type": "code",
   "execution_count": null,
   "metadata": {},
   "outputs": [],
   "source": [
    "print(len(tc), len(yc))"
   ]
  },
  {
   "cell_type": "code",
   "execution_count": null,
   "metadata": {},
   "outputs": [],
   "source": []
  },
  {
   "cell_type": "code",
   "execution_count": null,
   "metadata": {
    "scrolled": true
   },
   "outputs": [],
   "source": [
    "plt.plot(tc, yc.T)"
   ]
  },
  {
   "cell_type": "code",
   "execution_count": null,
   "metadata": {},
   "outputs": [],
   "source": [
    "S0 = 1*gamma/beta\n",
    "sol1 = solve_ivp(fun=odeSIR, t_span=[0, Tend], y0=[S0, I0, R0], args=[beta, gamma], dense_output=True) \n",
    "S0 = 3*gamma/beta\n",
    "sol3 = solve_ivp(fun=odeSIR, t_span=[0, Tend], y0=[S0, I0, R0], args=[beta, gamma], dense_output=True) \n",
    "S0 = 5*gamma/beta\n",
    "sol5 = solve_ivp(fun=odeSIR, t_span=[0, Tend], y0=[S0, I0, R0], args=[beta, gamma], dense_output=True) "
   ]
  },
  {
   "cell_type": "code",
   "execution_count": null,
   "metadata": {},
   "outputs": [],
   "source": [
    "print(gamma/beta, 3*gamma/beta, 5*gamma/beta)"
   ]
  },
  {
   "cell_type": "code",
   "execution_count": null,
   "metadata": {},
   "outputs": [],
   "source": [
    "tc = np.linspace(0, Tend, 100)  \n",
    "yc1 = sol1.sol(tc)\n",
    "yc3 = sol3.sol(tc)\n",
    "yc5 = sol5.sol(tc)"
   ]
  },
  {
   "cell_type": "code",
   "execution_count": null,
   "metadata": {},
   "outputs": [],
   "source": [
    "fig, axs = plt.subplots(nrows=2, figsize=(10,6))\n",
    "\n",
    "axs[0].plot(tc, yc1[0].T, label='S0=gamma/beta', c='k')\n",
    "axs[0].plot(tc, yc3[0].T, label='S0=3*gamma/beta', c='b')\n",
    "axs[0].plot(tc, yc5[0].T, label='S0=5*gamma/beta', c='r')\n",
    "axs[0].set_xlabel(\"$t$\")  \n",
    "axs[0].set_ylabel(\"$S$\")\n",
    "axs[0].grid()\n",
    "axs[0].legend()\n",
    "\n",
    "axs[1].plot(tc, yc1[1].T, label='S0=gamma/beta', c='k')\n",
    "axs[1].plot(tc, yc3[1].T, label='S0=3*gamma/beta', c='b')\n",
    "axs[1].plot(tc, yc5[1].T, label='S0=5*gamma/beta', c='r')\n",
    "axs[1].set_xlabel(\"$t$\")  \n",
    "axs[1].set_ylabel(\"$I$\")\n",
    "axs[1].grid()\n",
    "axs[1].legend()\n",
    "\n",
    "#plt.savefig('fig_NS_SIR_01.png', bbox_inches='tight')\n",
    "plt.show()"
   ]
  },
  {
   "cell_type": "code",
   "execution_count": null,
   "metadata": {},
   "outputs": [],
   "source": [
    "fig = plt.subplots(figsize=(7,5))\n",
    "plt.plot(yc1[0].T, yc1[1].T, label='S0=gamma/beta', c='k')\n",
    "plt.plot(yc3[0].T, yc3[1].T, label='S0=3*gamma/beta', c='b')\n",
    "plt.plot(yc5[0].T, yc5[1].T, label='S0=5*gamma/beta', c='r')\n",
    "plt.xlabel(\"$S$\")  \n",
    "plt.ylabel(\"$I$\")\n",
    "plt.grid()\n",
    "plt.legend()\n",
    "\n",
    "#plt.savefig('fig_NS_SIR_02.png', bbox_inches='tight')\n",
    "plt.show()"
   ]
  },
  {
   "cell_type": "code",
   "execution_count": null,
   "metadata": {},
   "outputs": [],
   "source": []
  },
  {
   "cell_type": "code",
   "execution_count": null,
   "metadata": {},
   "outputs": [],
   "source": [
    "beta = 0.01\n",
    "gamma = 0.5\n",
    "\n",
    "I0 = 10\n",
    "R0 = 0\n",
    "color = ['k', 'b', 'r']\n",
    "color_id = 0\n",
    "\n",
    "\n",
    "for coef in [1, 3, 5]:\n",
    "    S0 = coef*(gamma/beta)\n",
    "    s_val = np.arange(1., S0, 0.1)\n",
    "    const = (S0+I0 - (gamma/beta)*np.log(S0))\n",
    "    print(coef, S0, const)\n",
    "    i_val = -s_val + (gamma/beta)*np.log(s_val) + const\n",
    "    plt.plot(s_val, i_val, label='coef='+str(coef), c=color[color_id])\n",
    "    color_id+=1\n",
    "\n",
    "plt.xlabel('$S$')\n",
    "plt.ylabel('$I$')\n",
    "plt.ylim(0.0, 140.)\n",
    "plt.grid()\n",
    "plt.legend()\n",
    "\n",
    "plt.vlines(x=gamma/beta, ymin=0, ymax=140, linestyle='dashed')\n",
    "\n",
    "\n",
    "#plt.savefig('fig_NS_SIR_Analysis.png', bbox_inches='tight')\n",
    "plt.show()"
   ]
  },
  {
   "cell_type": "code",
   "execution_count": null,
   "metadata": {},
   "outputs": [],
   "source": []
  }
 ],
 "metadata": {
  "kernelspec": {
   "display_name": "Python 3",
   "language": "python",
   "name": "python3"
  },
  "language_info": {
   "codemirror_mode": {
    "name": "ipython",
    "version": 3
   },
   "file_extension": ".py",
   "mimetype": "text/x-python",
   "name": "python",
   "nbconvert_exporter": "python",
   "pygments_lexer": "ipython3",
   "version": "3.7.4"
  }
 },
 "nbformat": 4,
 "nbformat_minor": 4
}
