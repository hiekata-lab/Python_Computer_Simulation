{
 "cells": [
  {
   "cell_type": "markdown",
   "metadata": {},
   "source": [
    "# 捕食・被捕食モデル(predator–prey)，Lotka–Volterra equations"
   ]
  },
  {
   "cell_type": "code",
   "execution_count": null,
   "metadata": {},
   "outputs": [],
   "source": [
    "# -*- coding: utf-8 -*-\n",
    "import numpy as np  \n",
    "from scipy.integrate import solve_ivp  \n",
    "\n",
    "import matplotlib.pyplot as plt  \n",
    "%matplotlib inline"
   ]
  },
  {
   "cell_type": "code",
   "execution_count": null,
   "metadata": {},
   "outputs": [],
   "source": [
    "def odePre(t, y, a, b, c, d):\n",
    "    dx =  a*y[0] - b*y[0]*y[1]\n",
    "    dy = -c*y[1] + d*y[0]*y[1]\n",
    "    return [dx, dy]"
   ]
  },
  {
   "cell_type": "code",
   "execution_count": null,
   "metadata": {},
   "outputs": [],
   "source": [
    "a, b, c, d = 2, 1, 3, 1\n",
    "x0, y0 = 5, 1\n",
    "Tend = 10.0\n",
    "\n",
    "sol = solve_ivp(fun=odePre, t_span=[0, Tend], y0=[x0, y0], args=[a, b, c, d], dense_output=True) \n",
    "tc = np.linspace(0, Tend, 100)  \n",
    "yc = sol.sol(tc)"
   ]
  },
  {
   "cell_type": "code",
   "execution_count": null,
   "metadata": {
    "scrolled": true
   },
   "outputs": [],
   "source": [
    "fig, axs = plt.subplots(ncols=2, figsize=(14,4))\n",
    "axs[0].plot(tc, yc[0].T, label='x', c='k')\n",
    "axs[0].plot(tc, yc[1].T, label='y', c='b')\n",
    "axs[0].set_xlabel('t')\n",
    "axs[0].legend()\n",
    "axs[0].grid()\n",
    "\n",
    "axs[1].plot(yc[0].T, yc[1].T, c='k')\n",
    "axs[1].set_xlabel('x')\n",
    "axs[1].set_ylabel('y')\n",
    "axs[1].grid()\n",
    "meanx = c/d\n",
    "meany = a/b\n",
    "axs[1].scatter(meanx, meany, s=30, c='r', marker='o')\n",
    "\n",
    "#plt.savefig('fig_NS_PredatorPrey_01.png', bbox_inches='tight')\n",
    "plt.show()"
   ]
  },
  {
   "cell_type": "markdown",
   "metadata": {},
   "source": [
    "## 釣りを考慮した例"
   ]
  },
  {
   "cell_type": "code",
   "execution_count": null,
   "metadata": {},
   "outputs": [],
   "source": [
    "a, b, c, d = 2, 1, 3, 1\n",
    "eps = 0.1\n",
    "Tend = 10.0\n",
    "x0, y0 = 5, 1"
   ]
  },
  {
   "cell_type": "code",
   "execution_count": null,
   "metadata": {},
   "outputs": [],
   "source": [
    "def odePre2(t, y, a, b, c, d, eps):\n",
    "    dx =  a*y[0] - b*y[0]*y[1] - eps*y[0]\n",
    "    dy = -c*y[1] + d*y[0]*y[1] - eps*y[1]\n",
    "    return [dx, dy]"
   ]
  },
  {
   "cell_type": "code",
   "execution_count": null,
   "metadata": {},
   "outputs": [],
   "source": [
    "sol2 = solve_ivp(fun=odePre2, t_span=[0, Tend], y0=[x0, y0], args=[a, b, c, d, eps], dense_output=True) \n",
    "tc = np.linspace(0, Tend, 100)  \n",
    "yc2 = sol2.sol(tc)"
   ]
  },
  {
   "cell_type": "code",
   "execution_count": null,
   "metadata": {},
   "outputs": [],
   "source": [
    "fig, axs = plt.subplots(ncols=2, figsize=(14,4))\n",
    "axs[0].plot(tc, yc2[0].T, label='x', c='k')\n",
    "axs[0].plot(tc, yc2[1].T, label='y', c='b')\n",
    "axs[0].set_xlabel('t')\n",
    "axs[0].legend()\n",
    "axs[0].grid()\n",
    "\n",
    "axs[1].plot(yc2[0].T, yc2[1].T, c='k')\n",
    "axs[1].set_xlabel('x')\n",
    "axs[1].set_ylabel('y')\n",
    "axs[1].grid()\n",
    "\n",
    "meanx = (c+eps)/d\n",
    "meany = (a-eps)/b\n",
    "axs[1].scatter(meanx, meany, s=30, c='r', marker='o')\n",
    "\n",
    "\n",
    "#plt.savefig('fig_NS_PredatorPrey_02.png', bbox_inches='tight')\n",
    "plt.show()"
   ]
  },
  {
   "cell_type": "code",
   "execution_count": null,
   "metadata": {},
   "outputs": [],
   "source": []
  }
 ],
 "metadata": {
  "kernelspec": {
   "display_name": "Python 3",
   "language": "python",
   "name": "python3"
  },
  "language_info": {
   "codemirror_mode": {
    "name": "ipython",
    "version": 3
   },
   "file_extension": ".py",
   "mimetype": "text/x-python",
   "name": "python",
   "nbconvert_exporter": "python",
   "pygments_lexer": "ipython3",
   "version": "3.7.4"
  }
 },
 "nbformat": 4,
 "nbformat_minor": 4
}
