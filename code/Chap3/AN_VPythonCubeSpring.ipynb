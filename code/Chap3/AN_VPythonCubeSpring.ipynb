{
 "cells": [
  {
   "cell_type": "markdown",
   "metadata": {},
   "source": [
    "# 実行時の注意\n",
    "JupyterLabを起動してからアニメーションが現れないときは，いったん終了して，<br>\n",
    "Jupyter notebookを起動してから１セル枚に実行してみください。<br>\n",
    "2020年9月現在，JupyterLabのグラフィックス表示機能やIPythonはまだ完全に作動していないようです。"
   ]
  },
  {
   "cell_type": "markdown",
   "metadata": {},
   "source": [
    "# VPythonを用いたアニメーション\n",
    "立方体・バネ系，微分方程式を用いず，単なる単振動運動とした。<br>"
   ]
  },
  {
   "cell_type": "code",
   "execution_count": null,
   "metadata": {
    "scrolled": true
   },
   "outputs": [],
   "source": [
    "# -*- coding: utf-8 -*-\n",
    "import numpy as np\n",
    "import vpython as vp\n",
    "\n",
    "%matplotlib inline"
   ]
  },
  {
   "cell_type": "markdown",
   "metadata": {},
   "source": [
    "#### VPython 文法\n",
    "・ワールド座標系は右手系<br>\n",
    "・canvas: あるキャンバス（sceneとも言う）を作成して，この中でアニメーション用のオブジェﾄを描画する。呼出す毎に新たなキャンバスが作成されるので，アニメーションのリスタート時にこれを呼ぶこと<br>\n",
    "・https://www.glowscript.org/docs/VPythonDocs/canvas.html<br>\n",
    "・box:箱を描く，https://www.glowscript.org/docs/VPythonDocs/box.html<br>\n",
    "・helix:バネを描く，https://www.glowscript.org/docs/VPythonDocs/helix.html<br>\n",
    "・color: https://www.glowscript.org/docs/VPythonDocs/color.html<br>"
   ]
  },
  {
   "cell_type": "markdown",
   "metadata": {},
   "source": [
    "#### アニメーションの設計\n",
    "・視点はデフォルトのままとする。すなわち，右が+x, 上が+y，奥行きが-z軸方向<br>\n",
    "・立方体の底面の中心を原点（0,0,0）に一致させ，これに適するように床，壁，スプリングを配置する。"
   ]
  },
  {
   "cell_type": "code",
   "execution_count": null,
   "metadata": {},
   "outputs": [],
   "source": [
    "# キャンバスの作成\n",
    "scene = vp.canvas(width=600, height=300, title='Cube-Spring') # Enable to restart\n",
    "# 3次元空間内の原点を見るために，球を原点に配置。\n",
    "orig = vp.sphere(pos=vp.vector(0,0,0), radius=0.1, color=vp.color.red)\n",
    "# オブジェクトの作成\n",
    "# 立方体\n",
    "cube_size = 1\n",
    "cube = vp.box(size=vp.vector(cube_size, cube_size, cube_size), color=vp.color.orange)\n",
    "cube.pos = vp.vector(0, cube.height/2, 0)\n",
    "# 床\n",
    "floor = vp.box(length=5.0, height=0.1, width=cube_size+0.2, color=vp.color.green)\n",
    "floor.pos = vp.vector(0, -floor.height/2, 0)\n",
    "# 壁\n",
    "wall  = vp.box(length=0.1, height=1.5, width=floor.width, color=vp.color.yellow)\n",
    "wall.pos = vp.vector((-wall.length/2-floor.length/2), (wall.height/2 - floor.height) , 0)\n",
    "\n",
    "#equi_length = box_size/2+floor.height/2 #バネの自然長\n",
    "#wall_surface_pos = cube_size/2+floor.height/2\n",
    "\n",
    "# バネ\n",
    "spring_pos_wall = vp.vector((wall.pos.x+wall.length/2), cube.pos.y, cube.pos.z )\n",
    "spring_pos_cube = vp.vector( (cube.pos.x-cube.length/2), cube.pos.y, cube.pos.z)\n",
    "spring = vp.helix(pos=spring_pos_wall, axis=(spring_pos_cube - spring_pos_wall), \n",
    "                  radius=0.2,     # バネ径の半径\n",
    "                  thickness=0.05, # バネ寸法\n",
    "                  coils=8,        # バネ巻数\n",
    "                  color=vp.vector(0, 1, 1) # cyan\n",
    "                 )\n",
    "\n",
    "def func_pos(k):\n",
    "    return np.sin(k*0.1)\n",
    "\n",
    "for k in range(100):\n",
    "    vp.sleep(0.1)\n",
    "    x_pos = func_pos(k)\n",
    "    cube.pos = vp.vector(x_pos, cube.pos.y, 0)\n",
    "    spring_pos_cube = vp.vector( (cube.pos.x-cube.length/2), cube.pos.y, cube.pos.z)\n",
    "    spring.axis = spring_pos_cube - spring_pos_wall"
   ]
  },
  {
   "cell_type": "code",
   "execution_count": null,
   "metadata": {},
   "outputs": [],
   "source": [
    "# https://www.glowscript.org/docs/VPythonDocs/canvas.html\n",
    "#アニメーション図の保存\n",
    "#scene.capture('fig_AN_CubeSpring.png')"
   ]
  },
  {
   "cell_type": "code",
   "execution_count": null,
   "metadata": {},
   "outputs": [],
   "source": []
  }
 ],
 "metadata": {
  "kernelspec": {
   "display_name": "Python 3",
   "language": "python",
   "name": "python3"
  },
  "language_info": {
   "codemirror_mode": {
    "name": "ipython",
    "version": 3
   },
   "file_extension": ".py",
   "mimetype": "text/x-python",
   "name": "python",
   "nbconvert_exporter": "python",
   "pygments_lexer": "ipython3",
   "version": "3.7.4"
  }
 },
 "nbformat": 4,
 "nbformat_minor": 4
}
