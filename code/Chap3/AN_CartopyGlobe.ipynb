{
 "cells": [
  {
   "cell_type": "markdown",
   "metadata": {},
   "source": [
    "# 回転する地球儀のアニメーション\n",
    "## cartopy\n",
    "HP: https://scitools.org.uk/cartopy/<br>\n",
    "Install: https://scitools.org.uk/cartopy/docs/latest/installing.html  \n",
    "投影：https://scitools.org.uk/cartopy/docs/latest/crs/projections.html"
   ]
  },
  {
   "cell_type": "code",
   "execution_count": null,
   "metadata": {},
   "outputs": [],
   "source": [
    "# -*- coding: utf-8 -*-\n",
    "import cartopy.crs as ccrs\n",
    "import matplotlib.pyplot as plt\n",
    "import matplotlib.animation as animation\n",
    "%matplotlib nbagg"
   ]
  },
  {
   "cell_type": "code",
   "execution_count": null,
   "metadata": {},
   "outputs": [],
   "source": [
    "fig = plt.figure(figsize=(4,4))\n",
    "\n",
    "def update(k, fig_title):\n",
    "    plt.cla()\n",
    "    ax = plt.axes(projection=ccrs.Orthographic(central_longitude=(-k), central_latitude=0))\n",
    "#    ax.stock_img() # 地球に色を付ける。しかし，かなり遅くなる。\n",
    "    ax.coastlines()\n",
    "    plt.title(fig_title)\n",
    "\n",
    "ani = animation.FuncAnimation(fig, update, fargs=('Globe',), interval=1, frames=270, repeat=False)\n",
    "plt.show()"
   ]
  },
  {
   "cell_type": "code",
   "execution_count": null,
   "metadata": {},
   "outputs": [],
   "source": [
    "#plt.savefig('fig_Anima_CartopyEarth.png')"
   ]
  },
  {
   "cell_type": "code",
   "execution_count": null,
   "metadata": {},
   "outputs": [],
   "source": []
  }
 ],
 "metadata": {
  "kernelspec": {
   "display_name": "Python 3",
   "language": "python",
   "name": "python3"
  },
  "language_info": {
   "codemirror_mode": {
    "name": "ipython",
    "version": 3
   },
   "file_extension": ".py",
   "mimetype": "text/x-python",
   "name": "python",
   "nbconvert_exporter": "python",
   "pygments_lexer": "ipython3",
   "version": "3.7.9"
  }
 },
 "nbformat": 4,
 "nbformat_minor": 2
}
