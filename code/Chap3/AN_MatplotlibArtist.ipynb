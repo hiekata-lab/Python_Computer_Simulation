{
 "cells": [
  {
   "cell_type": "markdown",
   "metadata": {},
   "source": [
    "# 実行時の注意\n",
    "JupyterLabを起動してからアニメーションが現れないときは，いったん終了して，<br>\n",
    "Jupyter notebookを起動してから１セル毎に実行してみてください。<br>\n",
    "2020年9月現在，JupyterLabのグラフィックス表示機能やIPythonはまだ完全に作動していないようです。"
   ]
  },
  {
   "cell_type": "markdown",
   "metadata": {},
   "source": [
    "# matplotlibを用いたアニメーション\n",
    "matplotlib.animationを用いる<br>\n",
    "ドキュメント https://matplotlib.org/api/animation_api.html<br>\n",
    "ここに，2種のアニメーション方法があり，ここでは1番目のArtistAnimationを説明する。<br>\n",
    "1. 全部描画したフレームを複数枚、順次表示する。<br>\n",
    "ArtistAnimationを用いる。<br>\n",
    "https://matplotlib.org/api/_as_gen/matplotlib.animation.ArtistAnimation.html<br>\n",
    "2. 逐次的にプロット<br>\n",
    "FuncAnimationを用いる。<br>\n",
    "https://matplotlib.org/api/_as_gen/matplotlib.animation.FuncAnimation.html<br>\n"
   ]
  },
  {
   "cell_type": "markdown",
   "metadata": {},
   "source": [
    "### 幾つかのアニメーション基本文法"
   ]
  },
  {
   "cell_type": "markdown",
   "metadata": {},
   "source": [
    "#### マジックコマンド nbagg\n",
    "IPython Notebook上でインタラクティブな画像表示を実現するための機能 https://matplotlib.org/3.1.3/users/prev_whats_new/whats_new_1.4.html<br>\n",
    "マジックコマンドリスト：https://ipython.readthedocs.io/en/stable/interactive/magics.html<br>\n",
    "マジックコマンド一覧の表示：%lsmagic"
   ]
  },
  {
   "cell_type": "markdown",
   "metadata": {},
   "source": [
    "#### plt.cla(), plt.clf(), plt.close()の違い\n",
    "https://matplotlib.org/api/pyplot_api.html <br>\n",
    "plt.cla()   # Clear Axes，現在のFigureの現在のアクティブなAxesをクリアする。<br>\n",
    "plt.clf()   # Clear Figure，現在の図形全体をクリアする。<br>\n",
    "plt.close() # Clear a Figure window，現在のグラフ用ウィンドウをクローズする。<br>"
   ]
  },
  {
   "cell_type": "markdown",
   "metadata": {},
   "source": [
    "#### ArtistAnimationとFuncAnimationの引数について共通的なものの説明\n",
    "interval: 描画に関する手続き（関数呼び出しなど）間のインターバル時間[ms]<br>\n",
    "frames:描画するフレームの数<br>\n",
    "repeat:Trueはフレームの最後を描画した後に繰返す。Falseは繰返さない<br>\n",
    "blit:Trueでオン，Falseでオフ。CGでは古くからある描画の高速化手法である。幾つかの要件があり，また，コールバックの仕方などが複雑になる<br>\n",
    " ref. https://matplotlib.org/3.2.1/api/animation_api.html<br>\n",
    " ref. Animating selected plot elements in SciPy Cookbook, https://scipy-cookbook.readthedocs.io/items/Matplotlib_Animations.html"
   ]
  },
  {
   "cell_type": "markdown",
   "metadata": {},
   "source": [
    "### アニメーションの保存\n",
    "この機能は照会だけに留め，ここでは用いない。作成したアニメーションをgifや mp4に保存できる。ただし，それぞれ外部ソフトウェア（例えば，gifの場合はImagemagickなど）を用意する必要がある。\n",
    "https://matplotlib.org/3.1.1/api/_as_gen/matplotlib.animation.Animation.html#matplotlib.animation.Animation.save"
   ]
  },
  {
   "cell_type": "markdown",
   "metadata": {},
   "source": [
    "## 例：マークのランダム発生\n",
    "注意：このNotebookの実行は、1セル毎のstep by stepとしてください。アニメーションの実行でcallbackの解除などの問題があるため、\"Run All\"は描画が正しく行われないことがあります。"
   ]
  },
  {
   "cell_type": "code",
   "execution_count": null,
   "metadata": {},
   "outputs": [],
   "source": [
    "# -*- coding: utf-8 -*-\n",
    "import numpy as np\n",
    "import matplotlib.pyplot as plt\n",
    "import matplotlib.animation as animation\n",
    "\n",
    "%matplotlib nbagg"
   ]
  },
  {
   "cell_type": "markdown",
   "metadata": {},
   "source": [
    "#### matplotlib.pyplot.plot \n",
    "https://matplotlib.org/3.2.1/api/_as_gen/matplotlib.pyplot.plot.html<br>\n",
    "matplotlib.markers<br>\n",
    "https://matplotlib.org/api/markers_api.html#module-matplotlib.markers"
   ]
  },
  {
   "cell_type": "code",
   "execution_count": null,
   "metadata": {},
   "outputs": [],
   "source": [
    "fig = plt.figure()\n",
    "imgBuffer = []\n",
    "\n",
    "mark_list = [\"4\", \"8\", \"p\", \"*\", \"x\", \"D\", \"4\", \"8\", \"p\", \"*\"]\n",
    "loop = len(mark_list)\n",
    "num = 8\n",
    "\n",
    "for i in range(loop):\n",
    "    x = np.random.randn(num)\n",
    "    y = np.random.randn(num)\n",
    "    img = plt.plot(x, y, linewidth=0, marker=mark_list[i], markersize=15)\n",
    "    imgBuffer.append(img)\n",
    "\n",
    "\n",
    "# ts [ms]毎にnum毎のグラフの表示を切替えるアニメーション\n",
    "ts = 300\n",
    "ani = animation.ArtistAnimation(fig, imgBuffer, interval=ts, repeat=False)\n",
    "plt.show()"
   ]
  },
  {
   "cell_type": "code",
   "execution_count": null,
   "metadata": {},
   "outputs": [],
   "source": [
    "#plt.savefig('fig_AN_MatplotlibArtist.png')"
   ]
  },
  {
   "cell_type": "code",
   "execution_count": null,
   "metadata": {},
   "outputs": [],
   "source": []
  }
 ],
 "metadata": {
  "kernelspec": {
   "display_name": "Python 3",
   "language": "python",
   "name": "python3"
  },
  "language_info": {
   "codemirror_mode": {
    "name": "ipython",
    "version": 3
   },
   "file_extension": ".py",
   "mimetype": "text/x-python",
   "name": "python",
   "nbconvert_exporter": "python",
   "pygments_lexer": "ipython3",
   "version": "3.7.9"
  }
 },
 "nbformat": 4,
 "nbformat_minor": 4
}
