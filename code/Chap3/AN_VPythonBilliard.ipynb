{
 "cells": [
  {
   "cell_type": "markdown",
   "metadata": {},
   "source": [
    "# 実行時の注意\n",
    "JupyterLabを起動してからアニメーションが現れないときは，いったん終了して，<br>\n",
    "Jupyter notebookを起動してから１セル枚に実行してみください。<br>\n",
    "2020年9月現在，JupyterLabのグラフィックス表示機能やIPythonはまだ完全に作動していないようです。"
   ]
  },
  {
   "cell_type": "markdown",
   "metadata": {},
   "source": [
    "# VPythonを用いたアニメーション\n",
    "ビリヤードの衝突問題"
   ]
  },
  {
   "cell_type": "markdown",
   "metadata": {},
   "source": [
    "座標系：右手系<br>\n",
    "左右はx軸（右方向がプラス，左方向はマイナス），奥行きはz軸（遠方方向がマイナス），高さはy軸<br>\n",
    "テーブル面はxz平面，テーブル面のy座標は0<br>\n",
    "テーブル面の端の中心のxz座標は(0,0)とする<br>\n",
    "VPythonのpos.x, pos.y, pos.z -> Length, Height, Width"
   ]
  },
  {
   "cell_type": "code",
   "execution_count": null,
   "metadata": {
    "scrolled": true
   },
   "outputs": [],
   "source": [
    "# -*- coding: utf-8 -*-\n",
    "import numpy as np\n",
    "import matplotlib.pyplot as plt\n",
    "import vpython as vs\n",
    "\n",
    "%matplotlib inline"
   ]
  },
  {
   "cell_type": "code",
   "execution_count": null,
   "metadata": {
    "scrolled": true
   },
   "outputs": [],
   "source": [
    "# Create Scene\n",
    "scene = vs.canvas(width=600, height=400, title='Animation') # Enable to restart\n",
    "scene.camera.pos  = vs.vector(0, 6, 10)\n",
    "scene.camera.axis = vs.vector(0, -2, -8) - scene.camera.pos\n",
    "\n",
    "# 床の作成，床の真ん中を原点とする\n",
    "floor = vs.box(length=40, height=0.8, width=60, color=vs.color.green)\n",
    "floor.pos = vs.vector( 0, -(floor.height/2), -floor.width/2)\n",
    "\n",
    "# 球の作成\n",
    "ball_radius = 0.5 # 半径\n",
    "\n",
    "# 的球の初期位置のx座標\n",
    "b2_x_init = 2*ball_radius - ball_radius  # theta2 -> 30 [deg]\n",
    "#b2_x_init = 2*ball_radius - 0.59*ball_radius # theta2 -> 45 [deg]\n",
    "#b2_x_init = 2*ball_radius - 0.0076*ball_radius # almost theta2 -> 85 [deg]\n",
    "\n",
    "# 手球b1, 的球b2\n",
    "b1 = vs.sphere(pos=vs.vector(0, ball_radius, 0), radius=ball_radius, \\\n",
    "               color=vs.color.white)\n",
    "b2 = vs.sphere(pos=vs.vector(b2_x_init, ball_radius, -8), radius=ball_radius, \\\n",
    "               color=vs.color.red)\n",
    "# 各パラメータ\n",
    "v1, v2 = 0.4, 0   # 初期速度\n",
    "theta1, theta2=0, 0 # 初期角度\n",
    "c_rest = 0.8 # 反発係数，coefficient of restitution\n",
    "flag = False  # 衝突判定フラグ，Trueは衝突検知\n",
    "\n",
    "def ball_step(ball, v, theta):\n",
    "    coef1 = 1\n",
    "    x = coef1*v*np.sin(theta)\n",
    "    z = -coef1*v*np.cos(theta) # 奥行きがマイナスｚ軸方向ゆえ\"-\"がつく\n",
    "    ball.pos += vs.vector(x, 0, z)\n",
    "\n",
    "def check_collision():\n",
    "#def check_collision(b1, b2, flag):\n",
    "    global b1, b2, flag, v1, v2, theta1, theta2, c_rest\n",
    "    dx = b1.pos.x - b2.pos.x\n",
    "    dz = b1.pos.z - b2.pos.z\n",
    "    d = np.sqrt(dx*dx + dz*dz)\n",
    "    if d <= (b1.radius + b2.radius):\n",
    "        flag = True\n",
    "        theta2 = np.arcsin(-(b1.pos.x-b2.pos.x)/(2*b1.radius) )\n",
    "        theta1 = theta2 - np.pi/2\n",
    "        v2 = 0.5*v1*(1.0 + c_rest)\n",
    "        v1 = 0.5*v1*(1.0 - c_rest)\n",
    "    \n",
    "    \n",
    "for k in range(100):\n",
    "    vs.sleep(0.01)\n",
    "    ball_step(b1, v1, theta1)\n",
    "    ball_step(b2, v2, theta2)\n",
    "    if not flag:\n",
    "        check_collision()"
   ]
  },
  {
   "cell_type": "code",
   "execution_count": null,
   "metadata": {},
   "outputs": [],
   "source": [
    "# https://www.glowscript.org/docs/VPythonDocs/canvas.html\n",
    "#アニメーション図の保存\n",
    "#scene.capture('fig_AN_Billiard.png')"
   ]
  },
  {
   "cell_type": "markdown",
   "metadata": {},
   "source": [
    "#### 的球の進路の計算\n",
    "$ x = 2r \\sin \\theta_2 $より，$d = 2r \\left( 1 - \\sin \\theta_2 \\right)$ を得る。このグラフを次に示す。"
   ]
  },
  {
   "cell_type": "code",
   "execution_count": null,
   "metadata": {},
   "outputs": [],
   "source": [
    "theta_2 = np.arange(0, 90+1, 5)\n",
    "r = 1\n",
    "d = 2*r*(1-np.sin( theta_2*np.pi/180 ))\n",
    "plt.plot(d, theta_2, c='k')\n",
    "plt.xlim(0, 2)\n",
    "plt.ylim(0, 90)\n",
    "plt.grid()\n",
    "plt.xlabel('$d$')\n",
    "plt.ylabel('$ \\\\theta_2 $ [deg]')\n",
    "#plt.savefig('fig_Anima_Billi_Relation.png')"
   ]
  },
  {
   "cell_type": "code",
   "execution_count": null,
   "metadata": {},
   "outputs": [],
   "source": [
    "for i in range(len(d)):\n",
    "    print(theta_2[i], d[i])"
   ]
  },
  {
   "cell_type": "code",
   "execution_count": null,
   "metadata": {},
   "outputs": [],
   "source": []
  }
 ],
 "metadata": {
  "kernelspec": {
   "display_name": "Python 3",
   "language": "python",
   "name": "python3"
  },
  "language_info": {
   "codemirror_mode": {
    "name": "ipython",
    "version": 3
   },
   "file_extension": ".py",
   "mimetype": "text/x-python",
   "name": "python",
   "nbconvert_exporter": "python",
   "pygments_lexer": "ipython3",
   "version": "3.7.4"
  }
 },
 "nbformat": 4,
 "nbformat_minor": 4
}
