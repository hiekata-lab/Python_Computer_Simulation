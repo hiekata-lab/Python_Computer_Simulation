{
 "cells": [
  {
   "cell_type": "markdown",
   "metadata": {},
   "source": [
    "# 実行時の注意\n",
    "JupyterLabを起動してからアニメーションが現れないときは，いったん終了して，<br>\n",
    "Jupyter notebookを起動してから１セル枚に実行してみください。<br>\n",
    "2020年9月現在，JupyterLabのグラフィックス表示機能やIPythonはまだ完全に作動していないようです。"
   ]
  },
  {
   "cell_type": "markdown",
   "metadata": {},
   "source": [
    "# VPythonを用いた単振り子のアニメーション\n",
    "\n",
    "ガリレオが発見したとされる振り子の等時性<br>\n",
    "https://www2.nhk.or.jp/school/movie/clip.cgi?das_id=D0005300756_00000<br>\n",
    "当時は，糸の長さが長く，少しの振れ角しか与えられなかった。しかも，精度の良い時計が無い時代に，周期性を確かめるために脈を利用するという知恵には敬服するものがある。\n",
    "\n",
    "小学校理科では，振り子の等時性：周期は，おもりの重さや振れ角に依存せず，糸の長さに依存すると説明している。<br>\n",
    "https://www.mext.go.jp/a_menu/shotou/new-cs/senseiouen/1304651.html<br>\n",
    "\n",
    "しかし，実際には振れ角により周期は変わる。<br>\n",
    "このことをアニメーションで示す。"
   ]
  },
  {
   "cell_type": "markdown",
   "metadata": {},
   "source": [
    "座標系：右手系<br>\n",
    "視点（view point）は$(0, y_{v0}, z_{v0})$，$(y_{v0}, z_{v0} > 0)$とする。<br>\n",
    "ここを起点とした視線方向を定めるための注視点を$(0, y_{v1}, z_{v1})$，$(0<y_{v1}<y_{v0}, z_{v1}<0)$とする。<br>\n",
    "左右はx軸（右方向がプラス方向），奥行きはz軸（遠方方向がマイナス方向），高さはy軸<br>\n",
    "床面はxz平面，床面のy座標は0<br>\n",
    "床面の端の中心のxz座標は(0,0)とする<br>\n",
    "VPythonのpos.x, pos.y, pos.z は次に対応する： Length, Height, Width<br>"
   ]
  },
  {
   "cell_type": "markdown",
   "metadata": {},
   "source": [
    "SciPy.orgのIntegratin and ODEs(scipy.ntegrate) https://docs.scipy.org/doc/scipy/reference/integrate.html<br>\n",
    "は古典的APIを持つodeint()よりもsolve_ivp()を勧めている。<br>\n",
    "scipy.integrate.solve_ivp: https://docs.scipy.org/doc/scipy/reference/generated/scipy.integrate.solve_ivp.html<br>\n",
    "この解法は幾つかあり，中でもRadauが良く用いられている。<br> https://ja.wikipedia.org/wiki/ルンゲ＝クッタ法のリスト<br>\n",
    "しかし，slove_ivp()の数値解は，数値だけでなく様々な計算情報も含んでおり，本計算には使いにくいため，odeint()を用いる。これはAPIが古いと言っているだけで，数値計算の能力は高いと述べている。\n"
   ]
  },
  {
   "cell_type": "code",
   "execution_count": null,
   "metadata": {
    "scrolled": true
   },
   "outputs": [],
   "source": [
    "# -*- coding: utf-8 -*-\n",
    "import numpy as np\n",
    "import vpython as vs\n",
    "import matplotlib.pyplot as plt \n",
    "from scipy.integrate import odeint\n",
    "from scipy.special import ellipk\n",
    "\n",
    "%matplotlib inline"
   ]
  },
  {
   "cell_type": "markdown",
   "metadata": {},
   "source": [
    "#### 単振り子の運動方程式\n",
    "Lagrangeの運動方程式より，単振り子の運動方程式は次で与えられる。\n",
    "$$\n",
    "m  \\frac{d^2 l \\theta}{dt^2}+ k  \\frac{d l \\theta}{dt} + mg \\sin \\theta = 0\n",
    "$$\n",
    "ここに，$l$: 糸の長さ$[m]$，$m$: 質量$[kg]$，$\\theta$: 振れ角[rad]，$g$: 重力加速度$[m/s^2]$, $k$:粘性減衰係数<br>\n",
    "$l \\theta$は弧の長さを表す。<br>\n",
    "ここでは，$k$は無いものとし，次の連立の1階微分方程式をモデルとして用いる。\n",
    "$$\n",
    "\\frac{d}{{dt}}\\theta (t) = \\omega (t) \\\\\n",
    " \\frac{d}{{dt}}\\omega (t)  =  - \\frac{g}{l} \\sin(t) \n",
    "$$"
   ]
  },
  {
   "cell_type": "code",
   "execution_count": null,
   "metadata": {},
   "outputs": [],
   "source": [
    "def dFunc(x, time, string_len, g):\n",
    "    dx0 = x[1]\n",
    "    dx1 = -(g/string_len)*np.sin(x[0]) # string_len:糸の長さ\n",
    "    return [dx0, dx1]"
   ]
  },
  {
   "cell_type": "code",
   "execution_count": null,
   "metadata": {},
   "outputs": [],
   "source": [
    "string1_len = 10\n",
    "theta1_ini = 20*(np.pi/180) # deg -> rad\n",
    "v1_ini= 0\n",
    "\n",
    "string2_len = 10\n",
    "theta2_ini = 60*(np.pi/180) # deg -> rad\n",
    "v2_ini = v1_ini"
   ]
  },
  {
   "cell_type": "markdown",
   "metadata": {},
   "source": [
    "#### 初めに，odeintを用いて，周期に関する数値解を求める。\n",
    "グラフをみて，2つの差を認識しにくい"
   ]
  },
  {
   "cell_type": "code",
   "execution_count": null,
   "metadata": {},
   "outputs": [],
   "source": [
    "g = 9.80665 # 重力加速度\n",
    "#time=np.linspace(0,6.9,100)\n",
    "time = np.arange(0, 10, 0.01)\n",
    "sol_1 = odeint(dFunc, [theta1_ini, v1_ini], time, args=(string1_len,g,))\n",
    "sol_2 = odeint(dFunc, [theta2_ini, v2_ini], time, args=(string2_len,g,))"
   ]
  },
  {
   "cell_type": "code",
   "execution_count": null,
   "metadata": {
    "scrolled": true
   },
   "outputs": [],
   "source": [
    "plt.plot(time, sol_1[:,0])\n",
    "plt.plot(time, sol_2[:,0])\n",
    "plt.legend([\"string1\", \"string2\"])\n",
    "plt.xlabel(\"time\")\n",
    "plt.ylabel(\"theta [rad]\")"
   ]
  },
  {
   "cell_type": "markdown",
   "metadata": {},
   "source": [
    "##### 2つの波形を見て周期が異なることがわかるが，その差はわずかである。"
   ]
  },
  {
   "cell_type": "markdown",
   "metadata": {},
   "source": [
    "#### 次のセルを実行すると，振り子CGの初期画面が静止状態で表示される。"
   ]
  },
  {
   "cell_type": "code",
   "execution_count": null,
   "metadata": {
    "scrolled": true
   },
   "outputs": [],
   "source": [
    "# Create Scene\n",
    "scene = vs.canvas(width=600, height=400, title='Pendulum Animation') # Enable to restart\n",
    "scene.camera.pos  = vs.vector(0, 6, 20)\n",
    "scene.camera.axis = vs.vector(0, 2, -100) - scene.camera.pos\n",
    "\n",
    "floor = vs.box(pos=vs.vector(0,0,0),length=40, height=0.1, width=60, color=vs.color.green)\n",
    "#floor.pos = vs.vector( 0, -(floor.height/2), floor.width/2) # 床の端の真ん中を原点とする\n",
    "#print(floor.pos)\n",
    "\n",
    "\n",
    "origin = vs.sphere(pos=vs.vector(0, 0, 0), radius=0.5, color=vs.color.red) # show original point of 3D space\n",
    "#org    = vs.sphere(pos=vs.vector(1, 0, 1), radius=0.5, color=vs.color.cyan) # exam. position\n",
    "\n",
    "bar_height = string1_len+2.0\n",
    "bar = vs.cylinder(pos=vs.vector(0, bar_height, 0), axis=vs.vector(0,0,-10), radius=0.5, color=vs.color.white)\n",
    "\n",
    "node1 = vs.vector(0, bar.pos.y, 0)\n",
    "end1 = vs.vector( string1_len*np.sin(theta1_ini),  bar.pos.y-string1_len*np.cos(theta1_ini), 0)\n",
    "str1 = vs.cylinder(pos=node1, axis=-(node1-end1), radius=0.02, color=vs.color.yellow)\n",
    "#m1 = vs.sphere(pos=end1, radius=1, color=vs.color.white)\n",
    "m1 = vs.cone(pos=end1, axis=vs.vector(0, -1, 0), radius=0.5, color=vs.color.white)\n",
    "\n",
    "node2 = vs.vector(0, bar.pos.y, -5)\n",
    "end2 = vs.vector( string2_len*np.sin(theta2_ini),  bar.pos.y-string2_len*np.cos(theta2_ini), node2.z)\n",
    "str2 = vs.cylinder(pos=node2, axis=-(node2-end2), radius=0.02, color=vs.color.yellow)\n",
    "#m2 = vs.sphere(pos=end2, radius=1, color=vs.color.white)\n",
    "m2 = vs.cone(pos=end2, axis=vs.vector(0, -1, 0), radius=0.5, color=vs.color.white)"
   ]
  },
  {
   "cell_type": "code",
   "execution_count": null,
   "metadata": {},
   "outputs": [],
   "source": [
    "# https://www.glowscript.org/docs/VPythonDocs/canvas.html\n",
    "#scene.capture('fig_Anima_Pandulum_01.png')"
   ]
  },
  {
   "cell_type": "markdown",
   "metadata": {},
   "source": [
    "#### 次のセルを実行すると上に示すアニメーションが開始する。"
   ]
  },
  {
   "cell_type": "code",
   "execution_count": null,
   "metadata": {},
   "outputs": [],
   "source": [
    "tstart, tend = 0.0, 0.0\n",
    "dt = 0.1\n",
    "nstep = 5\n",
    "theta1 = theta1_ini\n",
    "v1 = v1_ini\n",
    "\n",
    "theta2 = theta2_ini\n",
    "v2 = v2_ini\n",
    "\n",
    "for k in range(200):\n",
    "    vs.sleep(0.01)\n",
    "    tstart = k*dt\n",
    "    tend = (k+1)*dt\n",
    "    time = np.linspace(tstart, tend, nstep)\n",
    "    sol_1 = odeint(dFunc, [theta1, v1], time, args=(string1_len,g,))\n",
    "    sol_2 = odeint(dFunc, [theta2, v2], time, args=(string2_len,g,))\n",
    "\n",
    "    #    print(k,sol_1[k][0])\n",
    "    theta1 = sol_1[nstep-1][0] # angle\n",
    "    v1     = sol_1[nstep-1][1] # angular velocity\n",
    "\n",
    "    theta2 = sol_2[nstep-1][0]\n",
    "    v2     = sol_2[nstep-1][1]\n",
    "#    print(k,theta1)\n",
    "    end1 = vs.vector( string1_len*np.sin(theta1),  bar.pos.y-string1_len*np.cos(theta1), 0)\n",
    "#    print(end1)\n",
    "    str1.axis = -(node1-end1)\n",
    "    m1.pos = end1\n",
    "    \n",
    "    end2 = vs.vector( string2_len*np.sin(theta2),  bar.pos.y-string2_len*np.cos(theta2), node2.z)\n",
    "    str2.axis =-(node2-end2)\n",
    "    m2.pos = end2  "
   ]
  },
  {
   "cell_type": "markdown",
   "metadata": {},
   "source": [
    "### 完全楕円積分（Complete Elliptic Integral）を用いた周期の計算\n",
    "ref.<br>\n",
    "https://en.wikipedia.org/wiki/Pendulum_(mathematics)<br>\n",
    "https://docs.scipy.org/doc/scipy/reference/generated/scipy.special.ellipk.html"
   ]
  },
  {
   "cell_type": "code",
   "execution_count": null,
   "metadata": {},
   "outputs": [],
   "source": [
    "deg_list = np.arange(5, 95, 5) # 0 - 90, 5 deg step\n",
    "periodT = np.zeros(np.size(deg_list))\n",
    "k = 0\n",
    "for deg in deg_list:\n",
    "    periodT[k] = (2/np.pi)*ellipk( np.sin( (deg*np.pi/180)/2. )**2 )\n",
    "    print(k, deg, periodT[k])\n",
    "    k += 1"
   ]
  },
  {
   "cell_type": "code",
   "execution_count": null,
   "metadata": {},
   "outputs": [],
   "source": [
    "plt.plot(deg_list, periodT, marker='x')\n",
    "plt.xlabel('theta_M [deg]')\n",
    "plt.ylabel('T')\n",
    "plt.grid()\n",
    "#plt.savefig('fig_Anima_Pendulum_Analysis.png')\n",
    "\n",
    "plt.show()"
   ]
  },
  {
   "cell_type": "code",
   "execution_count": null,
   "metadata": {},
   "outputs": [],
   "source": []
  }
 ],
 "metadata": {
  "kernelspec": {
   "display_name": "Python 3",
   "language": "python",
   "name": "python3"
  },
  "language_info": {
   "codemirror_mode": {
    "name": "ipython",
    "version": 3
   },
   "file_extension": ".py",
   "mimetype": "text/x-python",
   "name": "python",
   "nbconvert_exporter": "python",
   "pygments_lexer": "ipython3",
   "version": "3.7.4"
  }
 },
 "nbformat": 4,
 "nbformat_minor": 4
}
