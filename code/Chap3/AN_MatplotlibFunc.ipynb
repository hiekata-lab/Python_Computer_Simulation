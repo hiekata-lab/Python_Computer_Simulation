{
 "cells": [
  {
   "cell_type": "markdown",
   "metadata": {},
   "source": [
    "# 実行時の注意\n",
    "JupyterLabを起動してからアニメーションが現れないときは，いったん終了して，<br>\n",
    "Jupyter notebookを起動してから１セル毎に実行してみください。<br>\n",
    "2020年9月現在，JupyterLabのグラフィックス表示機能やIPythonはまだ完全に作動していないようです。"
   ]
  },
  {
   "cell_type": "markdown",
   "metadata": {},
   "source": [
    "# matplotlibを用いたアニメーション\n",
    "内容：Axesのレンジ（範囲）を固定して，波形が流れるようなアニメーション<br>\n",
    "matplotlib.animation.FuncAnimation: https://matplotlib.org/api/_as_gen/matplotlib.animation.FuncAnimation.html"
   ]
  },
  {
   "cell_type": "markdown",
   "metadata": {},
   "source": [
    "#### 注意：\n",
    "このNotebookの実行は、1セル毎のstep by stepとしてください。アニメーションの実行でcallbackの解除などの問題があるため、\"Run All\"は描画が正しく行われないことがあります。"
   ]
  },
  {
   "cell_type": "code",
   "execution_count": null,
   "metadata": {},
   "outputs": [],
   "source": [
    "# -*- coding: utf-8 -*-\n",
    "import numpy as np\n",
    "import matplotlib.pyplot as plt\n",
    "import matplotlib.animation as animation\n",
    "\n",
    "%matplotlib nbagg"
   ]
  },
  {
   "cell_type": "markdown",
   "metadata": {},
   "source": [
    "#### plt.cla(), plt.clf(), plt.close()の違い\n",
    "https://matplotlib.org/api/pyplot_api.html <br>\n",
    "plt.cla()   # Clear Axes，現在のFigureの現在のアクティブなAxesをクリアする。<br>\n",
    "plt.clf()   # Clear Figure，現在の図形全体をクリアする。<br>\n",
    "plt.close() # Clear a Figure window，現在のグラフ用ウィンドウをクローズする。<br>"
   ]
  },
  {
   "cell_type": "markdown",
   "metadata": {},
   "source": [
    "### FuncAnimationの使用\n",
    "Doc:https://matplotlib.org/3.2.1/api/_as_gen/matplotlib.animation.FuncAnimation.html<br>"
   ]
  },
  {
   "cell_type": "code",
   "execution_count": null,
   "metadata": {},
   "outputs": [],
   "source": [
    "fig = plt.figure(figsize=(6,2))\n",
    "x = np.arange(0, 10, 0.01)\n",
    "\n",
    "def update(k, fig_title, Amp):\n",
    "    plt.cla()       # Figureの中のアクティブなAxesをクリア, eg. plt.clf() clear figure.\n",
    "    y = Amp*np.sin(x-k)\n",
    "    plt.plot(x, y, 'r')\n",
    "    plt.xlim(0, 10)\n",
    "    plt.ylim(-1.2*Amp, 1.2*Amp)\n",
    "    plt.title(fig_title + 'Frame k=' + str(k))\n",
    "\n",
    "# interval [ms],  frames: 描くフレーム数, repeat: Falseは1回のみ，Trueは繰返しプロット\n",
    "ani = animation.FuncAnimation(fig, update, fargs = ('Animation, ', 1.8), \\\n",
    "    interval = 100, frames = 32, repeat=False)\n",
    "\n",
    "plt.show()"
   ]
  },
  {
   "cell_type": "code",
   "execution_count": null,
   "metadata": {},
   "outputs": [],
   "source": [
    "#plt.savefig('fig_AN_MatplotlibFunc01.png')"
   ]
  },
  {
   "cell_type": "code",
   "execution_count": null,
   "metadata": {},
   "outputs": [],
   "source": [
    "#plt.clf()"
   ]
  },
  {
   "cell_type": "code",
   "execution_count": null,
   "metadata": {},
   "outputs": [],
   "source": [
    "fig = plt.figure(figsize=(6,2))\n",
    "\n",
    "xstart, xend, xdt = 0, 10, 0.05\n",
    "x = np.arange(xstart, xend, xdt)\n",
    "\n",
    "def update2(k, fig_title, coef):\n",
    "    plt.cla()    # Axesをクリア , Figureの中のアクティブなAxesをクリア\n",
    "    x = np.arange(xstart+k*xdt, xend+k*xdt, xdt)\n",
    "#    x = x+xdt  #これにすると描画が行われない。\n",
    "    y = np.exp( -coef*(np.sin(x)**2))*np.cos(x)\n",
    "    plt.plot(x, y, c='r')\n",
    "    plt.title(fig_title + 'Frame k=' + str(k))\n",
    "    plt.ylim(-1.2, 1.2)\n",
    "\n",
    "\n",
    "ani = animation.FuncAnimation(fig, update2, fargs = ('Animation  ', 5.0), \\\n",
    "    interval = 10, frames = 150, repeat=False)\n",
    "\n",
    "plt.show()"
   ]
  },
  {
   "cell_type": "code",
   "execution_count": null,
   "metadata": {},
   "outputs": [],
   "source": [
    "#plt.savefig('fig_AN_MatplotlibFunc02.png')"
   ]
  },
  {
   "cell_type": "code",
   "execution_count": null,
   "metadata": {},
   "outputs": [],
   "source": [
    "#plt.close()"
   ]
  },
  {
   "cell_type": "code",
   "execution_count": null,
   "metadata": {},
   "outputs": [],
   "source": []
  }
 ],
 "metadata": {
  "kernelspec": {
   "display_name": "Python 3",
   "language": "python",
   "name": "python3"
  },
  "language_info": {
   "codemirror_mode": {
    "name": "ipython",
    "version": 3
   },
   "file_extension": ".py",
   "mimetype": "text/x-python",
   "name": "python",
   "nbconvert_exporter": "python",
   "pygments_lexer": "ipython3",
   "version": "3.7.4"
  }
 },
 "nbformat": 4,
 "nbformat_minor": 4
}
